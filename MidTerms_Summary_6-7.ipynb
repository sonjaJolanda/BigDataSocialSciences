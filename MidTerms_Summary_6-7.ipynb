{
 "cells": [
  {
   "cell_type": "markdown",
   "metadata": {
    "pycharm": {
     "name": "#%% md\n"
    }
   },
   "source": [
    "# MidTerm Summary"
   ]
  },
  {
   "cell_type": "markdown",
   "source": [
    "## Bag of Words"
   ],
   "metadata": {
    "collapsed": false,
    "pycharm": {
     "name": "#%% md\n"
    }
   }
  },
  {
   "cell_type": "code",
   "execution_count": 84,
   "outputs": [
    {
     "name": "stdout",
     "output_type": "stream",
     "text": [
      "{'regularly': 42, 'thoroughly': 49, 'clean': 8, 'hands': 31, 'alcohol': 1, 'based': 3, 'hand': 29, 'rub': 44, 'wash': 58, 'soap': 47, 'water': 59, 'eliminates': 19, 'germs': 27, 'including': 34, 'viruses': 57, 'avoid': 2, 'touching': 53, 'eyes': 22, 'nose': 37, 'mouth': 36, 'touch': 51, 'surfaces': 48, 'pick': 40, 'contaminated': 11, 'transfer': 54, 'virus': 56, 'enter': 20, 'body': 6, 'infect': 35, 'cover': 13, 'bent': 4, 'elbow': 18, 'tissue': 50, 'cough': 12, 'sneeze': 46, 'dispose': 16, 'used': 55, 'immediately': 33, 'closed': 9, 'bin': 5, 'following': 25, 'good': 28, 'respiratory': 43, 'hygiene': 32, 'protect': 41, 'people': 38, 'cause': 7, 'colds': 10, 'flu': 24, 'covid': 14, '19': 0, 'disinfect': 15, 'frequently': 26, 'especially': 21, 'touched': 52, 'door': 17, 'handles': 30, 'faucets': 23, 'phone': 39, 'screens': 45}\n"
     ]
    }
   ],
   "source": [
    "from sklearn.feature_extraction.text import CountVectorizer\n",
    "import nltk\n",
    "\n",
    "vectorizer = CountVectorizer(stop_words='english')\n",
    "# CountVectorizer(lowercase=False)\n",
    "# CountVectorizer()\n",
    "# print(vectorizer.get_stop_words())\n",
    "sentences = \"\"\"\n",
    "Regularly and thoroughly clean your hands with an alcohol-based hand rub or wash them with soap and water.\n",
    "This eliminates germs including viruses that may be on your hands.\n",
    "Avoid touching your eyes, nose and mouth.\n",
    "Hands touch many surfaces and can pick up viruses.\n",
    "Once contaminated, hands can transfer the virus to your eyes, nose or mouth.\n",
    "From there, the virus can enter your body and infect you.\n",
    "Cover your mouth and nose with your bent elbow or tissue when you cough or sneeze.\n",
    "Then dispose of the used tissue immediately into a closed bin and wash your hands.\n",
    "By following good ‘respiratory hygiene’, you protect the people around you from viruses, which cause colds, flu and COVID-19.\n",
    "Clean and disinfect surfaces frequently especially those which are regularly touched,\n",
    "such as door handles, faucets and phone screens or mouth.\n",
    "From there, the virus can enter your body and infect you.\n",
    "\"\"\"\n",
    "tokenized_sentences = nltk.sent_tokenize(sentences)\n",
    "vectorized_counter = vectorizer.fit(tokenized_sentences)\n",
    "print(vectorized_counter.vocabulary_)  # the numbers are the place in the array for which the number stands"
   ],
   "metadata": {
    "collapsed": false,
    "pycharm": {
     "name": "#%%\n"
    }
   }
  },
  {
   "cell_type": "code",
   "execution_count": 85,
   "outputs": [
    {
     "data": {
      "text/plain": "58"
     },
     "execution_count": 85,
     "metadata": {},
     "output_type": "execute_result"
    }
   ],
   "source": [
    "vectorized_counter.vocabulary_.get('wash')  # just to get the number for wash"
   ],
   "metadata": {
    "collapsed": false,
    "pycharm": {
     "name": "#%%\n"
    }
   }
  },
  {
   "cell_type": "code",
   "execution_count": 86,
   "outputs": [
    {
     "name": "stdout",
     "output_type": "stream",
     "text": [
      "[[0 1 0 1 0 0 0 0 1 0 0 0 0 0 0 0 0 0 0 0 0 0 0 0 0 0 0 0 0 1 0 1 0 0 0 0\n",
      "  0 0 0 0 0 0 1 0 1 0 0 1 0 1 0 0 0 0 0 0 0 0 1 1]\n",
      " [0 0 0 0 0 0 0 0 0 0 0 0 0 0 0 0 0 0 0 1 0 0 0 0 0 0 0 1 0 0 0 1 0 0 1 0\n",
      "  0 0 0 0 0 0 0 0 0 0 0 0 0 0 0 0 0 0 0 0 0 1 0 0]\n",
      " [0 0 1 0 0 0 0 0 0 0 0 0 0 0 0 0 0 0 0 0 0 0 1 0 0 0 0 0 0 0 0 0 0 0 0 0\n",
      "  1 1 0 0 0 0 0 0 0 0 0 0 0 0 0 0 0 1 0 0 0 0 0 0]\n",
      " [0 0 0 0 0 0 0 0 0 0 0 0 0 0 0 0 0 0 0 0 0 0 0 0 0 0 0 0 0 0 0 1 0 0 0 0\n",
      "  0 0 0 0 1 0 0 0 0 0 0 0 1 0 0 1 0 0 0 0 0 1 0 0]\n",
      " [0 0 0 0 0 0 0 0 0 0 0 1 0 0 0 0 0 0 0 0 0 0 1 0 0 0 0 0 0 0 0 1 0 0 0 0\n",
      "  1 1 0 0 0 0 0 0 0 0 0 0 0 0 0 0 0 0 1 0 1 0 0 0]\n",
      " [0 0 0 0 0 0 1 0 0 0 0 0 0 0 0 0 0 0 0 0 1 0 0 0 0 0 0 0 0 0 0 0 0 0 0 1\n",
      "  0 0 0 0 0 0 0 0 0 0 0 0 0 0 0 0 0 0 0 0 1 0 0 0]\n",
      " [0 0 0 0 1 0 0 0 0 0 0 0 1 1 0 0 0 0 1 0 0 0 0 0 0 0 0 0 0 0 0 0 0 0 0 0\n",
      "  1 1 0 0 0 0 0 0 0 0 1 0 0 0 1 0 0 0 0 0 0 0 0 0]\n",
      " [0 0 0 0 0 1 0 0 0 1 0 0 0 0 0 0 1 0 0 0 0 0 0 0 0 0 0 0 0 0 0 1 0 1 0 0\n",
      "  0 0 0 0 0 0 0 0 0 0 0 0 0 0 1 0 0 0 0 1 0 0 1 0]\n",
      " [1 0 0 0 0 0 0 1 0 0 1 0 0 0 1 0 0 0 0 0 0 0 0 0 1 1 0 0 1 0 0 0 1 0 0 0\n",
      "  0 0 1 0 0 1 0 1 0 0 0 0 0 0 0 0 0 0 0 0 0 1 0 0]\n",
      " [0 0 0 0 0 0 0 0 1 0 0 0 0 0 0 1 0 1 0 0 0 1 0 1 0 0 1 0 0 0 1 0 0 0 0 0\n",
      "  1 0 0 1 0 0 1 0 0 1 0 0 1 0 0 0 1 0 0 0 0 0 0 0]\n",
      " [0 0 0 0 0 0 1 0 0 0 0 0 0 0 0 0 0 0 0 0 1 0 0 0 0 0 0 0 0 0 0 0 0 0 0 1\n",
      "  0 0 0 0 0 0 0 0 0 0 0 0 0 0 0 0 0 0 0 0 1 0 0 0]]\n"
     ]
    }
   ],
   "source": [
    "ft = vectorizer.fit_transform(tokenized_sentences)\n",
    "count_array = ft.toarray()\n",
    "print(count_array)\n",
    "# print(count_array.shape)  # 11 sentences, and 60 unique words in these sentences"
   ],
   "metadata": {
    "collapsed": false,
    "pycharm": {
     "name": "#%%\n"
    }
   }
  },
  {
   "cell_type": "code",
   "execution_count": 87,
   "outputs": [
    {
     "data": {
      "text/plain": "array(['19', 'alcohol', 'avoid', 'based', 'bent', 'bin', 'body', 'cause',\n       'clean', 'closed', 'colds', 'contaminated', 'cough', 'cover',\n       'covid', 'disinfect', 'dispose', 'door', 'elbow', 'eliminates',\n       'enter', 'especially', 'eyes', 'faucets', 'flu', 'following',\n       'frequently', 'germs', 'good', 'hand', 'handles', 'hands',\n       'hygiene', 'immediately', 'including', 'infect', 'mouth', 'nose',\n       'people', 'phone', 'pick', 'protect', 'regularly', 'respiratory',\n       'rub', 'screens', 'sneeze', 'soap', 'surfaces', 'thoroughly',\n       'tissue', 'touch', 'touched', 'touching', 'transfer', 'used',\n       'virus', 'viruses', 'wash', 'water'], dtype=object)"
     },
     "execution_count": 87,
     "metadata": {},
     "output_type": "execute_result"
    }
   ],
   "source": [
    "count_token = vectorizer.get_feature_names_out()\n",
    "count_token"
   ],
   "metadata": {
    "collapsed": false,
    "pycharm": {
     "name": "#%%\n"
    }
   }
  },
  {
   "cell_type": "code",
   "execution_count": 88,
   "outputs": [
    {
     "data": {
      "text/plain": "    19  alcohol  avoid  based  bent  bin  body  cause  clean  closed  ...  \\\n0    0        1      0      1     0    0     0      0      1       0  ...   \n1    0        0      0      0     0    0     0      0      0       0  ...   \n2    0        0      1      0     0    0     0      0      0       0  ...   \n3    0        0      0      0     0    0     0      0      0       0  ...   \n4    0        0      0      0     0    0     0      0      0       0  ...   \n5    0        0      0      0     0    0     1      0      0       0  ...   \n6    0        0      0      0     1    0     0      0      0       0  ...   \n7    0        0      0      0     0    1     0      0      0       1  ...   \n8    1        0      0      0     0    0     0      1      0       0  ...   \n9    0        0      0      0     0    0     0      0      1       0  ...   \n10   0        0      0      0     0    0     1      0      0       0  ...   \n\n    tissue  touch  touched  touching  transfer  used  virus  viruses  wash  \\\n0        0      0        0         0         0     0      0        0     1   \n1        0      0        0         0         0     0      0        1     0   \n2        0      0        0         1         0     0      0        0     0   \n3        0      1        0         0         0     0      0        1     0   \n4        0      0        0         0         1     0      1        0     0   \n5        0      0        0         0         0     0      1        0     0   \n6        1      0        0         0         0     0      0        0     0   \n7        1      0        0         0         0     1      0        0     1   \n8        0      0        0         0         0     0      0        1     0   \n9        0      0        1         0         0     0      0        0     0   \n10       0      0        0         0         0     0      1        0     0   \n\n    water  \n0       1  \n1       0  \n2       0  \n3       0  \n4       0  \n5       0  \n6       0  \n7       0  \n8       0  \n9       0  \n10      0  \n\n[11 rows x 60 columns]",
      "text/html": "<div>\n<style scoped>\n    .dataframe tbody tr th:only-of-type {\n        vertical-align: middle;\n    }\n\n    .dataframe tbody tr th {\n        vertical-align: top;\n    }\n\n    .dataframe thead th {\n        text-align: right;\n    }\n</style>\n<table border=\"1\" class=\"dataframe\">\n  <thead>\n    <tr style=\"text-align: right;\">\n      <th></th>\n      <th>19</th>\n      <th>alcohol</th>\n      <th>avoid</th>\n      <th>based</th>\n      <th>bent</th>\n      <th>bin</th>\n      <th>body</th>\n      <th>cause</th>\n      <th>clean</th>\n      <th>closed</th>\n      <th>...</th>\n      <th>tissue</th>\n      <th>touch</th>\n      <th>touched</th>\n      <th>touching</th>\n      <th>transfer</th>\n      <th>used</th>\n      <th>virus</th>\n      <th>viruses</th>\n      <th>wash</th>\n      <th>water</th>\n    </tr>\n  </thead>\n  <tbody>\n    <tr>\n      <th>0</th>\n      <td>0</td>\n      <td>1</td>\n      <td>0</td>\n      <td>1</td>\n      <td>0</td>\n      <td>0</td>\n      <td>0</td>\n      <td>0</td>\n      <td>1</td>\n      <td>0</td>\n      <td>...</td>\n      <td>0</td>\n      <td>0</td>\n      <td>0</td>\n      <td>0</td>\n      <td>0</td>\n      <td>0</td>\n      <td>0</td>\n      <td>0</td>\n      <td>1</td>\n      <td>1</td>\n    </tr>\n    <tr>\n      <th>1</th>\n      <td>0</td>\n      <td>0</td>\n      <td>0</td>\n      <td>0</td>\n      <td>0</td>\n      <td>0</td>\n      <td>0</td>\n      <td>0</td>\n      <td>0</td>\n      <td>0</td>\n      <td>...</td>\n      <td>0</td>\n      <td>0</td>\n      <td>0</td>\n      <td>0</td>\n      <td>0</td>\n      <td>0</td>\n      <td>0</td>\n      <td>1</td>\n      <td>0</td>\n      <td>0</td>\n    </tr>\n    <tr>\n      <th>2</th>\n      <td>0</td>\n      <td>0</td>\n      <td>1</td>\n      <td>0</td>\n      <td>0</td>\n      <td>0</td>\n      <td>0</td>\n      <td>0</td>\n      <td>0</td>\n      <td>0</td>\n      <td>...</td>\n      <td>0</td>\n      <td>0</td>\n      <td>0</td>\n      <td>1</td>\n      <td>0</td>\n      <td>0</td>\n      <td>0</td>\n      <td>0</td>\n      <td>0</td>\n      <td>0</td>\n    </tr>\n    <tr>\n      <th>3</th>\n      <td>0</td>\n      <td>0</td>\n      <td>0</td>\n      <td>0</td>\n      <td>0</td>\n      <td>0</td>\n      <td>0</td>\n      <td>0</td>\n      <td>0</td>\n      <td>0</td>\n      <td>...</td>\n      <td>0</td>\n      <td>1</td>\n      <td>0</td>\n      <td>0</td>\n      <td>0</td>\n      <td>0</td>\n      <td>0</td>\n      <td>1</td>\n      <td>0</td>\n      <td>0</td>\n    </tr>\n    <tr>\n      <th>4</th>\n      <td>0</td>\n      <td>0</td>\n      <td>0</td>\n      <td>0</td>\n      <td>0</td>\n      <td>0</td>\n      <td>0</td>\n      <td>0</td>\n      <td>0</td>\n      <td>0</td>\n      <td>...</td>\n      <td>0</td>\n      <td>0</td>\n      <td>0</td>\n      <td>0</td>\n      <td>1</td>\n      <td>0</td>\n      <td>1</td>\n      <td>0</td>\n      <td>0</td>\n      <td>0</td>\n    </tr>\n    <tr>\n      <th>5</th>\n      <td>0</td>\n      <td>0</td>\n      <td>0</td>\n      <td>0</td>\n      <td>0</td>\n      <td>0</td>\n      <td>1</td>\n      <td>0</td>\n      <td>0</td>\n      <td>0</td>\n      <td>...</td>\n      <td>0</td>\n      <td>0</td>\n      <td>0</td>\n      <td>0</td>\n      <td>0</td>\n      <td>0</td>\n      <td>1</td>\n      <td>0</td>\n      <td>0</td>\n      <td>0</td>\n    </tr>\n    <tr>\n      <th>6</th>\n      <td>0</td>\n      <td>0</td>\n      <td>0</td>\n      <td>0</td>\n      <td>1</td>\n      <td>0</td>\n      <td>0</td>\n      <td>0</td>\n      <td>0</td>\n      <td>0</td>\n      <td>...</td>\n      <td>1</td>\n      <td>0</td>\n      <td>0</td>\n      <td>0</td>\n      <td>0</td>\n      <td>0</td>\n      <td>0</td>\n      <td>0</td>\n      <td>0</td>\n      <td>0</td>\n    </tr>\n    <tr>\n      <th>7</th>\n      <td>0</td>\n      <td>0</td>\n      <td>0</td>\n      <td>0</td>\n      <td>0</td>\n      <td>1</td>\n      <td>0</td>\n      <td>0</td>\n      <td>0</td>\n      <td>1</td>\n      <td>...</td>\n      <td>1</td>\n      <td>0</td>\n      <td>0</td>\n      <td>0</td>\n      <td>0</td>\n      <td>1</td>\n      <td>0</td>\n      <td>0</td>\n      <td>1</td>\n      <td>0</td>\n    </tr>\n    <tr>\n      <th>8</th>\n      <td>1</td>\n      <td>0</td>\n      <td>0</td>\n      <td>0</td>\n      <td>0</td>\n      <td>0</td>\n      <td>0</td>\n      <td>1</td>\n      <td>0</td>\n      <td>0</td>\n      <td>...</td>\n      <td>0</td>\n      <td>0</td>\n      <td>0</td>\n      <td>0</td>\n      <td>0</td>\n      <td>0</td>\n      <td>0</td>\n      <td>1</td>\n      <td>0</td>\n      <td>0</td>\n    </tr>\n    <tr>\n      <th>9</th>\n      <td>0</td>\n      <td>0</td>\n      <td>0</td>\n      <td>0</td>\n      <td>0</td>\n      <td>0</td>\n      <td>0</td>\n      <td>0</td>\n      <td>1</td>\n      <td>0</td>\n      <td>...</td>\n      <td>0</td>\n      <td>0</td>\n      <td>1</td>\n      <td>0</td>\n      <td>0</td>\n      <td>0</td>\n      <td>0</td>\n      <td>0</td>\n      <td>0</td>\n      <td>0</td>\n    </tr>\n    <tr>\n      <th>10</th>\n      <td>0</td>\n      <td>0</td>\n      <td>0</td>\n      <td>0</td>\n      <td>0</td>\n      <td>0</td>\n      <td>1</td>\n      <td>0</td>\n      <td>0</td>\n      <td>0</td>\n      <td>...</td>\n      <td>0</td>\n      <td>0</td>\n      <td>0</td>\n      <td>0</td>\n      <td>0</td>\n      <td>0</td>\n      <td>1</td>\n      <td>0</td>\n      <td>0</td>\n      <td>0</td>\n    </tr>\n  </tbody>\n</table>\n<p>11 rows × 60 columns</p>\n</div>"
     },
     "execution_count": 88,
     "metadata": {},
     "output_type": "execute_result"
    }
   ],
   "source": [
    "import pandas as pd\n",
    "\n",
    "df_countvect = pd.DataFrame(data=count_array, columns=count_token)\n",
    "df_countvect"
   ],
   "metadata": {
    "collapsed": false,
    "pycharm": {
     "name": "#%%\n"
    }
   }
  },
  {
   "cell_type": "markdown",
   "source": [
    "## TF_IDF"
   ],
   "metadata": {
    "collapsed": false,
    "pycharm": {
     "name": "#%% md\n"
    }
   }
  },
  {
   "cell_type": "code",
   "execution_count": 89,
   "outputs": [
    {
     "name": "stdout",
     "output_type": "stream",
     "text": [
      "          19   alcohol     avoid     based      bent       bin      body  \\\n",
      "0   0.000000  0.323429  0.000000  0.323429  0.000000  0.000000  0.000000   \n",
      "1   0.000000  0.000000  0.000000  0.000000  0.000000  0.000000  0.000000   \n",
      "2   0.000000  0.000000  0.516605  0.000000  0.000000  0.000000  0.000000   \n",
      "3   0.000000  0.000000  0.000000  0.000000  0.000000  0.000000  0.000000   \n",
      "4   0.000000  0.000000  0.000000  0.000000  0.000000  0.000000  0.000000   \n",
      "5   0.000000  0.000000  0.000000  0.000000  0.000000  0.000000  0.514793   \n",
      "6   0.000000  0.000000  0.000000  0.000000  0.384986  0.000000  0.000000   \n",
      "7   0.000000  0.000000  0.000000  0.000000  0.000000  0.382666  0.000000   \n",
      "8   0.294053  0.000000  0.000000  0.000000  0.000000  0.000000  0.000000   \n",
      "9   0.000000  0.000000  0.000000  0.000000  0.000000  0.000000  0.000000   \n",
      "10  0.000000  0.000000  0.000000  0.000000  0.000000  0.000000  0.514793   \n",
      "\n",
      "       cause     clean    closed  ...    tissue     touch   touched  touching  \\\n",
      "0   0.000000  0.276455  0.000000  ...  0.000000  0.000000  0.000000  0.000000   \n",
      "1   0.000000  0.000000  0.000000  ...  0.000000  0.000000  0.000000  0.000000   \n",
      "2   0.000000  0.000000  0.000000  ...  0.000000  0.000000  0.000000  0.516605   \n",
      "3   0.000000  0.000000  0.000000  ...  0.000000  0.522457  0.000000  0.000000   \n",
      "4   0.000000  0.000000  0.000000  ...  0.000000  0.000000  0.000000  0.000000   \n",
      "5   0.000000  0.000000  0.000000  ...  0.000000  0.000000  0.000000  0.000000   \n",
      "6   0.000000  0.000000  0.000000  ...  0.329072  0.000000  0.000000  0.000000   \n",
      "7   0.000000  0.000000  0.382666  ...  0.327089  0.000000  0.000000  0.000000   \n",
      "8   0.294053  0.000000  0.000000  ...  0.000000  0.000000  0.000000  0.000000   \n",
      "9   0.000000  0.250502  0.000000  ...  0.000000  0.000000  0.293065  0.000000   \n",
      "10  0.000000  0.000000  0.000000  ...  0.000000  0.000000  0.000000  0.000000   \n",
      "\n",
      "    transfer      used     virus   viruses      wash     water  \n",
      "0   0.000000  0.000000  0.000000  0.000000  0.276455  0.323429  \n",
      "1   0.000000  0.000000  0.000000  0.379051  0.000000  0.000000  \n",
      "2   0.000000  0.000000  0.000000  0.000000  0.000000  0.000000  \n",
      "3   0.000000  0.000000  0.000000  0.392740  0.000000  0.000000  \n",
      "4   0.462255  0.000000  0.347485  0.000000  0.000000  0.000000  \n",
      "5   0.000000  0.000000  0.452731  0.000000  0.000000  0.000000  \n",
      "6   0.000000  0.000000  0.000000  0.000000  0.000000  0.000000  \n",
      "7   0.000000  0.382666  0.000000  0.000000  0.327089  0.000000  \n",
      "8   0.000000  0.000000  0.000000  0.221045  0.000000  0.000000  \n",
      "9   0.000000  0.000000  0.000000  0.000000  0.000000  0.000000  \n",
      "10  0.000000  0.000000  0.452731  0.000000  0.000000  0.000000  \n",
      "\n",
      "[11 rows x 60 columns]\n"
     ]
    }
   ],
   "source": [
    "from sklearn.feature_extraction.text import TfidfVectorizer\n",
    "\n",
    "tfidf = TfidfVectorizer(stop_words='english')\n",
    "tfidf_matrix = tfidf.fit_transform(tokenized_sentences)\n",
    "df_tfidfvect = pd.DataFrame(\n",
    "    data=tfidf_matrix.toarray(),\n",
    "    columns=tfidf.get_feature_names_out()\n",
    ")\n",
    "print(df_tfidfvect)"
   ],
   "metadata": {
    "collapsed": false,
    "pycharm": {
     "name": "#%%\n"
    }
   }
  },
  {
   "cell_type": "code",
   "execution_count": 90,
   "outputs": [
    {
     "data": {
      "text/plain": "           words  tf-idf score\n0             19      0.294053\n1        alcohol      0.323429\n2          avoid      0.516605\n3          based      0.323429\n4           bent      0.384986\n5            bin      0.382666\n6           body      1.029585\n7          cause      0.294053\n8          clean      0.526957\n9         closed      0.382666\n10         colds      0.294053\n11  contaminated      0.462255\n12         cough      0.384986\n13         cover      0.384986\n14         covid      0.294053\n15     disinfect      0.293065\n16       dispose      0.382666\n17          door      0.293065\n18         elbow      0.384986\n19    eliminates      0.504247\n20         enter      1.029585\n21    especially      0.293065\n22          eyes      0.836694\n23       faucets      0.293065\n24           flu      0.294053\n25     following      0.294053\n26    frequently      0.293065\n27         germs      0.504247\n28          good      0.294053\n29          hand      0.323429\n30       handles      0.293065\n31         hands      1.331257\n32       hygiene      0.294053\n33   immediately      0.382666\n34     including      0.504247\n35        infect      1.029585\n36         mouth      1.113092\n37          nose      1.025226\n38        people      0.294053\n39         phone      0.293065\n40          pick      0.522457\n41       protect      0.294053\n42     regularly      0.526957\n43   respiratory      0.294053\n44           rub      0.323429\n45       screens      0.293065\n46        sneeze      0.384986\n47          soap      0.323429\n48      surfaces      0.697079\n49    thoroughly      0.323429\n50        tissue      0.656161\n51         touch      0.522457\n52       touched      0.293065\n53      touching      0.516605\n54      transfer      0.462255\n55          used      0.382666\n56         virus      1.252948\n57       viruses      0.992836\n58          wash      0.603544\n59         water      0.323429",
      "text/html": "<div>\n<style scoped>\n    .dataframe tbody tr th:only-of-type {\n        vertical-align: middle;\n    }\n\n    .dataframe tbody tr th {\n        vertical-align: top;\n    }\n\n    .dataframe thead th {\n        text-align: right;\n    }\n</style>\n<table border=\"1\" class=\"dataframe\">\n  <thead>\n    <tr style=\"text-align: right;\">\n      <th></th>\n      <th>words</th>\n      <th>tf-idf score</th>\n    </tr>\n  </thead>\n  <tbody>\n    <tr>\n      <th>0</th>\n      <td>19</td>\n      <td>0.294053</td>\n    </tr>\n    <tr>\n      <th>1</th>\n      <td>alcohol</td>\n      <td>0.323429</td>\n    </tr>\n    <tr>\n      <th>2</th>\n      <td>avoid</td>\n      <td>0.516605</td>\n    </tr>\n    <tr>\n      <th>3</th>\n      <td>based</td>\n      <td>0.323429</td>\n    </tr>\n    <tr>\n      <th>4</th>\n      <td>bent</td>\n      <td>0.384986</td>\n    </tr>\n    <tr>\n      <th>5</th>\n      <td>bin</td>\n      <td>0.382666</td>\n    </tr>\n    <tr>\n      <th>6</th>\n      <td>body</td>\n      <td>1.029585</td>\n    </tr>\n    <tr>\n      <th>7</th>\n      <td>cause</td>\n      <td>0.294053</td>\n    </tr>\n    <tr>\n      <th>8</th>\n      <td>clean</td>\n      <td>0.526957</td>\n    </tr>\n    <tr>\n      <th>9</th>\n      <td>closed</td>\n      <td>0.382666</td>\n    </tr>\n    <tr>\n      <th>10</th>\n      <td>colds</td>\n      <td>0.294053</td>\n    </tr>\n    <tr>\n      <th>11</th>\n      <td>contaminated</td>\n      <td>0.462255</td>\n    </tr>\n    <tr>\n      <th>12</th>\n      <td>cough</td>\n      <td>0.384986</td>\n    </tr>\n    <tr>\n      <th>13</th>\n      <td>cover</td>\n      <td>0.384986</td>\n    </tr>\n    <tr>\n      <th>14</th>\n      <td>covid</td>\n      <td>0.294053</td>\n    </tr>\n    <tr>\n      <th>15</th>\n      <td>disinfect</td>\n      <td>0.293065</td>\n    </tr>\n    <tr>\n      <th>16</th>\n      <td>dispose</td>\n      <td>0.382666</td>\n    </tr>\n    <tr>\n      <th>17</th>\n      <td>door</td>\n      <td>0.293065</td>\n    </tr>\n    <tr>\n      <th>18</th>\n      <td>elbow</td>\n      <td>0.384986</td>\n    </tr>\n    <tr>\n      <th>19</th>\n      <td>eliminates</td>\n      <td>0.504247</td>\n    </tr>\n    <tr>\n      <th>20</th>\n      <td>enter</td>\n      <td>1.029585</td>\n    </tr>\n    <tr>\n      <th>21</th>\n      <td>especially</td>\n      <td>0.293065</td>\n    </tr>\n    <tr>\n      <th>22</th>\n      <td>eyes</td>\n      <td>0.836694</td>\n    </tr>\n    <tr>\n      <th>23</th>\n      <td>faucets</td>\n      <td>0.293065</td>\n    </tr>\n    <tr>\n      <th>24</th>\n      <td>flu</td>\n      <td>0.294053</td>\n    </tr>\n    <tr>\n      <th>25</th>\n      <td>following</td>\n      <td>0.294053</td>\n    </tr>\n    <tr>\n      <th>26</th>\n      <td>frequently</td>\n      <td>0.293065</td>\n    </tr>\n    <tr>\n      <th>27</th>\n      <td>germs</td>\n      <td>0.504247</td>\n    </tr>\n    <tr>\n      <th>28</th>\n      <td>good</td>\n      <td>0.294053</td>\n    </tr>\n    <tr>\n      <th>29</th>\n      <td>hand</td>\n      <td>0.323429</td>\n    </tr>\n    <tr>\n      <th>30</th>\n      <td>handles</td>\n      <td>0.293065</td>\n    </tr>\n    <tr>\n      <th>31</th>\n      <td>hands</td>\n      <td>1.331257</td>\n    </tr>\n    <tr>\n      <th>32</th>\n      <td>hygiene</td>\n      <td>0.294053</td>\n    </tr>\n    <tr>\n      <th>33</th>\n      <td>immediately</td>\n      <td>0.382666</td>\n    </tr>\n    <tr>\n      <th>34</th>\n      <td>including</td>\n      <td>0.504247</td>\n    </tr>\n    <tr>\n      <th>35</th>\n      <td>infect</td>\n      <td>1.029585</td>\n    </tr>\n    <tr>\n      <th>36</th>\n      <td>mouth</td>\n      <td>1.113092</td>\n    </tr>\n    <tr>\n      <th>37</th>\n      <td>nose</td>\n      <td>1.025226</td>\n    </tr>\n    <tr>\n      <th>38</th>\n      <td>people</td>\n      <td>0.294053</td>\n    </tr>\n    <tr>\n      <th>39</th>\n      <td>phone</td>\n      <td>0.293065</td>\n    </tr>\n    <tr>\n      <th>40</th>\n      <td>pick</td>\n      <td>0.522457</td>\n    </tr>\n    <tr>\n      <th>41</th>\n      <td>protect</td>\n      <td>0.294053</td>\n    </tr>\n    <tr>\n      <th>42</th>\n      <td>regularly</td>\n      <td>0.526957</td>\n    </tr>\n    <tr>\n      <th>43</th>\n      <td>respiratory</td>\n      <td>0.294053</td>\n    </tr>\n    <tr>\n      <th>44</th>\n      <td>rub</td>\n      <td>0.323429</td>\n    </tr>\n    <tr>\n      <th>45</th>\n      <td>screens</td>\n      <td>0.293065</td>\n    </tr>\n    <tr>\n      <th>46</th>\n      <td>sneeze</td>\n      <td>0.384986</td>\n    </tr>\n    <tr>\n      <th>47</th>\n      <td>soap</td>\n      <td>0.323429</td>\n    </tr>\n    <tr>\n      <th>48</th>\n      <td>surfaces</td>\n      <td>0.697079</td>\n    </tr>\n    <tr>\n      <th>49</th>\n      <td>thoroughly</td>\n      <td>0.323429</td>\n    </tr>\n    <tr>\n      <th>50</th>\n      <td>tissue</td>\n      <td>0.656161</td>\n    </tr>\n    <tr>\n      <th>51</th>\n      <td>touch</td>\n      <td>0.522457</td>\n    </tr>\n    <tr>\n      <th>52</th>\n      <td>touched</td>\n      <td>0.293065</td>\n    </tr>\n    <tr>\n      <th>53</th>\n      <td>touching</td>\n      <td>0.516605</td>\n    </tr>\n    <tr>\n      <th>54</th>\n      <td>transfer</td>\n      <td>0.462255</td>\n    </tr>\n    <tr>\n      <th>55</th>\n      <td>used</td>\n      <td>0.382666</td>\n    </tr>\n    <tr>\n      <th>56</th>\n      <td>virus</td>\n      <td>1.252948</td>\n    </tr>\n    <tr>\n      <th>57</th>\n      <td>viruses</td>\n      <td>0.992836</td>\n    </tr>\n    <tr>\n      <th>58</th>\n      <td>wash</td>\n      <td>0.603544</td>\n    </tr>\n    <tr>\n      <th>59</th>\n      <td>water</td>\n      <td>0.323429</td>\n    </tr>\n  </tbody>\n</table>\n</div>"
     },
     "execution_count": 90,
     "metadata": {},
     "output_type": "execute_result"
    }
   ],
   "source": [
    "word_count = pd.DataFrame({\n",
    "    'words': tfidf.get_feature_names_out(),\n",
    "    'tf-idf score': tfidf_matrix.sum(axis=0).flat\n",
    "})\n",
    "word_count"
   ],
   "metadata": {
    "collapsed": false,
    "pycharm": {
     "name": "#%%\n"
    }
   }
  },
  {
   "cell_type": "code",
   "execution_count": 91,
   "outputs": [
    {
     "data": {
      "text/plain": "           words  tf-idf score\n31         hands      1.331257\n56         virus      1.252948\n36         mouth      1.113092\n20         enter      1.029585\n35        infect      1.029585\n6           body      1.029585\n37          nose      1.025226\n57       viruses      0.992836\n22          eyes      0.836694\n48      surfaces      0.697079\n50        tissue      0.656161\n58          wash      0.603544\n42     regularly      0.526957\n8          clean      0.526957\n51         touch      0.522457\n40          pick      0.522457\n53      touching      0.516605\n2          avoid      0.516605\n34     including      0.504247\n19    eliminates      0.504247\n27         germs      0.504247\n11  contaminated      0.462255\n54      transfer      0.462255\n18         elbow      0.384986\n13         cover      0.384986\n12         cough      0.384986\n4           bent      0.384986\n46        sneeze      0.384986\n5            bin      0.382666\n33   immediately      0.382666\n16       dispose      0.382666\n9         closed      0.382666\n55          used      0.382666\n3          based      0.323429\n44           rub      0.323429\n47          soap      0.323429\n1        alcohol      0.323429\n29          hand      0.323429\n49    thoroughly      0.323429\n59         water      0.323429\n43   respiratory      0.294053\n0             19      0.294053\n41       protect      0.294053\n38        people      0.294053\n7          cause      0.294053\n32       hygiene      0.294053\n28          good      0.294053\n10         colds      0.294053\n25     following      0.294053\n24           flu      0.294053\n14         covid      0.294053\n17          door      0.293065\n15     disinfect      0.293065\n23       faucets      0.293065\n21    especially      0.293065\n52       touched      0.293065\n39         phone      0.293065\n26    frequently      0.293065\n45       screens      0.293065\n30       handles      0.293065",
      "text/html": "<div>\n<style scoped>\n    .dataframe tbody tr th:only-of-type {\n        vertical-align: middle;\n    }\n\n    .dataframe tbody tr th {\n        vertical-align: top;\n    }\n\n    .dataframe thead th {\n        text-align: right;\n    }\n</style>\n<table border=\"1\" class=\"dataframe\">\n  <thead>\n    <tr style=\"text-align: right;\">\n      <th></th>\n      <th>words</th>\n      <th>tf-idf score</th>\n    </tr>\n  </thead>\n  <tbody>\n    <tr>\n      <th>31</th>\n      <td>hands</td>\n      <td>1.331257</td>\n    </tr>\n    <tr>\n      <th>56</th>\n      <td>virus</td>\n      <td>1.252948</td>\n    </tr>\n    <tr>\n      <th>36</th>\n      <td>mouth</td>\n      <td>1.113092</td>\n    </tr>\n    <tr>\n      <th>20</th>\n      <td>enter</td>\n      <td>1.029585</td>\n    </tr>\n    <tr>\n      <th>35</th>\n      <td>infect</td>\n      <td>1.029585</td>\n    </tr>\n    <tr>\n      <th>6</th>\n      <td>body</td>\n      <td>1.029585</td>\n    </tr>\n    <tr>\n      <th>37</th>\n      <td>nose</td>\n      <td>1.025226</td>\n    </tr>\n    <tr>\n      <th>57</th>\n      <td>viruses</td>\n      <td>0.992836</td>\n    </tr>\n    <tr>\n      <th>22</th>\n      <td>eyes</td>\n      <td>0.836694</td>\n    </tr>\n    <tr>\n      <th>48</th>\n      <td>surfaces</td>\n      <td>0.697079</td>\n    </tr>\n    <tr>\n      <th>50</th>\n      <td>tissue</td>\n      <td>0.656161</td>\n    </tr>\n    <tr>\n      <th>58</th>\n      <td>wash</td>\n      <td>0.603544</td>\n    </tr>\n    <tr>\n      <th>42</th>\n      <td>regularly</td>\n      <td>0.526957</td>\n    </tr>\n    <tr>\n      <th>8</th>\n      <td>clean</td>\n      <td>0.526957</td>\n    </tr>\n    <tr>\n      <th>51</th>\n      <td>touch</td>\n      <td>0.522457</td>\n    </tr>\n    <tr>\n      <th>40</th>\n      <td>pick</td>\n      <td>0.522457</td>\n    </tr>\n    <tr>\n      <th>53</th>\n      <td>touching</td>\n      <td>0.516605</td>\n    </tr>\n    <tr>\n      <th>2</th>\n      <td>avoid</td>\n      <td>0.516605</td>\n    </tr>\n    <tr>\n      <th>34</th>\n      <td>including</td>\n      <td>0.504247</td>\n    </tr>\n    <tr>\n      <th>19</th>\n      <td>eliminates</td>\n      <td>0.504247</td>\n    </tr>\n    <tr>\n      <th>27</th>\n      <td>germs</td>\n      <td>0.504247</td>\n    </tr>\n    <tr>\n      <th>11</th>\n      <td>contaminated</td>\n      <td>0.462255</td>\n    </tr>\n    <tr>\n      <th>54</th>\n      <td>transfer</td>\n      <td>0.462255</td>\n    </tr>\n    <tr>\n      <th>18</th>\n      <td>elbow</td>\n      <td>0.384986</td>\n    </tr>\n    <tr>\n      <th>13</th>\n      <td>cover</td>\n      <td>0.384986</td>\n    </tr>\n    <tr>\n      <th>12</th>\n      <td>cough</td>\n      <td>0.384986</td>\n    </tr>\n    <tr>\n      <th>4</th>\n      <td>bent</td>\n      <td>0.384986</td>\n    </tr>\n    <tr>\n      <th>46</th>\n      <td>sneeze</td>\n      <td>0.384986</td>\n    </tr>\n    <tr>\n      <th>5</th>\n      <td>bin</td>\n      <td>0.382666</td>\n    </tr>\n    <tr>\n      <th>33</th>\n      <td>immediately</td>\n      <td>0.382666</td>\n    </tr>\n    <tr>\n      <th>16</th>\n      <td>dispose</td>\n      <td>0.382666</td>\n    </tr>\n    <tr>\n      <th>9</th>\n      <td>closed</td>\n      <td>0.382666</td>\n    </tr>\n    <tr>\n      <th>55</th>\n      <td>used</td>\n      <td>0.382666</td>\n    </tr>\n    <tr>\n      <th>3</th>\n      <td>based</td>\n      <td>0.323429</td>\n    </tr>\n    <tr>\n      <th>44</th>\n      <td>rub</td>\n      <td>0.323429</td>\n    </tr>\n    <tr>\n      <th>47</th>\n      <td>soap</td>\n      <td>0.323429</td>\n    </tr>\n    <tr>\n      <th>1</th>\n      <td>alcohol</td>\n      <td>0.323429</td>\n    </tr>\n    <tr>\n      <th>29</th>\n      <td>hand</td>\n      <td>0.323429</td>\n    </tr>\n    <tr>\n      <th>49</th>\n      <td>thoroughly</td>\n      <td>0.323429</td>\n    </tr>\n    <tr>\n      <th>59</th>\n      <td>water</td>\n      <td>0.323429</td>\n    </tr>\n    <tr>\n      <th>43</th>\n      <td>respiratory</td>\n      <td>0.294053</td>\n    </tr>\n    <tr>\n      <th>0</th>\n      <td>19</td>\n      <td>0.294053</td>\n    </tr>\n    <tr>\n      <th>41</th>\n      <td>protect</td>\n      <td>0.294053</td>\n    </tr>\n    <tr>\n      <th>38</th>\n      <td>people</td>\n      <td>0.294053</td>\n    </tr>\n    <tr>\n      <th>7</th>\n      <td>cause</td>\n      <td>0.294053</td>\n    </tr>\n    <tr>\n      <th>32</th>\n      <td>hygiene</td>\n      <td>0.294053</td>\n    </tr>\n    <tr>\n      <th>28</th>\n      <td>good</td>\n      <td>0.294053</td>\n    </tr>\n    <tr>\n      <th>10</th>\n      <td>colds</td>\n      <td>0.294053</td>\n    </tr>\n    <tr>\n      <th>25</th>\n      <td>following</td>\n      <td>0.294053</td>\n    </tr>\n    <tr>\n      <th>24</th>\n      <td>flu</td>\n      <td>0.294053</td>\n    </tr>\n    <tr>\n      <th>14</th>\n      <td>covid</td>\n      <td>0.294053</td>\n    </tr>\n    <tr>\n      <th>17</th>\n      <td>door</td>\n      <td>0.293065</td>\n    </tr>\n    <tr>\n      <th>15</th>\n      <td>disinfect</td>\n      <td>0.293065</td>\n    </tr>\n    <tr>\n      <th>23</th>\n      <td>faucets</td>\n      <td>0.293065</td>\n    </tr>\n    <tr>\n      <th>21</th>\n      <td>especially</td>\n      <td>0.293065</td>\n    </tr>\n    <tr>\n      <th>52</th>\n      <td>touched</td>\n      <td>0.293065</td>\n    </tr>\n    <tr>\n      <th>39</th>\n      <td>phone</td>\n      <td>0.293065</td>\n    </tr>\n    <tr>\n      <th>26</th>\n      <td>frequently</td>\n      <td>0.293065</td>\n    </tr>\n    <tr>\n      <th>45</th>\n      <td>screens</td>\n      <td>0.293065</td>\n    </tr>\n    <tr>\n      <th>30</th>\n      <td>handles</td>\n      <td>0.293065</td>\n    </tr>\n  </tbody>\n</table>\n</div>"
     },
     "execution_count": 91,
     "metadata": {},
     "output_type": "execute_result"
    }
   ],
   "source": [
    "word_count.sort_values(by=['tf-idf score'], ascending=False)"
   ],
   "metadata": {
    "collapsed": false,
    "pycharm": {
     "name": "#%%\n"
    }
   }
  },
  {
   "cell_type": "markdown",
   "source": [
    "## Sentiment Analysis"
   ],
   "metadata": {
    "collapsed": false,
    "pycharm": {
     "name": "#%% md\n"
    }
   }
  },
  {
   "cell_type": "code",
   "execution_count": 92,
   "outputs": [],
   "source": [
    "imdb = pd.read_csv('week7/imdb_dataset.csv', nrows=10000, encoding='cp949')\n",
    "# encoding: just test which one works: utf-8, utf-16, euc-kr, cp949, latin_1"
   ],
   "metadata": {
    "collapsed": false,
    "pycharm": {
     "name": "#%%\n"
    }
   }
  },
  {
   "cell_type": "code",
   "execution_count": 93,
   "outputs": [],
   "source": [
    "# PREPROCESSING\n",
    "import pandas as pd\n",
    "\n",
    "reviews = pd.DataFrame(imdb)\n",
    "#print(reviews)\n",
    "\n",
    "from nltk.corpus import stopwords\n",
    "\n",
    "stop_words = stopwords.words('english')\n",
    "import re\n",
    "\n",
    "\n",
    "def filter(review):\n",
    "    review_regexed = re.sub(r'<.*?>', '', review)\n",
    "    review_filtered = (word for word in review_regexed.split() if word not in stop_words)\n",
    "    return \" \".join(review_filtered)\n",
    "\n",
    "reviews['review processed'] = reviews['review'].apply(lambda rev: filter(rev))"
   ],
   "metadata": {
    "collapsed": false,
    "pycharm": {
     "name": "#%%\n"
    }
   }
  },
  {
   "cell_type": "code",
   "execution_count": 94,
   "outputs": [
    {
     "name": "stdout",
     "output_type": "stream",
     "text": [
      "                                                 review sentiment  \\\n",
      "0     One of the other reviewers has mentioned that ...  positive   \n",
      "1     A wonderful little production. <br /><br />The...  positive   \n",
      "2     I thought this was a wonderful way to spend ti...  positive   \n",
      "3     Basically there's a family where a little boy ...  negative   \n",
      "4     Petter Mattei's \"Love in the Time of Money\" is...  positive   \n",
      "...                                                 ...       ...   \n",
      "9995  Fun, entertaining movie about WWII German spy ...  positive   \n",
      "9996  Give me a break. How can anyone say that this ...  negative   \n",
      "9997  This movie is a bad movie. But after watching ...  negative   \n",
      "9998  This is a movie that was probably made to ente...  negative   \n",
      "9999  Smashing film about film-making. Shows the int...  positive   \n",
      "\n",
      "                                       review processed  polarity  \\\n",
      "0     One reviewers mentioned watching 1 Oz episode ...  0.041946   \n",
      "1     A wonderful little production. The filming tec...  0.125651   \n",
      "2     I thought wonderful way spend time hot summer ...  0.278571   \n",
      "3     Basically there's family little boy (Jake) thi... -0.057813   \n",
      "4     Petter Mattei's \"Love Time Money\" visually stu...  0.239534   \n",
      "...                                                 ...       ...   \n",
      "9995  Fun, entertaining movie WWII German spy (Julie...  0.267659   \n",
      "9996  Give break. How anyone say \"good hockey movie\"...  0.048831   \n",
      "9997  This movie bad movie. But watching endless ser... -0.011169   \n",
      "9998  This movie probably made entertain middle scho...  0.009250   \n",
      "9999  Smashing film film-making. Shows intense stran...  0.120536   \n",
      "\n",
      "      subjectivity  \n",
      "0         0.498325  \n",
      "1         0.567708  \n",
      "2         0.699160  \n",
      "3         0.454167  \n",
      "4         0.410045  \n",
      "...            ...  \n",
      "9995      0.515873  \n",
      "9996      0.482378  \n",
      "9997      0.583236  \n",
      "9998      0.562694  \n",
      "9999      0.531250  \n",
      "\n",
      "[10000 rows x 5 columns]\n"
     ]
    }
   ],
   "source": [
    "from textblob import TextBlob\n",
    "\n",
    "reviews['polarity'] = reviews['review processed'].apply(lambda rev: TextBlob(rev).polarity)\n",
    "reviews['subjectivity'] = reviews['review processed'].apply(lambda rev: TextBlob(rev).subjectivity)\n",
    "print(reviews)"
   ],
   "metadata": {
    "collapsed": false,
    "pycharm": {
     "name": "#%%\n"
    }
   }
  },
  {
   "cell_type": "code",
   "execution_count": 95,
   "outputs": [
    {
     "name": "stderr",
     "output_type": "stream",
     "text": [
      "UsageError: Line magic function `%` not found.\n"
     ]
    }
   ],
   "source": [
    "import seaborn as sns\n",
    "% matplotlib inline\n",
    "sns.displot(reviews['polarity'])"
   ],
   "metadata": {
    "collapsed": false,
    "pycharm": {
     "name": "#%%\n"
    }
   }
  },
  {
   "cell_type": "markdown",
   "metadata": {
    "pycharm": {
     "name": "#%% md\n"
    }
   },
   "source": [
    "##  Nice to Know"
   ]
  },
  {
   "cell_type": "code",
   "execution_count": null,
   "metadata": {
    "pycharm": {
     "name": "#%%\n"
    }
   },
   "outputs": [],
   "source": [
    "(print(x) for x in range(1, 11))  # from 1 to 10 ToDo warum geht das nicht??????"
   ]
  },
  {
   "cell_type": "markdown",
   "source": [],
   "metadata": {
    "collapsed": false,
    "pycharm": {
     "name": "#%% md\n"
    }
   }
  }
 ],
 "metadata": {
  "kernelspec": {
   "display_name": "Python 3 (ipykernel)",
   "language": "python",
   "name": "python3"
  },
  "language_info": {
   "codemirror_mode": {
    "name": "ipython",
    "version": 3
   },
   "file_extension": ".py",
   "mimetype": "text/x-python",
   "name": "python",
   "nbconvert_exporter": "python",
   "pygments_lexer": "ipython3",
   "version": "3.9.12"
  }
 },
 "nbformat": 4,
 "nbformat_minor": 2
}