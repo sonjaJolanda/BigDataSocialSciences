{
 "cells": [
  {
   "cell_type": "markdown",
   "id": "09e395a0",
   "metadata": {
    "pycharm": {
     "name": "#%% md\n"
    }
   },
   "source": [
    "# <font color='red'> <2022 Midterm Exam>  </font>\n",
    "You have  until **2:15pm** to finish the exam. \n",
    "\n",
    "You are <font color='red'>**NOT**</font> allowed to go through our <font color='red'> **class material files**, **lecture slides**, or **google** </font>. <br>\n",
    "If you get caught, then you will be given 0 for your entire final exam score, including LMS **WITHOUT ANY EXCEPTION.**\n",
    "\n",
    "You have to UPLOAD your exam by **2:15pm**. I will be closing the upload at 2:15pm sharp.<br>\n",
    "If you are done, save it and upload it on LMS. <br>\n",
    "If you have any question, please ask me! <br>\n",
    "\n",
    "Please make sure that you READ and FOLLOW the given instructions carefully. <br>\n",
    "eg) if I ask you to create a variable named <code>abc</code>, then please create a variable with the EXACT name.<br>\n",
    "If you create a variable as <code>ABC</code> or <code>cde</code> then I will considered to have not followed the written instructions. <br>\n",
    "Therefore, marks will be deducted.\n",
    "<br><br>\n",
    "If you have any questions, please raise your hand<br>\n",
    "Good luck!"
   ]
  },
  {
   "cell_type": "markdown",
   "id": "c5998c09",
   "metadata": {
    "pycharm": {
     "name": "#%% md\n"
    }
   },
   "source": [
    "# <font color='red'> Question 1: 2 points"
   ]
  },
  {
   "cell_type": "markdown",
   "id": "a0c28a61",
   "metadata": {
    "pycharm": {
     "name": "#%% md\n"
    }
   },
   "source": [
    "I would like to import pandas library with the alias pd. Write one line code that would do so."
   ]
  },
  {
   "cell_type": "code",
   "execution_count": 1,
   "id": "8603a39b",
   "metadata": {
    "pycharm": {
     "name": "#%%\n"
    }
   },
   "outputs": [],
   "source": [
    "import pandas as pd"
   ]
  },
  {
   "cell_type": "markdown",
   "id": "03b44323",
   "metadata": {
    "pycharm": {
     "name": "#%% md\n"
    }
   },
   "source": [
    "# <font color='red'> Question 2: 2 points"
   ]
  },
  {
   "cell_type": "markdown",
   "id": "e079a6ae",
   "metadata": {
    "pycharm": {
     "name": "#%% md\n"
    }
   },
   "source": [
    "Change the following function using lambda function. <br>\n",
    "<code>def square(x):\n",
    "    return x*x"
   ]
  },
  {
   "cell_type": "code",
   "execution_count": 2,
   "id": "9ef162fb",
   "metadata": {
    "pycharm": {
     "name": "#%%\n"
    }
   },
   "outputs": [],
   "source": [
    "square = (lambda x: x * x)"
   ]
  },
  {
   "cell_type": "markdown",
   "id": "67a7dcda",
   "metadata": {
    "pycharm": {
     "name": "#%% md\n"
    }
   },
   "source": [
    "# <font color='red'> Question 3: 3 points"
   ]
  },
  {
   "cell_type": "markdown",
   "id": "fe0afebc",
   "metadata": {
    "pycharm": {
     "name": "#%% md\n"
    }
   },
   "source": [
    "I ran the following code. <br>\n",
    "<code>alice_contents=[word.lower() for word in alice_contents if word.lower() not in stopwords]</code>\n",
    "\n",
    "Explain in words what this line of code would do. <br>\n",
    "You should explain in terms of the following key words. (1 point for each)<br>\n",
    "Point 1. For loop\n",
    "Point 2. If\n",
    "Point 3. Word.lower\n",
    "Point 4. Alice contents\n"
   ]
  },
  {
   "cell_type": "markdown",
   "id": "c8a16266",
   "metadata": {
    "pycharm": {
     "name": "#%% md\n"
    }
   },
   "source": [
    "write your answer in this box in your own words:\n",
    "\"alice_contents\" is a variable, probably a list. \"alice_contents\" has to be an iterable, because we are using the for-each-loop on it.\n",
    "A for-each-loop iterates through an iterable and execute code for each item in the iterable. So for every item in the list \"alice_contents\" we execute code, in our case we execute \"lower()\".\n",
    "The \"word.lower()\" can be executed on strings and it transforms the string into all lowercase letters.\n",
    "We also have a part \"if word.lower() not in stopwords\". This part says that the execution of code on the left is only done if the if expression is True. So only if the lowercase version of the word in not in stopwords.\n",
    "\n",
    "The whole for loop then returns all the items in the list which if was true."
   ]
  },
  {
   "cell_type": "markdown",
   "id": "ec028dd1",
   "metadata": {
    "pycharm": {
     "name": "#%% md\n"
    }
   },
   "source": [
    "# <font color='red'> Question 4: 4 points"
   ]
  },
  {
   "cell_type": "code",
   "execution_count": 3,
   "id": "b7c2dded",
   "metadata": {
    "pycharm": {
     "name": "#%%\n"
    }
   },
   "outputs": [
    {
     "name": "stdout",
     "output_type": "stream",
     "text": [
      "<!DOCTYPE html>\n",
      "<html lang=\"en\">\n",
      " <head>\n",
      "  <meta charset=\"utf-8\"/>\n",
      "  <title>\n",
      "   Quotes to Scrape\n",
      "  </title>\n",
      "  <link href=\"/static/bootstrap.min.css\" rel=\"stylesheet\"/>\n",
      "  <link href=\"/static/main.css\" rel=\"stylesheet\"/>\n",
      " </head>\n",
      " <body>\n",
      "  <div class=\"container\">\n",
      "   <div class=\"row header-box\">\n",
      "    <div class=\"col-md-8\">\n",
      "     <h1>\n",
      "      <a href=\"/\" style=\"text-decoration: none\">\n",
      "       Quotes to Scrape\n",
      "      </a>\n",
      "     </h1>\n",
      "    </div>\n",
      "    <div class=\"col-md-4\">\n",
      "     <p>\n",
      "      <a href=\"/login\">\n",
      "       Login\n",
      "      </a>\n",
      "     </p>\n",
      "    </div>\n",
      "   </div>\n",
      "   <div class=\"row\">\n",
      "    <div class=\"col-md-8\">\n",
      "     <div class=\"quote\" itemscope=\"\" itemtype=\"http://schema.org/CreativeWork\">\n",
      "      <span class=\"text\" itemprop=\"text\">\n",
      "       “The world as we have created it is a process of our thinking. It cannot be changed without changing our thinking.”\n",
      "      </span>\n",
      "      <span>\n",
      "       by\n",
      "       <small class=\"author\" itemprop=\"author\">\n",
      "        Albert Einstein\n",
      "       </small>\n",
      "       <a href=\"/author/Albert-Einstein\">\n",
      "        (about)\n",
      "       </a>\n",
      "      </span>\n",
      "      <div class=\"tags\">\n",
      "       Tags:\n",
      "       <meta class=\"keywords\" content=\"change,deep-thoughts,thinking,world\" itemprop=\"keywords\"/>\n",
      "       <a class=\"tag\" href=\"/tag/change/page/1/\">\n",
      "        change\n",
      "       </a>\n",
      "       <a class=\"tag\" href=\"/tag/deep-thoughts/page/1/\">\n",
      "        deep-thoughts\n",
      "       </a>\n",
      "       <a class=\"tag\" href=\"/tag/thinking/page/1/\">\n",
      "        thinking\n",
      "       </a>\n",
      "       <a class=\"tag\" href=\"/tag/world/page/1/\">\n",
      "        world\n",
      "       </a>\n",
      "      </div>\n",
      "     </div>\n",
      "     <div class=\"quote\" itemscope=\"\" itemtype=\"http://schema.org/CreativeWork\">\n",
      "      <span class=\"text\" itemprop=\"text\">\n",
      "       “It is our choices, Harry, that show what we truly are, far more than our abilities.”\n",
      "      </span>\n",
      "      <span>\n",
      "       by\n",
      "       <small class=\"author\" itemprop=\"author\">\n",
      "        J.K. Rowling\n",
      "       </small>\n",
      "       <a href=\"/author/J-K-Rowling\">\n",
      "        (about)\n",
      "       </a>\n",
      "      </span>\n",
      "      <div class=\"tags\">\n",
      "       Tags:\n",
      "       <meta class=\"keywords\" content=\"abilities,choices\" itemprop=\"keywords\"/>\n",
      "       <a class=\"tag\" href=\"/tag/abilities/page/1/\">\n",
      "        abilities\n",
      "       </a>\n",
      "       <a class=\"tag\" href=\"/tag/choices/page/1/\">\n",
      "        choices\n",
      "       </a>\n",
      "      </div>\n",
      "     </div>\n",
      "     <div class=\"quote\" itemscope=\"\" itemtype=\"http://schema.org/CreativeWork\">\n",
      "      <span class=\"text\" itemprop=\"text\">\n",
      "       “There are only two ways to live your life. One is as though nothing is a miracle. The other is as though everything is a miracle.”\n",
      "      </span>\n",
      "      <span>\n",
      "       by\n",
      "       <small class=\"author\" itemprop=\"author\">\n",
      "        Albert Einstein\n",
      "       </small>\n",
      "       <a href=\"/author/Albert-Einstein\">\n",
      "        (about)\n",
      "       </a>\n",
      "      </span>\n",
      "      <div class=\"tags\">\n",
      "       Tags:\n",
      "       <meta class=\"keywords\" content=\"inspirational,life,live,miracle,miracles\" itemprop=\"keywords\"/>\n",
      "       <a class=\"tag\" href=\"/tag/inspirational/page/1/\">\n",
      "        inspirational\n",
      "       </a>\n",
      "       <a class=\"tag\" href=\"/tag/life/page/1/\">\n",
      "        life\n",
      "       </a>\n",
      "       <a class=\"tag\" href=\"/tag/live/page/1/\">\n",
      "        live\n",
      "       </a>\n",
      "       <a class=\"tag\" href=\"/tag/miracle/page/1/\">\n",
      "        miracle\n",
      "       </a>\n",
      "       <a class=\"tag\" href=\"/tag/miracles/page/1/\">\n",
      "        miracles\n",
      "       </a>\n",
      "      </div>\n",
      "     </div>\n",
      "     <div class=\"quote\" itemscope=\"\" itemtype=\"http://schema.org/CreativeWork\">\n",
      "      <span class=\"text\" itemprop=\"text\">\n",
      "       “The person, be it gentleman or lady, who has not pleasure in a good novel, must be intolerably stupid.”\n",
      "      </span>\n",
      "      <span>\n",
      "       by\n",
      "       <small class=\"author\" itemprop=\"author\">\n",
      "        Jane Austen\n",
      "       </small>\n",
      "       <a href=\"/author/Jane-Austen\">\n",
      "        (about)\n",
      "       </a>\n",
      "      </span>\n",
      "      <div class=\"tags\">\n",
      "       Tags:\n",
      "       <meta class=\"keywords\" content=\"aliteracy,books,classic,humor\" itemprop=\"keywords\"/>\n",
      "       <a class=\"tag\" href=\"/tag/aliteracy/page/1/\">\n",
      "        aliteracy\n",
      "       </a>\n",
      "       <a class=\"tag\" href=\"/tag/books/page/1/\">\n",
      "        books\n",
      "       </a>\n",
      "       <a class=\"tag\" href=\"/tag/classic/page/1/\">\n",
      "        classic\n",
      "       </a>\n",
      "       <a class=\"tag\" href=\"/tag/humor/page/1/\">\n",
      "        humor\n",
      "       </a>\n",
      "      </div>\n",
      "     </div>\n",
      "     <div class=\"quote\" itemscope=\"\" itemtype=\"http://schema.org/CreativeWork\">\n",
      "      <span class=\"text\" itemprop=\"text\">\n",
      "       “Imperfection is beauty, madness is genius and it's better to be absolutely ridiculous than absolutely boring.”\n",
      "      </span>\n",
      "      <span>\n",
      "       by\n",
      "       <small class=\"author\" itemprop=\"author\">\n",
      "        Marilyn Monroe\n",
      "       </small>\n",
      "       <a href=\"/author/Marilyn-Monroe\">\n",
      "        (about)\n",
      "       </a>\n",
      "      </span>\n",
      "      <div class=\"tags\">\n",
      "       Tags:\n",
      "       <meta class=\"keywords\" content=\"be-yourself,inspirational\" itemprop=\"keywords\"/>\n",
      "       <a class=\"tag\" href=\"/tag/be-yourself/page/1/\">\n",
      "        be-yourself\n",
      "       </a>\n",
      "       <a class=\"tag\" href=\"/tag/inspirational/page/1/\">\n",
      "        inspirational\n",
      "       </a>\n",
      "      </div>\n",
      "     </div>\n",
      "     <div class=\"quote\" itemscope=\"\" itemtype=\"http://schema.org/CreativeWork\">\n",
      "      <span class=\"text\" itemprop=\"text\">\n",
      "       “Try not to become a man of success. Rather become a man of value.”\n",
      "      </span>\n",
      "      <span>\n",
      "       by\n",
      "       <small class=\"author\" itemprop=\"author\">\n",
      "        Albert Einstein\n",
      "       </small>\n",
      "       <a href=\"/author/Albert-Einstein\">\n",
      "        (about)\n",
      "       </a>\n",
      "      </span>\n",
      "      <div class=\"tags\">\n",
      "       Tags:\n",
      "       <meta class=\"keywords\" content=\"adulthood,success,value\" itemprop=\"keywords\"/>\n",
      "       <a class=\"tag\" href=\"/tag/adulthood/page/1/\">\n",
      "        adulthood\n",
      "       </a>\n",
      "       <a class=\"tag\" href=\"/tag/success/page/1/\">\n",
      "        success\n",
      "       </a>\n",
      "       <a class=\"tag\" href=\"/tag/value/page/1/\">\n",
      "        value\n",
      "       </a>\n",
      "      </div>\n",
      "     </div>\n",
      "     <div class=\"quote\" itemscope=\"\" itemtype=\"http://schema.org/CreativeWork\">\n",
      "      <span class=\"text\" itemprop=\"text\">\n",
      "       “It is better to be hated for what you are than to be loved for what you are not.”\n",
      "      </span>\n",
      "      <span>\n",
      "       by\n",
      "       <small class=\"author\" itemprop=\"author\">\n",
      "        André Gide\n",
      "       </small>\n",
      "       <a href=\"/author/Andre-Gide\">\n",
      "        (about)\n",
      "       </a>\n",
      "      </span>\n",
      "      <div class=\"tags\">\n",
      "       Tags:\n",
      "       <meta class=\"keywords\" content=\"life,love\" itemprop=\"keywords\"/>\n",
      "       <a class=\"tag\" href=\"/tag/life/page/1/\">\n",
      "        life\n",
      "       </a>\n",
      "       <a class=\"tag\" href=\"/tag/love/page/1/\">\n",
      "        love\n",
      "       </a>\n",
      "      </div>\n",
      "     </div>\n",
      "     <div class=\"quote\" itemscope=\"\" itemtype=\"http://schema.org/CreativeWork\">\n",
      "      <span class=\"text\" itemprop=\"text\">\n",
      "       “I have not failed. I've just found 10,000 ways that won't work.”\n",
      "      </span>\n",
      "      <span>\n",
      "       by\n",
      "       <small class=\"author\" itemprop=\"author\">\n",
      "        Thomas A. Edison\n",
      "       </small>\n",
      "       <a href=\"/author/Thomas-A-Edison\">\n",
      "        (about)\n",
      "       </a>\n",
      "      </span>\n",
      "      <div class=\"tags\">\n",
      "       Tags:\n",
      "       <meta class=\"keywords\" content=\"edison,failure,inspirational,paraphrased\" itemprop=\"keywords\"/>\n",
      "       <a class=\"tag\" href=\"/tag/edison/page/1/\">\n",
      "        edison\n",
      "       </a>\n",
      "       <a class=\"tag\" href=\"/tag/failure/page/1/\">\n",
      "        failure\n",
      "       </a>\n",
      "       <a class=\"tag\" href=\"/tag/inspirational/page/1/\">\n",
      "        inspirational\n",
      "       </a>\n",
      "       <a class=\"tag\" href=\"/tag/paraphrased/page/1/\">\n",
      "        paraphrased\n",
      "       </a>\n",
      "      </div>\n",
      "     </div>\n",
      "     <div class=\"quote\" itemscope=\"\" itemtype=\"http://schema.org/CreativeWork\">\n",
      "      <span class=\"text\" itemprop=\"text\">\n",
      "       “A woman is like a tea bag; you never know how strong it is until it's in hot water.”\n",
      "      </span>\n",
      "      <span>\n",
      "       by\n",
      "       <small class=\"author\" itemprop=\"author\">\n",
      "        Eleanor Roosevelt\n",
      "       </small>\n",
      "       <a href=\"/author/Eleanor-Roosevelt\">\n",
      "        (about)\n",
      "       </a>\n",
      "      </span>\n",
      "      <div class=\"tags\">\n",
      "       Tags:\n",
      "       <meta class=\"keywords\" content=\"misattributed-eleanor-roosevelt\" itemprop=\"keywords\"/>\n",
      "       <a class=\"tag\" href=\"/tag/misattributed-eleanor-roosevelt/page/1/\">\n",
      "        misattributed-eleanor-roosevelt\n",
      "       </a>\n",
      "      </div>\n",
      "     </div>\n",
      "     <div class=\"quote\" itemscope=\"\" itemtype=\"http://schema.org/CreativeWork\">\n",
      "      <span class=\"text\" itemprop=\"text\">\n",
      "       “A day without sunshine is like, you know, night.”\n",
      "      </span>\n",
      "      <span>\n",
      "       by\n",
      "       <small class=\"author\" itemprop=\"author\">\n",
      "        Steve Martin\n",
      "       </small>\n",
      "       <a href=\"/author/Steve-Martin\">\n",
      "        (about)\n",
      "       </a>\n",
      "      </span>\n",
      "      <div class=\"tags\">\n",
      "       Tags:\n",
      "       <meta class=\"keywords\" content=\"humor,obvious,simile\" itemprop=\"keywords\"/>\n",
      "       <a class=\"tag\" href=\"/tag/humor/page/1/\">\n",
      "        humor\n",
      "       </a>\n",
      "       <a class=\"tag\" href=\"/tag/obvious/page/1/\">\n",
      "        obvious\n",
      "       </a>\n",
      "       <a class=\"tag\" href=\"/tag/simile/page/1/\">\n",
      "        simile\n",
      "       </a>\n",
      "      </div>\n",
      "     </div>\n",
      "     <nav>\n",
      "      <ul class=\"pager\">\n",
      "       <li class=\"next\">\n",
      "        <a href=\"/page/2/\">\n",
      "         Next\n",
      "         <span aria-hidden=\"true\">\n",
      "          →\n",
      "         </span>\n",
      "        </a>\n",
      "       </li>\n",
      "      </ul>\n",
      "     </nav>\n",
      "    </div>\n",
      "    <div class=\"col-md-4 tags-box\">\n",
      "     <h2>\n",
      "      Top Ten tags\n",
      "     </h2>\n",
      "     <span class=\"tag-item\">\n",
      "      <a class=\"tag\" href=\"/tag/love/\" style=\"font-size: 28px\">\n",
      "       love\n",
      "      </a>\n",
      "     </span>\n",
      "     <span class=\"tag-item\">\n",
      "      <a class=\"tag\" href=\"/tag/inspirational/\" style=\"font-size: 26px\">\n",
      "       inspirational\n",
      "      </a>\n",
      "     </span>\n",
      "     <span class=\"tag-item\">\n",
      "      <a class=\"tag\" href=\"/tag/life/\" style=\"font-size: 26px\">\n",
      "       life\n",
      "      </a>\n",
      "     </span>\n",
      "     <span class=\"tag-item\">\n",
      "      <a class=\"tag\" href=\"/tag/humor/\" style=\"font-size: 24px\">\n",
      "       humor\n",
      "      </a>\n",
      "     </span>\n",
      "     <span class=\"tag-item\">\n",
      "      <a class=\"tag\" href=\"/tag/books/\" style=\"font-size: 22px\">\n",
      "       books\n",
      "      </a>\n",
      "     </span>\n",
      "     <span class=\"tag-item\">\n",
      "      <a class=\"tag\" href=\"/tag/reading/\" style=\"font-size: 14px\">\n",
      "       reading\n",
      "      </a>\n",
      "     </span>\n",
      "     <span class=\"tag-item\">\n",
      "      <a class=\"tag\" href=\"/tag/friendship/\" style=\"font-size: 10px\">\n",
      "       friendship\n",
      "      </a>\n",
      "     </span>\n",
      "     <span class=\"tag-item\">\n",
      "      <a class=\"tag\" href=\"/tag/friends/\" style=\"font-size: 8px\">\n",
      "       friends\n",
      "      </a>\n",
      "     </span>\n",
      "     <span class=\"tag-item\">\n",
      "      <a class=\"tag\" href=\"/tag/truth/\" style=\"font-size: 8px\">\n",
      "       truth\n",
      "      </a>\n",
      "     </span>\n",
      "     <span class=\"tag-item\">\n",
      "      <a class=\"tag\" href=\"/tag/simile/\" style=\"font-size: 6px\">\n",
      "       simile\n",
      "      </a>\n",
      "     </span>\n",
      "    </div>\n",
      "   </div>\n",
      "  </div>\n",
      "  <footer class=\"footer\">\n",
      "   <div class=\"container\">\n",
      "    <p class=\"text-muted\">\n",
      "     Quotes by:\n",
      "     <a href=\"https://www.goodreads.com/quotes\">\n",
      "      GoodReads.com\n",
      "     </a>\n",
      "    </p>\n",
      "    <p class=\"copyright\">\n",
      "     Made with\n",
      "     <span class=\"sh-red\">\n",
      "      ❤\n",
      "     </span>\n",
      "     by\n",
      "     <a href=\"https://scrapinghub.com\">\n",
      "      Scrapinghub\n",
      "     </a>\n",
      "    </p>\n",
      "   </div>\n",
      "  </footer>\n",
      " </body>\n",
      "</html>\n"
     ]
    }
   ],
   "source": [
    "# run the following code\n",
    "import requests\n",
    "from bs4 import BeautifulSoup\n",
    "\n",
    "page = requests.get(\"http://quotes.toscrape.com/\")\n",
    "soup = BeautifulSoup(page.content, 'html.parser')\n",
    "print(soup.prettify())"
   ]
  },
  {
   "cell_type": "markdown",
   "id": "3b8851b8",
   "metadata": {
    "pycharm": {
     "name": "#%% md\n"
    }
   },
   "source": [
    "<font color='red'>**WITHOUT** connecting to the website,</font><br>meaning just by using what has been printed using by soup.prettify() above,<br>\n",
    "Find all 'quotes' (Not authors,not links)  from this page and **save your quotes in a variable named <code>text</code>**"
   ]
  },
  {
   "cell_type": "code",
   "execution_count": 4,
   "id": "8fa48dba",
   "metadata": {
    "pycharm": {
     "name": "#%%\n"
    }
   },
   "outputs": [],
   "source": [
    "text = soup.find_all(\"span\", class_=\"text\")"
   ]
  },
  {
   "cell_type": "markdown",
   "id": "86ad185b",
   "metadata": {
    "pycharm": {
     "name": "#%% md\n"
    }
   },
   "source": [
    "# <font color='red'> Question 5: 4 points"
   ]
  },
  {
   "cell_type": "markdown",
   "id": "feeb29a2",
   "metadata": {
    "pycharm": {
     "name": "#%% md\n"
    }
   },
   "source": [
    "I want to get the text out from <code>text</code> variable that we just made in Q4. <br><BR>\n",
    "To do that, we need to loop through the text variable and tell Python to: <br>\n",
    "1. go through text and for each element in a list\n",
    "2. we will get text out from it. <br>\n",
    "3. Then, extract text and save them in a variable called <code>quotes</code>.<br>\n",
    "\n",
    "**hint!** <br>\n",
    "To do so, we will first need to make an empty variable called <code>quotes</code>.<br>\n",
    "Then, using loops again, we will <code>append</code> them in the variable."
   ]
  },
  {
   "cell_type": "code",
   "execution_count": 5,
   "id": "8ccbec43",
   "metadata": {
    "pycharm": {
     "name": "#%%\n"
    }
   },
   "outputs": [],
   "source": [
    "quotes = []\n",
    "for t in text:\n",
    "    quotes.append(t.get_text())"
   ]
  },
  {
   "cell_type": "markdown",
   "id": "9249a5a2",
   "metadata": {
    "pycharm": {
     "name": "#%% md\n"
    }
   },
   "source": [
    "# <font color='red'> Question 6: 3 points"
   ]
  },
  {
   "cell_type": "markdown",
   "id": "2fd6fc9d",
   "metadata": {
    "pycharm": {
     "name": "#%% md\n"
    }
   },
   "source": [
    "Save your data in a dataframe called <code>quotes</code> with column name for quotes being \"quotes\""
   ]
  },
  {
   "cell_type": "code",
   "execution_count": 6,
   "id": "5a2a7f62",
   "metadata": {
    "pycharm": {
     "name": "#%%\n"
    }
   },
   "outputs": [],
   "source": [
    "quotes = pd.DataFrame(data=quotes, columns=[\"quotes\"])"
   ]
  },
  {
   "cell_type": "markdown",
   "id": "2a66b7f1",
   "metadata": {
    "pycharm": {
     "name": "#%% md\n"
    }
   },
   "source": [
    "# <font color='red'> Question 7: 3 points"
   ]
  },
  {
   "cell_type": "code",
   "execution_count": 7,
   "id": "75ae6231",
   "metadata": {
    "pycharm": {
     "name": "#%%\n"
    }
   },
   "outputs": [],
   "source": [
    "#run the following code\n",
    "import requests\n",
    "import nltk\n",
    "import re\n",
    "from nltk.corpus import gutenberg\n",
    "\n",
    "alice = gutenberg.raw(fileids='carroll-alice.txt')\n",
    "stopwords = nltk.corpus.stopwords.words('english')"
   ]
  },
  {
   "cell_type": "markdown",
   "id": "ecf43867",
   "metadata": {
    "pycharm": {
     "name": "#%% md\n"
    }
   },
   "source": [
    "After you run the above code, <br>\n",
    "Tokenize **<code>alice</code>** variable into SENTENCES and save tokenized text into \n",
    "**<code>alice_sentences</code>**"
   ]
  },
  {
   "cell_type": "code",
   "execution_count": 8,
   "id": "5b29f5ba",
   "metadata": {
    "pycharm": {
     "name": "#%%\n"
    }
   },
   "outputs": [],
   "source": [
    "alice_sentences = nltk.sent_tokenize(alice)"
   ]
  },
  {
   "cell_type": "markdown",
   "id": "2a13d639",
   "metadata": {
    "pycharm": {
     "name": "#%% md\n"
    }
   },
   "source": [
    "# <font color='red'> Question 8: 4 points"
   ]
  },
  {
   "cell_type": "markdown",
   "id": "052a8e8e",
   "metadata": {
    "pycharm": {
     "name": "#%% md\n"
    }
   },
   "source": [
    "Replace all \"\\n\" with an empty string for <code>alice_sentences</code>, (3 points)<br>\n",
    "and save it back into **<code>alice_sentences</code>**(1 point)"
   ]
  },
  {
   "cell_type": "code",
   "execution_count": 9,
   "id": "670bdb05",
   "metadata": {
    "pycharm": {
     "name": "#%%\n"
    }
   },
   "outputs": [],
   "source": [
    "alice_sentences = [re.sub(\"\\n\", \" \", sentence) for sentence in alice_sentences] # empty string or string with only a whitespace?"
   ]
  },
  {
   "cell_type": "markdown",
   "id": "3af3842d",
   "metadata": {
    "pycharm": {
     "name": "#%% md\n"
    }
   },
   "source": [
    "# <font color='red'> Question 9: 3 points\n",
    "   "
   ]
  },
  {
   "cell_type": "markdown",
   "id": "ecd83ad6",
   "metadata": {
    "pycharm": {
     "name": "#%% md\n"
    }
   },
   "source": [
    "Using <code>alice</code> variable from Q7, <br>\n",
    "Tokenize into WORDS this time, and save it in a variable called <code>alice_word</code>."
   ]
  },
  {
   "cell_type": "code",
   "execution_count": 10,
   "id": "5ccbb47c",
   "metadata": {
    "pycharm": {
     "name": "#%%\n"
    }
   },
   "outputs": [],
   "source": [
    "alice_word = nltk.word_tokenize(alice)"
   ]
  },
  {
   "cell_type": "markdown",
   "id": "c947cd1b",
   "metadata": {
    "pycharm": {
     "name": "#%% md\n"
    }
   },
   "source": [
    "# <font color='red'> Question 10: 4 points."
   ]
  },
  {
   "cell_type": "markdown",
   "id": "c8abe6d7",
   "metadata": {
    "pycharm": {
     "name": "#%% md\n"
    }
   },
   "source": [
    "Explain in your own words, what happens when I run the following code. <br>\n",
    "Try explaining step by step on what happens in the code below. <br><br>\n",
    "**Hint** <br>\n",
    "Regex pattern [^A-Za-z] means <br> \"matches a single character not present in the range between A-Z and a-z\" <br>\n",
    "meaning, it matches non alphabet, upper and lower cases. <br>"
   ]
  },
  {
   "cell_type": "code",
   "execution_count": 11,
   "id": "34824a65",
   "metadata": {
    "pycharm": {
     "name": "#%%\n"
    }
   },
   "outputs": [],
   "source": [
    "alice_contents = list(filter(None, [re.sub(r'[^A-Za-z]', '', a) for a in alice_word]))"
   ]
  },
  {
   "cell_type": "code",
   "execution_count": 12,
   "id": "19af2dfe",
   "metadata": {
    "pycharm": {
     "name": "#%%\n"
    }
   },
   "outputs": [],
   "source": [
    "# explain in your words here:\n",
    "# The re.sub(l,m,n) function finds everything in n (in our case variable a) that matches the regular expression l (in our case [^A-Za-z]) and replaces it with m (in our case '').\n",
    "# The for loop iterates through alice_word, so the re.sub() is called for every word in alice_word.\n",
    "# the filter-function removes every element that is None in the second argument (so our result after the for-loop-re.sub-thing).\n",
    "# the list-function makes a list out of the result of the filter function\n",
    "# the result of the list-function is then saved in the variable alice_contents"
   ]
  },
  {
   "cell_type": "markdown",
   "id": "89261bb7",
   "metadata": {
    "pycharm": {
     "name": "#%% md\n"
    }
   },
   "source": [
    "# <font color='red'> Question 11: 4 points."
   ]
  },
  {
   "cell_type": "code",
   "execution_count": 13,
   "id": "a6c00458",
   "metadata": {
    "pycharm": {
     "name": "#%%\n"
    }
   },
   "outputs": [],
   "source": [
    "#run the following code\n",
    "alice_contents = [word.lower() for word in alice_contents if word.lower() not in stopwords]"
   ]
  },
  {
   "cell_type": "markdown",
   "id": "9449c75c",
   "metadata": {
    "pycharm": {
     "name": "#%% md\n"
    }
   },
   "source": [
    "Now that we changed into lower cases for all alice_contents,<br>\n",
    "I want to get rid of the tokens that contain stopwords. <br>\n",
    "1. iterate through <code>alice_contents</code>\n",
    "2. **if** each of the iterable token **does not** contain stopwords,\n",
    "3. save it back into <code>alice_contents</code>\n",
    "\n",
    "This means, for each word in alice_contents, get rid of stopwords and save it back into <code>alice_contents</code>"
   ]
  },
  {
   "cell_type": "code",
   "execution_count": 14,
   "id": "6c41f6ad",
   "metadata": {
    "pycharm": {
     "name": "#%%\n"
    }
   },
   "outputs": [
    {
     "data": {
      "text/plain": "['alice',\n 'adventures',\n 'wonderland',\n 'lewis',\n 'carroll',\n 'chapter',\n 'rabbithole',\n 'alice',\n 'beginning',\n 'get',\n 'tired',\n 'sitting',\n 'sister',\n 'bank',\n 'nothing',\n 'twice',\n 'peeped',\n 'book',\n 'sister',\n 'reading',\n 'pictures',\n 'conversations',\n 'use',\n 'book',\n 'thought',\n 'alice',\n 'without',\n 'pictures',\n 'conversation',\n 'considering',\n 'mind',\n 'well',\n 'could',\n 'hot',\n 'day',\n 'made',\n 'feel',\n 'sleepy',\n 'stupid',\n 'whether',\n 'pleasure',\n 'making',\n 'daisychain',\n 'would',\n 'worth',\n 'trouble',\n 'getting',\n 'picking',\n 'daisies',\n 'suddenly',\n 'white',\n 'rabbit',\n 'pink',\n 'eyes',\n 'ran',\n 'close',\n 'nothing',\n 'remarkable',\n 'alice',\n 'think',\n 'much',\n 'way',\n 'hear',\n 'rabbit',\n 'say',\n 'oh',\n 'dear',\n 'oh',\n 'dear',\n 'shall',\n 'late',\n 'thought',\n 'afterwards',\n 'occurred',\n 'ought',\n 'wondered',\n 'time',\n 'seemed',\n 'quite',\n 'natural',\n 'rabbit',\n 'actually',\n 'took',\n 'watch',\n 'waistcoatpocket',\n 'looked',\n 'hurried',\n 'alice',\n 'started',\n 'feet',\n 'flashed',\n 'across',\n 'mind',\n 'never',\n 'seen',\n 'rabbit',\n 'either',\n 'waistcoatpocket',\n 'watch',\n 'take',\n 'burning',\n 'curiosity',\n 'ran',\n 'across',\n 'field',\n 'fortunately',\n 'time',\n 'see',\n 'pop',\n 'large',\n 'rabbithole',\n 'hedge',\n 'another',\n 'moment',\n 'went',\n 'alice',\n 'never',\n 'considering',\n 'world',\n 'get',\n 'rabbithole',\n 'went',\n 'straight',\n 'like',\n 'tunnel',\n 'way',\n 'dipped',\n 'suddenly',\n 'suddenly',\n 'alice',\n 'moment',\n 'think',\n 'stopping',\n 'found',\n 'falling',\n 'deep',\n 'well',\n 'either',\n 'well',\n 'deep',\n 'fell',\n 'slowly',\n 'plenty',\n 'time',\n 'went',\n 'look',\n 'wonder',\n 'going',\n 'happen',\n 'next',\n 'first',\n 'tried',\n 'look',\n 'make',\n 'coming',\n 'dark',\n 'see',\n 'anything',\n 'looked',\n 'sides',\n 'well',\n 'noticed',\n 'filled',\n 'cupboards',\n 'bookshelves',\n 'saw',\n 'maps',\n 'pictures',\n 'hung',\n 'upon',\n 'pegs',\n 'took',\n 'jar',\n 'one',\n 'shelves',\n 'passed',\n 'labelled',\n 'orange',\n 'marmalade',\n 'great',\n 'disappointment',\n 'empty',\n 'like',\n 'drop',\n 'jar',\n 'fear',\n 'killing',\n 'somebody',\n 'managed',\n 'put',\n 'one',\n 'cupboards',\n 'fell',\n 'past',\n 'well',\n 'thought',\n 'alice',\n 'fall',\n 'shall',\n 'think',\n 'nothing',\n 'tumbling',\n 'stairs',\n 'brave',\n 'think',\n 'home',\n 'would',\n 'nt',\n 'say',\n 'anything',\n 'even',\n 'fell',\n 'top',\n 'house',\n 'likely',\n 'true',\n 'would',\n 'fall',\n 'never',\n 'come',\n 'end',\n 'wonder',\n 'many',\n 'miles',\n 'fallen',\n 'time',\n 'said',\n 'aloud',\n 'must',\n 'getting',\n 'somewhere',\n 'near',\n 'centre',\n 'earth',\n 'let',\n 'see',\n 'would',\n 'four',\n 'thousand',\n 'miles',\n 'think',\n 'see',\n 'alice',\n 'learnt',\n 'several',\n 'things',\n 'sort',\n 'lessons',\n 'schoolroom',\n 'though',\n 'good',\n 'opportunity',\n 'showing',\n 'knowledge',\n 'one',\n 'listen',\n 'still',\n 'good',\n 'practice',\n 'say',\n 'yes',\n 'right',\n 'distance',\n 'wonder',\n 'latitude',\n 'longitude',\n 'got',\n 'alice',\n 'idea',\n 'latitude',\n 'longitude',\n 'either',\n 'thought',\n 'nice',\n 'grand',\n 'words',\n 'say',\n 'presently',\n 'began',\n 'wonder',\n 'shall',\n 'fall',\n 'right',\n 'earth',\n 'funny',\n 'seem',\n 'come',\n 'among',\n 'people',\n 'walk',\n 'heads',\n 'downward',\n 'antipathies',\n 'think',\n 'rather',\n 'glad',\n 'one',\n 'listening',\n 'time',\n 'nt',\n 'sound',\n 'right',\n 'word',\n 'shall',\n 'ask',\n 'name',\n 'country',\n 'know',\n 'please',\n 'maam',\n 'new',\n 'zealand',\n 'australia',\n 'tried',\n 'curtsey',\n 'spoke',\n 'fancy',\n 'curtseying',\n 'falling',\n 'air',\n 'think',\n 'could',\n 'manage',\n 'ignorant',\n 'little',\n 'girl',\n 'think',\n 'asking',\n 'never',\n 'ask',\n 'perhaps',\n 'shall',\n 'see',\n 'written',\n 'somewhere',\n 'nothing',\n 'else',\n 'alice',\n 'soon',\n 'began',\n 'talking',\n 'dinah',\n 'miss',\n 'much',\n 'tonight',\n 'think',\n 'dinah',\n 'cat',\n 'hope',\n 'remember',\n 'saucer',\n 'milk',\n 'teatime',\n 'dinah',\n 'dear',\n 'wish',\n 'mice',\n 'air',\n 'afraid',\n 'might',\n 'catch',\n 'bat',\n 'like',\n 'mouse',\n 'know',\n 'cats',\n 'eat',\n 'bats',\n 'wonder',\n 'alice',\n 'began',\n 'get',\n 'rather',\n 'sleepy',\n 'went',\n 'saying',\n 'dreamy',\n 'sort',\n 'way',\n 'cats',\n 'eat',\n 'bats',\n 'cats',\n 'eat',\n 'bats',\n 'sometimes',\n 'bats',\n 'eat',\n 'cats',\n 'see',\n 'could',\n 'nt',\n 'answer',\n 'either',\n 'question',\n 'nt',\n 'much',\n 'matter',\n 'way',\n 'put',\n 'felt',\n 'dozing',\n 'begun',\n 'dream',\n 'walking',\n 'hand',\n 'hand',\n 'dinah',\n 'saying',\n 'earnestly',\n 'dinah',\n 'tell',\n 'truth',\n 'ever',\n 'eat',\n 'bat',\n 'suddenly',\n 'thump',\n 'thump',\n 'came',\n 'upon',\n 'heap',\n 'sticks',\n 'dry',\n 'leaves',\n 'fall',\n 'alice',\n 'bit',\n 'hurt',\n 'jumped',\n 'feet',\n 'moment',\n 'looked',\n 'dark',\n 'overhead',\n 'another',\n 'long',\n 'passage',\n 'white',\n 'rabbit',\n 'still',\n 'sight',\n 'hurrying',\n 'moment',\n 'lost',\n 'away',\n 'went',\n 'alice',\n 'like',\n 'wind',\n 'time',\n 'hear',\n 'say',\n 'turned',\n 'corner',\n 'oh',\n 'ears',\n 'whiskers',\n 'late',\n 'getting',\n 'close',\n 'behind',\n 'turned',\n 'corner',\n 'rabbit',\n 'longer',\n 'seen',\n 'found',\n 'long',\n 'low',\n 'hall',\n 'lit',\n 'row',\n 'lamps',\n 'hanging',\n 'roof',\n 'doors',\n 'round',\n 'hall',\n 'locked',\n 'alice',\n 'way',\n 'one',\n 'side',\n 'trying',\n 'every',\n 'door',\n 'walked',\n 'sadly',\n 'middle',\n 'wondering',\n 'ever',\n 'get',\n 'suddenly',\n 'came',\n 'upon',\n 'little',\n 'threelegged',\n 'table',\n 'made',\n 'solid',\n 'glass',\n 'nothing',\n 'except',\n 'tiny',\n 'golden',\n 'key',\n 'alices',\n 'first',\n 'thought',\n 'might',\n 'belong',\n 'one',\n 'doors',\n 'hall',\n 'alas',\n 'either',\n 'locks',\n 'large',\n 'key',\n 'small',\n 'rate',\n 'would',\n 'open',\n 'however',\n 'second',\n 'time',\n 'round',\n 'came',\n 'upon',\n 'low',\n 'curtain',\n 'noticed',\n 'behind',\n 'little',\n 'door',\n 'fifteen',\n 'inches',\n 'high',\n 'tried',\n 'little',\n 'golden',\n 'key',\n 'lock',\n 'great',\n 'delight',\n 'fitted',\n 'alice',\n 'opened',\n 'door',\n 'found',\n 'led',\n 'small',\n 'passage',\n 'much',\n 'larger',\n 'rathole',\n 'knelt',\n 'looked',\n 'along',\n 'passage',\n 'loveliest',\n 'garden',\n 'ever',\n 'saw',\n 'longed',\n 'get',\n 'dark',\n 'hall',\n 'wander',\n 'among',\n 'beds',\n 'bright',\n 'flowers',\n 'cool',\n 'fountains',\n 'could',\n 'even',\n 'get',\n 'head',\n 'doorway',\n 'even',\n 'head',\n 'would',\n 'go',\n 'thought',\n 'poor',\n 'alice',\n 'would',\n 'little',\n 'use',\n 'without',\n 'shoulders',\n 'oh',\n 'wish',\n 'could',\n 'shut',\n 'like',\n 'telescope',\n 'think',\n 'could',\n 'know',\n 'begin',\n 'see',\n 'many',\n 'outoftheway',\n 'things',\n 'happened',\n 'lately',\n 'alice',\n 'begun',\n 'think',\n 'things',\n 'indeed',\n 'really',\n 'impossible',\n 'seemed',\n 'use',\n 'waiting',\n 'little',\n 'door',\n 'went',\n 'back',\n 'table',\n 'half',\n 'hoping',\n 'might',\n 'find',\n 'another',\n 'key',\n 'rate',\n 'book',\n 'rules',\n 'shutting',\n 'people',\n 'like',\n 'telescopes',\n 'time',\n 'found',\n 'little',\n 'bottle',\n 'certainly',\n 'said',\n 'alice',\n 'round',\n 'neck',\n 'bottle',\n 'paper',\n 'label',\n 'words',\n 'drink',\n 'beautifully',\n 'printed',\n 'large',\n 'letters',\n 'well',\n 'say',\n 'drink',\n 'wise',\n 'little',\n 'alice',\n 'going',\n 'hurry',\n 'look',\n 'first',\n 'said',\n 'see',\n 'whether',\n 'marked',\n 'poison',\n 'read',\n 'several',\n 'nice',\n 'little',\n 'histories',\n 'children',\n 'got',\n 'burnt',\n 'eaten',\n 'wild',\n 'beasts',\n 'unpleasant',\n 'things',\n 'would',\n 'remember',\n 'simple',\n 'rules',\n 'friends',\n 'taught',\n 'redhot',\n 'poker',\n 'burn',\n 'hold',\n 'long',\n 'cut',\n 'finger',\n 'deeply',\n 'knife',\n 'usually',\n 'bleeds',\n 'never',\n 'forgotten',\n 'drink',\n 'much',\n 'bottle',\n 'marked',\n 'poison',\n 'almost',\n 'certain',\n 'disagree',\n 'sooner',\n 'later',\n 'however',\n 'bottle',\n 'marked',\n 'poison',\n 'alice',\n 'ventured',\n 'taste',\n 'finding',\n 'nice',\n 'fact',\n 'sort',\n 'mixed',\n 'flavour',\n 'cherrytart',\n 'custard',\n 'pineapple',\n 'roast',\n 'turkey',\n 'toffee',\n 'hot',\n 'buttered',\n 'toast',\n 'soon',\n 'finished',\n 'curious',\n 'feeling',\n 'said',\n 'alice',\n 'must',\n 'shutting',\n 'like',\n 'telescope',\n 'indeed',\n 'ten',\n 'inches',\n 'high',\n 'face',\n 'brightened',\n 'thought',\n 'right',\n 'size',\n 'going',\n 'little',\n 'door',\n 'lovely',\n 'garden',\n 'first',\n 'however',\n 'waited',\n 'minutes',\n 'see',\n 'going',\n 'shrink',\n 'felt',\n 'little',\n 'nervous',\n 'might',\n 'end',\n 'know',\n 'said',\n 'alice',\n 'going',\n 'altogether',\n 'like',\n 'candle',\n 'wonder',\n 'like',\n 'tried',\n 'fancy',\n 'flame',\n 'candle',\n 'like',\n 'candle',\n 'blown',\n 'could',\n 'remember',\n 'ever',\n 'seen',\n 'thing',\n 'finding',\n 'nothing',\n 'happened',\n 'decided',\n 'going',\n 'garden',\n 'alas',\n 'poor',\n 'alice',\n 'got',\n 'door',\n 'found',\n 'forgotten',\n 'little',\n 'golden',\n 'key',\n 'went',\n 'back',\n 'table',\n 'found',\n 'could',\n 'possibly',\n 'reach',\n 'could',\n 'see',\n 'quite',\n 'plainly',\n 'glass',\n 'tried',\n 'best',\n 'climb',\n 'one',\n 'legs',\n 'table',\n 'slippery',\n 'tired',\n 'trying',\n 'poor',\n 'little',\n 'thing',\n 'sat',\n 'cried',\n 'come',\n 'use',\n 'crying',\n 'like',\n 'said',\n 'alice',\n 'rather',\n 'sharply',\n 'advise',\n 'leave',\n 'minute',\n 'generally',\n 'gave',\n 'good',\n 'advice',\n 'though',\n 'seldom',\n 'followed',\n 'sometimes',\n 'scolded',\n 'severely',\n 'bring',\n 'tears',\n 'eyes',\n 'remembered',\n 'trying',\n 'box',\n 'ears',\n 'cheated',\n 'game',\n 'croquet',\n 'playing',\n 'curious',\n 'child',\n 'fond',\n 'pretending',\n 'two',\n 'people',\n 'use',\n 'thought',\n 'poor',\n 'alice',\n 'pretend',\n 'two',\n 'people',\n 'hardly',\n 'enough',\n 'left',\n 'make',\n 'one',\n 'respectable',\n 'person',\n 'soon',\n 'eye',\n 'fell',\n 'little',\n 'glass',\n 'box',\n 'lying',\n 'table',\n 'opened',\n 'found',\n 'small',\n 'cake',\n 'words',\n 'eat',\n 'beautifully',\n 'marked',\n 'currants',\n 'well',\n 'eat',\n 'said',\n 'alice',\n 'makes',\n 'grow',\n 'larger',\n 'reach',\n 'key',\n 'makes',\n 'grow',\n 'smaller',\n 'creep',\n 'door',\n 'either',\n 'way',\n 'ill',\n 'get',\n 'garden',\n 'nt',\n 'care',\n 'happens',\n 'ate',\n 'little',\n 'bit',\n 'said',\n 'anxiously',\n 'way',\n 'way',\n 'holding',\n 'hand',\n 'top',\n 'head',\n 'feel',\n 'way',\n 'growing',\n 'quite',\n 'surprised',\n 'find',\n 'remained',\n 'size',\n 'sure',\n 'generally',\n 'happens',\n 'one',\n 'eats',\n 'cake',\n 'alice',\n 'got',\n 'much',\n 'way',\n 'expecting',\n 'nothing',\n 'outoftheway',\n 'things',\n 'happen',\n 'seemed',\n 'quite',\n 'dull',\n 'stupid',\n 'life',\n 'go',\n 'common',\n 'way',\n 'set',\n 'work',\n 'soon',\n 'finished',\n 'cake',\n 'chapter',\n 'ii',\n 'pool',\n 'tears',\n 'curiouser',\n 'curiouser',\n 'cried',\n 'alice',\n 'much',\n 'surprised',\n 'moment',\n 'quite',\n 'forgot',\n 'speak',\n 'good',\n 'english',\n 'im',\n 'opening',\n 'like',\n 'largest',\n 'telescope',\n 'ever',\n 'goodbye',\n 'feet',\n 'looked',\n 'feet',\n 'seemed',\n 'almost',\n 'sight',\n ...]"
     },
     "execution_count": 14,
     "metadata": {},
     "output_type": "execute_result"
    }
   ],
   "source": [
    "alice_contents = [content for content in alice_contents if content not in stopwords]\n",
    "alice_contents"
   ]
  },
  {
   "cell_type": "markdown",
   "id": "41968a4f",
   "metadata": {
    "pycharm": {
     "name": "#%% md\n"
    }
   },
   "source": [
    "# <font color='red'> Question 12: 2 points."
   ]
  },
  {
   "cell_type": "markdown",
   "id": "54b40699",
   "metadata": {
    "pycharm": {
     "name": "#%% md\n"
    }
   },
   "source": [
    "Conduct pos tagging of <code>alice_contents</code> (1 point) <br>\n",
    "and save the tagged tokens into a variable called <code>alice_pos</code> (1 point) "
   ]
  },
  {
   "cell_type": "code",
   "execution_count": 15,
   "id": "bba8b0e7",
   "metadata": {
    "pycharm": {
     "name": "#%%\n"
    }
   },
   "outputs": [],
   "source": [
    "alice_pos = nltk.pos_tag(alice_contents)"
   ]
  },
  {
   "cell_type": "markdown",
   "id": "f3a19b63",
   "metadata": {
    "pycharm": {
     "name": "#%% md\n"
    }
   },
   "source": [
    "# <font color='red'> Question 13: 2 points"
   ]
  },
  {
   "cell_type": "markdown",
   "id": "4d70150c",
   "metadata": {
    "pycharm": {
     "name": "#%% md\n"
    }
   },
   "source": [
    "Change the following code using list comprehension\n",
    "\n",
    "<code>nouns=[]\n",
    "for word, pos in alice_pos:\n",
    "    if pos in ['NN']:\n",
    "        nouns.append(word)</code>\n"
   ]
  },
  {
   "cell_type": "code",
   "execution_count": 16,
   "id": "55d2b357",
   "metadata": {
    "scrolled": true,
    "pycharm": {
     "name": "#%%\n"
    }
   },
   "outputs": [
    {
     "data": {
      "text/plain": "['alice',\n 'carroll',\n 'chapter',\n 'alice',\n 'bank',\n 'nothing',\n 'book',\n 'sister',\n 'reading',\n 'book',\n 'thought',\n 'alice',\n 'mind',\n 'well',\n 'day',\n 'feel',\n 'pleasure',\n 'making',\n 'daisychain',\n 'trouble',\n 'rabbit',\n 'nothing',\n 'alice',\n 'way',\n 'rabbit',\n 'time',\n 'rabbit',\n 'watch',\n 'waistcoatpocket',\n 'alice',\n 'mind',\n 'rabbit',\n 'waistcoatpocket',\n 'watch',\n 'burning',\n 'curiosity',\n 'field',\n 'time',\n 'rabbithole',\n 'hedge',\n 'moment',\n 'world',\n 'get',\n 'way',\n 'moment',\n 'time',\n 'wonder',\n 'look',\n 'dark',\n 'anything',\n 'jar',\n 'orange',\n 'disappointment',\n 'drop',\n 'jar',\n 'fear',\n 'somebody',\n 'alice',\n 'fall',\n 'nothing',\n 'home',\n 'anything',\n 'house',\n 'end',\n 'wonder',\n 'time',\n 'earth',\n 'let',\n 'sort',\n 'schoolroom',\n 'opportunity',\n 'listen',\n 'practice',\n 'distance',\n 'wonder',\n 'latitude',\n 'longitude',\n 'idea',\n 'latitude',\n 'earth',\n 'listening',\n 'time',\n 'sound',\n 'word',\n 'country',\n 'zealand',\n 'spoke',\n 'fancy',\n 'air',\n 'think',\n 'girl',\n 'nothing',\n 'dinah',\n 'miss',\n 'tonight',\n 'milk',\n 'teatime',\n 'dinah',\n 'mice',\n 'air',\n 'bat',\n 'mouse',\n 'alice',\n 'dreamy',\n 'sort',\n 'way',\n 'question',\n 'matter',\n 'way',\n 'dream',\n 'hand',\n 'hand',\n 'dinah',\n 'tell',\n 'truth',\n 'bat',\n 'thump',\n 'bit',\n 'moment',\n 'overhead',\n 'passage',\n 'rabbit',\n 'moment',\n 'wind',\n 'time',\n 'corner',\n 'corner',\n 'rabbit',\n 'hall',\n 'lit',\n 'row',\n 'hall',\n 'way',\n 'side',\n 'door',\n 'glass',\n 'nothing',\n 'key',\n 'rate',\n 'time',\n 'round',\n 'curtain',\n 'door',\n 'key',\n 'lock',\n 'delight',\n 'door',\n 'passage',\n 'knelt',\n 'passage',\n 'garden',\n 'get',\n 'hall',\n 'wander',\n 'head',\n 'head',\n 'alice',\n 'use',\n 'wish',\n 'telescope',\n 'think',\n 'use',\n 'door',\n 'half',\n 'rate',\n 'book',\n 'time',\n 'bottle',\n 'round',\n 'neck',\n 'paper',\n 'label',\n 'alice',\n 'look',\n 'poison',\n 'poker',\n 'burn',\n 'cut',\n 'finger',\n 'bottle',\n 'poison',\n 'sooner',\n 'poison',\n 'alice',\n 'taste',\n 'fact',\n 'sort',\n 'cherrytart',\n 'custard',\n 'pineapple',\n 'roast',\n 'toffee',\n 'feeling',\n 'alice',\n 'telescope',\n 'face',\n 'size',\n 'door',\n 'garden',\n 'know',\n 'flame',\n 'candle',\n 'blown',\n 'thing',\n 'nothing',\n 'garden',\n 'key',\n 'found',\n 'glass',\n 'climb',\n 'legs',\n 'slippery',\n 'thing',\n 'alice',\n 'advice',\n 'seldom',\n 'box',\n 'game',\n 'croquet',\n 'child',\n 'fond',\n 'pretend',\n 'person',\n 'eye',\n 'glass',\n 'box',\n 'table',\n 'cake',\n 'reach',\n 'key',\n 'door',\n 'way',\n 'care',\n 'bit',\n 'way',\n 'way',\n 'hand',\n 'head',\n 'way',\n 'find',\n 'size',\n 'alice',\n 'way',\n 'nothing',\n 'life',\n 'way',\n 'work',\n 'cake',\n 'chapter',\n 'pool',\n 'curiouser',\n 'moment',\n 'im',\n 'telescope',\n 'nt',\n 'deal',\n 'trouble',\n 'way',\n 'kind',\n 'alice',\n 'way',\n 'pair',\n 'christmas',\n 'carrier',\n 'foot',\n 'hearthrug',\n 'fender',\n 'alice',\n 'love',\n 'head',\n 'hall',\n 'fact',\n 'key',\n 'door',\n 'side',\n 'look',\n 'garden',\n 'eye',\n 'get',\n 'way',\n 'moment',\n 'tell',\n 'pool',\n 'half',\n 'hall',\n 'time',\n 'distance',\n 'rabbit',\n 'pair',\n 'kid',\n 'hand',\n 'fan',\n 'hurry',\n 'duchess',\n 'duchess',\n 'oh',\n 'savage',\n 'alice',\n 'ask',\n 'rabbit',\n 'voice',\n 'please',\n 'rabbit',\n 'kid',\n 'hard',\n 'fan',\n 'time',\n 'queer',\n 'everything',\n 'today',\n 'yesterday',\n 'wonder',\n 'night',\n 'let',\n 'morning',\n 'question',\n 'world',\n 'ah',\n 'puzzle',\n 'age',\n 'see',\n 'ada',\n 'hair',\n 'mabel',\n 'dear',\n 'try',\n 'rate',\n 'multiplication',\n 'signify',\n 'geography',\n 'capital',\n 'paris',\n 'capital',\n 'rome',\n 'rome',\n 'mabel',\n 'voice',\n 'tail',\n 'pour',\n 'scale',\n 'right',\n 'poky',\n 'house',\n 'play',\n 'mind',\n 'mabel',\n 'stay',\n 'person',\n 'stay',\n 'somebody',\n 'dear',\n 'burst',\n 'see',\n 'rabbit',\n 'kid',\n 'thought',\n 'measure',\n 'cause',\n 'fan',\n 'time',\n 'escape',\n 'deal',\n 'change',\n 'glad',\n 'garden',\n 'speed',\n 'door',\n 'door',\n 'key',\n 'glass',\n 'child',\n 'foot',\n 'moment',\n 'splash',\n 'chin',\n 'salt',\n 'water',\n 'idea',\n 'sea',\n 'case',\n 'railway',\n 'life',\n 'conclusion',\n 'coast',\n 'number',\n 'bathing',\n 'sea',\n 'sand',\n 'wooden',\n 'railway',\n 'station',\n 'pool',\n 'swam',\n 'way',\n 'thing',\n 'everything',\n 'queer',\n 'today',\n 'something',\n 'way',\n 'thought',\n 'hippopotamus',\n 'mouse',\n 'alice',\n 'speak',\n 'everything',\n 'talk',\n 'rate',\n 'harm',\n 'way',\n 'pool',\n 'mouse',\n 'alice',\n 'way',\n 'mouse',\n 'thing',\n 'brother',\n 'grammar',\n 'mouse',\n 'mouse',\n 'mouse',\n 'mouse',\n 'mouse',\n 'mouse',\n 'nothing',\n 'thought',\n 'mouse',\n 'conqueror',\n 'knowledge',\n 'history',\n 'alice',\n 'notion',\n 'anything',\n 'chatte',\n 'sentence',\n 'lessonbook',\n 'mouse',\n 'water',\n 'pardon',\n 'hurt',\n 'mouse',\n 'shrill',\n 'voice',\n 'tone',\n 'nt',\n 'dinah',\n 'thing',\n 'alice',\n 'fire',\n 'face',\n 'thing',\n 'nurse',\n 'mice',\n 'beg',\n 'pardon',\n 'time',\n 'mouse',\n 'talk',\n 'mouse',\n 'end',\n 'tail',\n 'family',\n 'vulgar',\n 'name',\n 'hurry',\n 'change',\n 'conversation',\n 'fond',\n 'alice',\n 'dog',\n 'house',\n 'show',\n 'terrier',\n 'hair',\n 'sit',\n 'beg',\n 'dinner',\n 'farmer',\n 'alice',\n 'tone',\n 'afraid',\n 'mouse',\n 'commotion',\n 'pool',\n 'talk',\n 'mouse',\n 'heard',\n 'swam',\n 'face',\n 'passion',\n 'alice',\n 'voice',\n 'history',\n 'understand',\n 'hate',\n 'time',\n 'pool',\n 'eaglet',\n 'way',\n 'party',\n 'swam',\n 'chapter',\n 'caucusrace',\n 'tale',\n 'party',\n 'bank',\n 'wet',\n 'cross',\n 'question',\n 'course',\n 'consultation',\n 'alice',\n 'life',\n 'argument',\n 'lory',\n 'sulky',\n 'alice',\n 'lory',\n 'tell',\n 'age',\n 'mouse',\n 'person',\n 'authority',\n 'sit',\n 'listen',\n 'ring',\n 'mouse',\n 'alice',\n 'sure',\n 'get',\n 'mouse',\n 'air',\n 'thing',\n 'silence',\n 'round',\n 'please',\n 'conqueror',\n 'cause',\n 'pope',\n 'usurpation',\n 'edwin',\n 'morcar',\n 'earls',\n 'mercia',\n 'shiver',\n 'beg',\n 'pardon',\n 'mouse',\n 'mouse',\n 'proceed',\n 'morcar',\n 'archbishop',\n 'canterbury',\n 'duck',\n 'course',\n 'thing',\n 'duck',\n 'question',\n 'archbishop',\n 'mouse',\n 'question',\n 'meet',\n 'william',\n 'william',\n 'conduct',\n 'insolence',\n 'melancholy',\n 'tone',\n 'nt',\n 'case',\n 'dodo',\n 'meeting',\n 'adjourn',\n 'adoption',\n 'half',\n 'eaglet',\n 'bent',\n 'head',\n 'hide',\n 'smile',\n 'say',\n 'dodo',\n 'tone',\n 'thing',\n 'caucusrace',\n 'dodo',\n 'somebody',\n 'anything',\n 'way',\n 'explain',\n 'thing',\n 'day',\n 'racecourse',\n 'sort',\n 'circle',\n 'shape',\n 'matter',\n 'party',\n 'course',\n 'race',\n 'hour',\n 'dodo',\n 'race',\n 'round',\n 'question',\n 'dodo',\n 'deal',\n 'time',\n 'finger',\n 'position',\n 'silence',\n 'dodo',\n 'everybody',\n 'course',\n 'alice',\n 'finger',\n 'party',\n 'round',\n 'way',\n 'idea',\n 'despair',\n 'hand',\n 'pocket',\n 'box',\n 'water',\n 'round',\n 'round',\n 'course',\n 'dodo',\n 'alice',\n 'thimble',\n 'hand',\n 'dodo',\n 'round',\n 'dodo',\n 'acceptance',\n 'speech',\n 'thing',\n 'absurd',\n 'dare',\n 'laugh',\n 'anything',\n 'solemn',\n 'thing',\n 'eat',\n 'confusion',\n 'mouse',\n 'tell',\n 'something',\n 'history',\n 'know',\n 'hate',\n 'c',\n 'half',\n 'afraid',\n 'mine',\n 'tale',\n 'mouse',\n 'tail',\n 'alice',\n 'wonder',\n 'mouse',\n 'tail',\n 'call',\n 'mouse',\n 'idea',\n 'tale',\n 'something',\n 'fury',\n 'mouse',\n 'house',\n 'law',\n 'prosecute',\n 'trial',\n 'morning',\n 'nothing',\n 'mouse',\n 'cur',\n 'trial',\n 'jury',\n 'judge',\n 'breath',\n 'judge',\n 'jury',\n 'fury',\n 'ill',\n 'cause',\n 'condemn',\n 'death',\n 'attending',\n 'mouse',\n 'alice',\n 'beg',\n 'pardon',\n 'alice',\n 'bend',\n 'knot',\n 'alice',\n 'let',\n 'nothing',\n 'sort',\n 'mouse',\n 'insult',\n 'mean',\n 'mouse',\n 'please',\n 'story',\n 'alice',\n 'please',\n 'mouse',\n 'head',\n 'quicker',\n 'pity',\n 'lory',\n 'crab',\n 'opportunity',\n 'daughter',\n 'ah',\n 'let',\n 'lesson',\n 'hold',\n 'tongue',\n 'crab',\n 'patience',\n 'dinah',\n 'aloud',\n 'nobody',\n 'venture',\n 'question',\n 'alice',\n 'talk',\n 'pet',\n 'dinah',\n 'cat',\n 'capital',\n 'catching',\n 'mice',\n 'wish',\n 'speech',\n 'sensation',\n 'party',\n 'magpie',\n 'nightair',\n 'suit',\n 'throat',\n 'canary',\n 'voice',\n 'time',\n 'pretexts',\n 'nt',\n 'dinah',\n 'tone',\n 'nobody',\n 'cat',\n 'world',\n 'dinah',\n 'wonder',\n 'distance',\n 'mouse',\n 'mind',\n 'story',\n 'chapter',\n 'rabbit',\n 'bill',\n 'rabbit',\n 'something',\n 'heard',\n 'duchess',\n 'alice',\n 'moment',\n 'fan',\n 'kid',\n 'everything',\n 'swim',\n 'pool',\n 'glass',\n 'door',\n 'rabbit',\n 'alice',\n 'tone',\n 'ann',\n 'home',\n 'moment',\n 'fetch',\n 'pair',\n 'alice',\n 'direction',\n 'explain',\n 'mistake',\n 'housemaid',\n 'ran',\n 'fan',\n 'house',\n 'door',\n 'brass',\n 'plate',\n 'name',\n 'rabbit',\n 'fear',\n 'meet',\n 'ann',\n 'house',\n 'fan',\n 'alice',\n 'dinah',\n 'sort',\n 'thing',\n 'alice',\n 'walk',\n 'nurse',\n 'mouse',\n 'think',\n 'alice',\n 'house',\n 'time',\n 'way',\n 'room',\n 'table',\n 'window',\n 'fan',\n 'kid',\n 'fan',\n 'pair',\n 'room',\n 'eye',\n 'lookingglass',\n 'label',\n 'time',\n 'something',\n 'happen',\n 'eat',\n 'anything',\n 'hope',\n 'thing',\n 'half',\n 'bottle',\n 'head',\n 'ceiling',\n 'stoop',\n 'neck',\n 'hope',\n 'shant',\n 'grow',\n 'hadnt',\n 'drunk',\n 'floor',\n 'minute',\n 'room',\n 'effect',\n 'elbow',\n 'door',\n 'arm',\n 'round',\n 'head',\n 'resource',\n 'arm',\n 'window',\n 'foot',\n 'chimney',\n 'bottle',\n 'effect',\n 'sort',\n 'chance',\n 'room',\n 'wonder',\n 'pleasanter',\n 'home',\n 'wasnt',\n 'mice',\n 'nt',\n 'life',\n 'wonder',\n 'kind',\n 'thing',\n 'book',\n 'grown',\n 'tone',\n 'room',\n 'grow',\n 'comfort',\n 'way',\n 'woman',\n 'alice',\n 'room',\n 'room',\n 'side',\n 'conversation',\n 'voice',\n 'ann',\n 'ann',\n 'voice',\n 'fetch',\n 'moment',\n 'rabbit',\n 'look',\n 'shook',\n 'house',\n 'rabbit',\n 'reason',\n 'door',\n 'door',\n 'attempt',\n 'get',\n 'window',\n 'alice',\n 'till',\n 'rabbit',\n 'window',\n 'hand',\n 'snatch',\n 'air',\n 'anything',\n 'fall',\n 'crash',\n 'glass',\n 'cucumberframe',\n 'something',\n 'sort',\n 'voice',\n 'rabbit',\n 'voice',\n 'rabbit',\n 'help',\n 'glass',\n 'tell',\n 'pat',\n 'window',\n 'arm',\n 'yer',\n 'honour',\n 'arm',\n 'goose',\n 'size',\n 'honour',\n 'arm',\n 'business',\n 'rate',\n 'alice',\n 'yer',\n 'honour',\n 'tell',\n 'coward',\n 'spread',\n 'hand',\n 'snatch',\n 'air',\n 'time',\n 'glass',\n 'number',\n 'pulling',\n 'window',\n 'wish',\n 'nt',\n 'stay',\n 'time',\n 'anything',\n 'bill',\n 'bill',\n 'lad',\n 'corner',\n 'tie',\n 'theyll',\n 'bill',\n 'rope',\n 'roof',\n 'bear',\n 'mind',\n 'oh',\n 'crash',\n 'bill',\n 'nay',\n 'sha',\n 'nt',\n 'bill',\n 'bill',\n 'master',\n 'chimney',\n 'bill',\n 'chimney',\n 'shy',\n 'everything',\n 'upon',\n 'bill',\n 'bill',\n 'place',\n 'deal',\n 'fireplace',\n 'foot',\n 'chimney',\n 'animal',\n 'sort',\n 'chimney',\n 'bill',\n 'kick',\n 'see',\n 'thing',\n 'heard',\n 'chorus',\n 'bill',\n 'rabbit',\n ...]"
     },
     "execution_count": 16,
     "metadata": {},
     "output_type": "execute_result"
    }
   ],
   "source": [
    "nouns = [word for word, pos in alice_pos if pos in ['NN']]\n",
    "nouns"
   ]
  },
  {
   "cell_type": "markdown",
   "id": "3e4b05b2",
   "metadata": {
    "pycharm": {
     "name": "#%% md\n"
    }
   },
   "source": [
    "# <font color='red'> Question 14: 4 points"
   ]
  },
  {
   "cell_type": "code",
   "execution_count": 17,
   "id": "69544528",
   "metadata": {
    "pycharm": {
     "name": "#%%\n"
    }
   },
   "outputs": [
    {
     "data": {
      "text/plain": "                                                title\n0   OPINION: Midterm and final exams are unnecessa...\n1   Stanford's Social Life 101 deemed most difficu...\n2   Arguing With Myself About Whether To Call Midt...\n3   Could NAEP affect midterm elections? And other...\n4   Mid-term elections put both parties to the tes...\n..                                                ...\n95  Stamford high schools suspend midterms, finals...\n96  In-person midterms are preferred over online t...\n97  Midterm Exam Coming Up? You Must Do This One T...\n98  F.D.A. Clears Path for Over-the-Counter Hearin...\n99  Post-secondary life could be tough test for pa...\n\n[100 rows x 1 columns]",
      "text/html": "<div>\n<style scoped>\n    .dataframe tbody tr th:only-of-type {\n        vertical-align: middle;\n    }\n\n    .dataframe tbody tr th {\n        vertical-align: top;\n    }\n\n    .dataframe thead th {\n        text-align: right;\n    }\n</style>\n<table border=\"1\" class=\"dataframe\">\n  <thead>\n    <tr style=\"text-align: right;\">\n      <th></th>\n      <th>title</th>\n    </tr>\n  </thead>\n  <tbody>\n    <tr>\n      <th>0</th>\n      <td>OPINION: Midterm and final exams are unnecessa...</td>\n    </tr>\n    <tr>\n      <th>1</th>\n      <td>Stanford's Social Life 101 deemed most difficu...</td>\n    </tr>\n    <tr>\n      <th>2</th>\n      <td>Arguing With Myself About Whether To Call Midt...</td>\n    </tr>\n    <tr>\n      <th>3</th>\n      <td>Could NAEP affect midterm elections? And other...</td>\n    </tr>\n    <tr>\n      <th>4</th>\n      <td>Mid-term elections put both parties to the tes...</td>\n    </tr>\n    <tr>\n      <th>...</th>\n      <td>...</td>\n    </tr>\n    <tr>\n      <th>95</th>\n      <td>Stamford high schools suspend midterms, finals...</td>\n    </tr>\n    <tr>\n      <th>96</th>\n      <td>In-person midterms are preferred over online t...</td>\n    </tr>\n    <tr>\n      <th>97</th>\n      <td>Midterm Exam Coming Up? You Must Do This One T...</td>\n    </tr>\n    <tr>\n      <th>98</th>\n      <td>F.D.A. Clears Path for Over-the-Counter Hearin...</td>\n    </tr>\n    <tr>\n      <th>99</th>\n      <td>Post-secondary life could be tough test for pa...</td>\n    </tr>\n  </tbody>\n</table>\n<p>100 rows × 1 columns</p>\n</div>"
     },
     "execution_count": 17,
     "metadata": {},
     "output_type": "execute_result"
    }
   ],
   "source": [
    "#run the following code\n",
    "from pygooglenews import GoogleNews\n",
    "\n",
    "gn = GoogleNews()\n",
    "\n",
    "\n",
    "def get_titles(search):\n",
    "    \"\"\"fetch news titles\"\"\"\n",
    "    stories = []\n",
    "    search = gn.search(search)\n",
    "    newsitems = search['entries']\n",
    "    for item in newsitems:\n",
    "        story = {\n",
    "            'title': item.title,\n",
    "        }\n",
    "        stories.append(story)\n",
    "    return stories\n",
    "\n",
    "\n",
    "title = get_titles('midterm exam')\n",
    "title = pd.DataFrame(title)\n",
    "title"
   ]
  },
  {
   "cell_type": "markdown",
   "id": "dc1fb78b",
   "metadata": {
    "pycharm": {
     "name": "#%% md\n"
    }
   },
   "source": [
    "After importing GoogleNews, I ran the following code above. <br>\n",
    "Then, I managed to get the list of news articles with 'midterm exam' as the keywords. <br>\n",
    "I notice that there are both title and sources within our 'title' column. <br>\n",
    "Therefore, I want to retrieve only the title without sources. <br><br>\n",
    "*note* <br>\n",
    "Title and sources can be separated by '-'<br>\n",
    "Use title dataframe to work on it. <br><br>\n",
    "Using the str.split function, <br>\n",
    "1. create a new column called 'Title'. and within that newly created column,\n",
    "2. using the str.split() function, split 'title' column by the separator '-' <br>\n",
    "3. Set expand=True\n",
    "4. Make sure you use the first half before the separator, which is denoted by **[0]** (hint: add [0] at the end...)"
   ]
  },
  {
   "cell_type": "code",
   "execution_count": 18,
   "id": "0040dbba",
   "metadata": {
    "pycharm": {
     "name": "#%%\n"
    }
   },
   "outputs": [
    {
     "data": {
      "text/plain": "                                                title  \\\n0   OPINION: Midterm and final exams are unnecessa...   \n1   Stanford's Social Life 101 deemed most difficu...   \n2   Arguing With Myself About Whether To Call Midt...   \n3   Could NAEP affect midterm elections? And other...   \n4   Mid-term elections put both parties to the tes...   \n..                                                ...   \n95  Stamford high schools suspend midterms, finals...   \n96  In-person midterms are preferred over online t...   \n97  Midterm Exam Coming Up? You Must Do This One T...   \n98  F.D.A. Clears Path for Over-the-Counter Hearin...   \n99  Post-secondary life could be tough test for pa...   \n\n                                                Title  \n0   OPINION: Midterm and final exams are unnecessa...  \n1   Stanford's Social Life 101 deemed most difficu...  \n2   Arguing With Myself About Whether To Call Midt...  \n3   Could NAEP affect midterm elections? And other...  \n4                                                 Mid  \n..                                                ...  \n95  Stamford high schools suspend midterms, finals...  \n96                                                 In  \n97  Midterm Exam Coming Up? You Must Do This One T...  \n98                        F.D.A. Clears Path for Over  \n99                                               Post  \n\n[100 rows x 2 columns]",
      "text/html": "<div>\n<style scoped>\n    .dataframe tbody tr th:only-of-type {\n        vertical-align: middle;\n    }\n\n    .dataframe tbody tr th {\n        vertical-align: top;\n    }\n\n    .dataframe thead th {\n        text-align: right;\n    }\n</style>\n<table border=\"1\" class=\"dataframe\">\n  <thead>\n    <tr style=\"text-align: right;\">\n      <th></th>\n      <th>title</th>\n      <th>Title</th>\n    </tr>\n  </thead>\n  <tbody>\n    <tr>\n      <th>0</th>\n      <td>OPINION: Midterm and final exams are unnecessa...</td>\n      <td>OPINION: Midterm and final exams are unnecessa...</td>\n    </tr>\n    <tr>\n      <th>1</th>\n      <td>Stanford's Social Life 101 deemed most difficu...</td>\n      <td>Stanford's Social Life 101 deemed most difficu...</td>\n    </tr>\n    <tr>\n      <th>2</th>\n      <td>Arguing With Myself About Whether To Call Midt...</td>\n      <td>Arguing With Myself About Whether To Call Midt...</td>\n    </tr>\n    <tr>\n      <th>3</th>\n      <td>Could NAEP affect midterm elections? And other...</td>\n      <td>Could NAEP affect midterm elections? And other...</td>\n    </tr>\n    <tr>\n      <th>4</th>\n      <td>Mid-term elections put both parties to the tes...</td>\n      <td>Mid</td>\n    </tr>\n    <tr>\n      <th>...</th>\n      <td>...</td>\n      <td>...</td>\n    </tr>\n    <tr>\n      <th>95</th>\n      <td>Stamford high schools suspend midterms, finals...</td>\n      <td>Stamford high schools suspend midterms, finals...</td>\n    </tr>\n    <tr>\n      <th>96</th>\n      <td>In-person midterms are preferred over online t...</td>\n      <td>In</td>\n    </tr>\n    <tr>\n      <th>97</th>\n      <td>Midterm Exam Coming Up? You Must Do This One T...</td>\n      <td>Midterm Exam Coming Up? You Must Do This One T...</td>\n    </tr>\n    <tr>\n      <th>98</th>\n      <td>F.D.A. Clears Path for Over-the-Counter Hearin...</td>\n      <td>F.D.A. Clears Path for Over</td>\n    </tr>\n    <tr>\n      <th>99</th>\n      <td>Post-secondary life could be tough test for pa...</td>\n      <td>Post</td>\n    </tr>\n  </tbody>\n</table>\n<p>100 rows × 2 columns</p>\n</div>"
     },
     "execution_count": 18,
     "metadata": {},
     "output_type": "execute_result"
    }
   ],
   "source": [
    "title['Title'] = title['title'].str.split(\"-\", expand=True)[0]\n",
    "title"
   ]
  },
  {
   "cell_type": "markdown",
   "id": "6937c37d",
   "metadata": {
    "pycharm": {
     "name": "#%% md\n"
    }
   },
   "source": [
    "# <font color='red'> Question 15: 3 points"
   ]
  },
  {
   "cell_type": "code",
   "execution_count": 19,
   "id": "b6e7481f",
   "metadata": {
    "pycharm": {
     "name": "#%%\n"
    }
   },
   "outputs": [
    {
     "data": {
      "text/plain": "Sentiment(polarity=-0.3, subjectivity=0.725)"
     },
     "execution_count": 19,
     "metadata": {},
     "output_type": "execute_result"
    }
   ],
   "source": [
    "#run the following code\n",
    "from textblob import Word, TextBlob\n",
    "\n",
    "text = TextBlob(\"\"\"\n",
    "I really hated exams. I tried to make it not too difficult, but we will see.\n",
    "Do not worry too much, I will bunk the grades up as possible,\n",
    "so please do not give up.\n",
    "\"\"\").sentiment\n",
    "text"
   ]
  },
  {
   "cell_type": "markdown",
   "id": "60cbf550",
   "metadata": {
    "pycharm": {
     "name": "#%% md\n"
    }
   },
   "source": [
    "Explain what polarity and subjectivity number refers to.<br>\n",
    "Explain within 4 sentences."
   ]
  },
  {
   "cell_type": "markdown",
   "id": "36a9fe10",
   "metadata": {
    "pycharm": {
     "name": "#%% md\n"
    }
   },
   "source": [
    "explain in this box:\n",
    "In the sentiment analysis we look at to different things: polarity and subjectivity.\n",
    "Polarity is whether the text is negative, positive or neutral. We measure this from -1 to 1, with one being positive, 0 being neutral and -1 being negative.\n",
    "Subjectivity is the amount of attitude or emotion or personal opinion in the text. We measure this from 0 to 1, with 1 being totally subjective.\n",
    "In our case the polarity is -0.3 so the text is considered to be negative, and the subjectivity is 0.725, so the text is considered subjective."
   ]
  },
  {
   "cell_type": "markdown",
   "id": "882f8799",
   "metadata": {
    "pycharm": {
     "name": "#%% md\n"
    }
   },
   "source": [
    "# <font color='red'> Question 16: 3 points"
   ]
  },
  {
   "cell_type": "markdown",
   "id": "92e260d2",
   "metadata": {
    "pycharm": {
     "name": "#%% md\n"
    }
   },
   "source": [
    "(Points are given for this question) <br>\n",
    "\n",
    "**From Prof.:** <br>\n",
    "Any comments of the exam, or the class, <br>\n",
    "so that I can improve on the latter half of the course?? <br>\n",
    "Was the exam too hard, okayish or easy? <br>\n",
    "If you have any comments, please leave it here. "
   ]
  },
  {
   "cell_type": "code",
   "execution_count": 20,
   "id": "266a3c2e",
   "metadata": {
    "pycharm": {
     "name": "#%%\n"
    }
   },
   "outputs": [],
   "source": [
    "# I think it was appropriate. I studied for the exam, did the exercises and so for me it was fine. I think if you haven't studied it might be hard, which is fair.\n",
    "# Before the exam I was worried because I thought more exercise on my own would have helped me more, but now that I did the exam I think the exercise that we did helped me more then enough."
   ]
  },
  {
   "cell_type": "markdown",
   "id": "9e3c0894",
   "metadata": {
    "pycharm": {
     "name": "#%% md\n"
    }
   },
   "source": [
    "#  <font color='GREEN'> ONCE YOU ARE DONE, SAVE YOUR FILE WITH YOUR NAME, AND UPLOAD IN THE EXAM SECTION."
   ]
  },
  {
   "cell_type": "code",
   "execution_count": 20,
   "id": "48a23b24",
   "metadata": {
    "pycharm": {
     "name": "#%%\n"
    }
   },
   "outputs": [],
   "source": []
  }
 ],
 "metadata": {
  "kernelspec": {
   "display_name": "Python 3",
   "language": "python",
   "name": "python3"
  },
  "language_info": {
   "codemirror_mode": {
    "name": "ipython",
    "version": 3
   },
   "file_extension": ".py",
   "mimetype": "text/x-python",
   "name": "python",
   "nbconvert_exporter": "python",
   "pygments_lexer": "ipython3",
   "version": "3.8.8"
  }
 },
 "nbformat": 4,
 "nbformat_minor": 5
}