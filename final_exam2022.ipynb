{
 "cells": [
  {
   "cell_type": "markdown",
   "id": "792a67ba",
   "metadata": {},
   "source": [
    "# Final Exam <2022 Fall>\n",
    "You have  until 2:30pm to finish the exam. \n",
    "\n",
    "You are allowed to go through documentation file\n",
    "but you are <font color='red'>**NOT**</font> allowed to go through our <font color='red'> **class material files**, **lecture slides** or **websites.**</font> <br>\n",
    "If you get caught, then you will be given 0 for your entire final exam score, including LMS. \n",
    "\n",
    "Since this is open documentation file, I will be strict with time. <br>\n",
    "You have to UPLOAD your exam by 2:30pm. I will be closing the upload at 2:30pm sharp.<br>\n",
    "If you are done, save it and upload it on LMS-Quiz-Jupyter Notebook section <br>\n",
    "If you have any question, please ask me! <br>\n",
    "Good luck!\n"
   ]
  },
  {
   "cell_type": "markdown",
   "id": "b7815693",
   "metadata": {},
   "source": [
    "# <font color='red'> Question 1: 3 points"
   ]
  },
  {
   "cell_type": "markdown",
   "id": "0cf77ecb",
   "metadata": {},
   "source": [
    "Convert two lists (a, b) below into a dictionary, **USING ZIP function**,\n",
    "so that I will get an output:<br>\n",
    "<code>{'a':1,'b':2,'c':3} </code> <br>\n",
    "Create a new variable **dictionary** and save your code there.<br>\n",
    "If you do not use zip function, then you will get no point."
   ]
  },
  {
   "cell_type": "code",
   "execution_count": 1,
   "id": "1d065fbc",
   "metadata": {},
   "outputs": [
    {
     "data": {
      "text/plain": "{'a': 1, 'b': 2, 'c': 3}"
     },
     "execution_count": 1,
     "metadata": {},
     "output_type": "execute_result"
    }
   ],
   "source": [
    "a = ['a', 'b', 'c']\n",
    "b = [1, 2, 3]\n",
    "\n",
    "#code here\n",
    "dictionary = dict(zip(a, b))\n",
    "dictionary"
   ]
  },
  {
   "cell_type": "markdown",
   "id": "470c03cc",
   "metadata": {},
   "source": [
    "# <font color='red'> Question 2: 3 points"
   ]
  },
  {
   "cell_type": "markdown",
   "id": "99dbd241",
   "metadata": {},
   "source": [
    "You have a list of student names in students list, and an empty list with student_number. <br>\n",
    "Use **enumerate function** so that the function will assign an index to each item to each student name. <br>\n",
    "Then, append it back into the empty list student_number. <br>\n",
    "The first student's index number should start from 1. <br>\n",
    "\n",
    "1 point: index number starting from 1<br>\n",
    "1 point: for loop or list comprehension<br>\n",
    "1 point: whether you appended in a list.<br>\n",
    "\n",
    "The output should look like this: <br>\n",
    "<code>[(1, 'Bob'), (2, 'Kevin'), (3, 'Heidi'), (4, 'Jason')]</code>"
   ]
  },
  {
   "cell_type": "code",
   "execution_count": 2,
   "id": "7fdb8ee7",
   "metadata": {},
   "outputs": [
    {
     "name": "stdout",
     "output_type": "stream",
     "text": [
      "[(1, 'Bob'), (2, 'Kevin'), (3, 'Heidi'), (4, 'Jason')]\n"
     ]
    }
   ],
   "source": [
    "# do not fix this given code\n",
    "students = ['Bob', 'Kevin', 'Heidi', 'Jason']\n",
    "student_number = []\n",
    "\n",
    "#start coding here.\n",
    "for i, s in enumerate(students, start=1):\n",
    "    student_number.append(i)\n",
    "\n",
    "student_number = list(zip(student_number, students))\n",
    "print(student_number)\n",
    "\n",
    "# --------------------------------------------------"
   ]
  },
  {
   "cell_type": "markdown",
   "id": "f03233be",
   "metadata": {},
   "source": [
    "# <font color='red'> Question 3: 4 points"
   ]
  },
  {
   "cell_type": "code",
   "execution_count": 3,
   "id": "a89f314e",
   "metadata": {},
   "outputs": [],
   "source": [
    "# run this code first\n",
    "import networkx as nx\n",
    "import matplotlib.pyplot as plt\n",
    "%matplotlib inline\n",
    "G = nx.karate_club_graph()"
   ]
  },
  {
   "cell_type": "markdown",
   "id": "88c012f4",
   "metadata": {},
   "source": [
    "Calculate a centrality measure that will measure influence based on the number of links it has to other nodes in the network.  <br>\n",
    "Use one of the centrality measure for all nodes in Graph G: 1 point"
   ]
  },
  {
   "cell_type": "code",
   "execution_count": 4,
   "id": "fd2ed658",
   "metadata": {},
   "outputs": [
    {
     "data": {
      "text/plain": "{0: 0.35548349418519426,\n 1: 0.2659538704545024,\n 2: 0.3171893899684447,\n 3: 0.21117407832057056,\n 4: 0.0759664588165738,\n 5: 0.07948057788594245,\n 6: 0.07948057788594245,\n 7: 0.1709551149803543,\n 8: 0.22740509147166046,\n 9: 0.10267519030637756,\n 10: 0.0759664588165738,\n 11: 0.05285416945233646,\n 12: 0.08425192086558085,\n 13: 0.22646969838808145,\n 14: 0.10140627846270832,\n 15: 0.10140627846270832,\n 16: 0.02363479426059687,\n 17: 0.0923967566684595,\n 18: 0.10140627846270832,\n 19: 0.14791134007618667,\n 20: 0.10140627846270832,\n 21: 0.0923967566684595,\n 22: 0.10140627846270832,\n 23: 0.15012328691726787,\n 24: 0.057053735638028055,\n 25: 0.0592082025027901,\n 26: 0.07558192219009324,\n 27: 0.13347932684333308,\n 28: 0.13107925627221215,\n 29: 0.13496528673866567,\n 30: 0.17476027834493088,\n 31: 0.191036269797917,\n 32: 0.3086510477336959,\n 33: 0.37337121301323506}"
     },
     "execution_count": 4,
     "metadata": {},
     "output_type": "execute_result"
    }
   ],
   "source": [
    "#code here\n",
    "# nodes don't have to be direct! (direct links would mean degree centrality)\n",
    "eigenvector_centrality = nx.eigenvector_centrality(G)\n",
    "eigenvector_centrality"
   ]
  },
  {
   "cell_type": "markdown",
   "id": "c49f49bc",
   "metadata": {},
   "source": [
    "According to your output, which node has the most influence? 1 point. <br>\n"
   ]
  },
  {
   "cell_type": "markdown",
   "id": "33bf7293",
   "metadata": {},
   "source": [
    "write your answer here: node 33: has the eigenvector centrality of 0.37337121... which is the highest"
   ]
  },
  {
   "cell_type": "markdown",
   "id": "773ae8f5",
   "metadata": {},
   "source": [
    "Which node is close to all the nodes within the network? 1 point <br>\n",
    "Calculate centrality measure to find which one is the closest to all nodes within the network. (1 point)"
   ]
  },
  {
   "cell_type": "code",
   "execution_count": 5,
   "id": "71d938a3",
   "metadata": {},
   "outputs": [
    {
     "data": {
      "text/plain": "{0: 0.5689655172413793,\n 1: 0.4852941176470588,\n 2: 0.559322033898305,\n 3: 0.4647887323943662,\n 4: 0.3793103448275862,\n 5: 0.38372093023255816,\n 6: 0.38372093023255816,\n 7: 0.44,\n 8: 0.515625,\n 9: 0.4342105263157895,\n 10: 0.3793103448275862,\n 11: 0.36666666666666664,\n 12: 0.3707865168539326,\n 13: 0.515625,\n 14: 0.3707865168539326,\n 15: 0.3707865168539326,\n 16: 0.28448275862068967,\n 17: 0.375,\n 18: 0.3707865168539326,\n 19: 0.5,\n 20: 0.3707865168539326,\n 21: 0.375,\n 22: 0.3707865168539326,\n 23: 0.39285714285714285,\n 24: 0.375,\n 25: 0.375,\n 26: 0.3626373626373626,\n 27: 0.4583333333333333,\n 28: 0.4520547945205479,\n 29: 0.38372093023255816,\n 30: 0.4583333333333333,\n 31: 0.5409836065573771,\n 32: 0.515625,\n 33: 0.55}"
     },
     "execution_count": 5,
     "metadata": {},
     "output_type": "execute_result"
    }
   ],
   "source": [
    "# code here for centrality measure.\n",
    "nx.closeness_centrality(G)"
   ]
  },
  {
   "cell_type": "markdown",
   "id": "8c82f81d",
   "metadata": {},
   "source": [
    " which one is close to all nodes? "
   ]
  },
  {
   "cell_type": "markdown",
   "id": "0ec5f002",
   "metadata": {},
   "source": [
    "write your answer here: the closest to all nodes is node 16 with closeness_centrality of 0.284482..."
   ]
  },
  {
   "cell_type": "markdown",
   "id": "cfd4ad08",
   "metadata": {},
   "source": [
    "# <font color='red'> Question 4: 3 points"
   ]
  },
  {
   "cell_type": "markdown",
   "id": "30ab6f61",
   "metadata": {},
   "source": [
    "Calculate degree assortativity coefficient for G. (2 points)"
   ]
  },
  {
   "cell_type": "code",
   "execution_count": 6,
   "id": "6cbc3492",
   "metadata": {},
   "outputs": [
    {
     "data": {
      "text/plain": "-0.47561309768461413"
     },
     "execution_count": 6,
     "metadata": {},
     "output_type": "execute_result"
    }
   ],
   "source": [
    "# code here\n",
    "degree_assort_coeff = nx.degree_assortativity_coefficient(G)\n",
    "degree_assort_coeff"
   ]
  },
  {
   "cell_type": "markdown",
   "id": "297130e9",
   "metadata": {},
   "source": [
    "Interpret the output for degree assortativity in one or two simple sentences. (1 point)"
   ]
  },
  {
   "cell_type": "markdown",
   "id": "490a2aa1",
   "metadata": {},
   "source": [
    "write your answer here: the degree assortativity coefficient measures the similarity of connections in the graph with respect to the node degree. In our example the coefficient is -0.4756....\n",
    "The coefficient can be between -1 and 1, with 0 being there is no similarity in the connections. 1 means nodes are connected to other similar nodes and -1 means nodes are connected to dissimilar nodes.\n",
    "In our example the coefficient is negative, so its connected to dissimilar nodes. The coefficient is not close to 1 though so the dissimilarity is not super high."
   ]
  },
  {
   "cell_type": "markdown",
   "id": "3c91a5d1",
   "metadata": {},
   "source": [
    "# <font color='red'> Question 5: 3 points"
   ]
  },
  {
   "cell_type": "code",
   "execution_count": 7,
   "id": "ac8556a4",
   "metadata": {},
   "outputs": [],
   "source": [
    "# run this code first\n",
    "import numpy as np\n",
    "import pandas as pd\n",
    "import matplotlib.pyplot as plt\n",
    "from sklearn.model_selection import train_test_split\n",
    "from sklearn.neighbors import KNeighborsClassifier\n",
    "from sklearn import preprocessing"
   ]
  },
  {
   "cell_type": "code",
   "execution_count": 8,
   "id": "9e6e2f7b",
   "metadata": {},
   "outputs": [],
   "source": [
    "# First Feature\n",
    "weather = ['Sunny', 'Sunny', 'Cloudy', 'Rainy', 'Rainy', 'Rainy', 'Cloudy', 'Sunny', 'Sunny',\n",
    "           'Rainy', 'Sunny', 'Cloudy', 'Overcast', 'Rainy']\n",
    "# Second Feature\n",
    "temp = ['Hot', 'Hot', 'Hot', 'Mild', 'Cool', 'Cool', 'Cool', 'Mild', 'Cool', 'Mild', 'Mild', 'Mild', 'Hot', 'Mild']\n",
    "# Label \n",
    "play = ['No', 'No', 'Yes', 'Yes', 'Yes', 'No', 'Yes', 'No', 'Yes', 'Yes', 'Yes', 'Yes', 'Yes', 'No']"
   ]
  },
  {
   "cell_type": "markdown",
   "id": "5f8cdaae",
   "metadata": {},
   "source": [
    "We need to convert string features (weather and temp) and label into numbers. <br>\n",
    "Convert two features using <code>preprocessing.LabelEncoder()</code> which I set it as <code>le</code> below.<br>\n",
    "create a new variable <code>weather_encoded</code> , <code>temp_encoded</code> and <code>label</code> and save encoded output there. (3 points) <br>\n",
    "**hint: use <code>fit_transform()</code> along with <code>le</code> to convert it**"
   ]
  },
  {
   "cell_type": "code",
   "execution_count": 18,
   "id": "29d7708e",
   "metadata": {},
   "outputs": [
    {
     "data": {
      "text/plain": "array([0, 0, 1, 1, 1, 0, 1, 0, 1, 1, 1, 1, 1, 0], dtype=int64)"
     },
     "execution_count": 18,
     "metadata": {},
     "output_type": "execute_result"
    }
   ],
   "source": [
    "le = preprocessing.LabelEncoder()\n",
    "\n",
    "# start coding here\n",
    "weather_encoded = le.fit_transform(weather)\n",
    "temp_encoded = le.fit_transform(temp)\n",
    "label = le.fit_transform(play)"
   ]
  },
  {
   "cell_type": "markdown",
   "id": "5c213429",
   "metadata": {},
   "source": [
    "# <font color='red'> Question 6: 3 points"
   ]
  },
  {
   "cell_type": "markdown",
   "id": "4a1af3ec",
   "metadata": {},
   "source": [
    "Using <code>zip()</code> function, combine <code>weather_encoded</code> and <code>temp_encoded</code> into a single **list** of **tuples**.<br>\n",
    "Save it into a variable called <code>features</code> <br>\n",
    "1 point = saving it in features <br>\n",
    "1 point = for using zip function <br>\n",
    "1 point = for making it into a list <br>"
   ]
  },
  {
   "cell_type": "code",
   "execution_count": 10,
   "id": "5260df40",
   "metadata": {},
   "outputs": [],
   "source": [
    "# code here\n",
    "features = list(zip(weather_encoded, temp_encoded))"
   ]
  },
  {
   "cell_type": "markdown",
   "id": "b2e8674e",
   "metadata": {},
   "source": [
    "# <font color='red'> Question 7: 3 points"
   ]
  },
  {
   "cell_type": "markdown",
   "id": "10a70279",
   "metadata": {},
   "source": [
    "Fit() the k-nearest neighbors classifier from the training dataset. <br>\n",
    "You do not need to split the data into training and test set. (2 points) <br> "
   ]
  },
  {
   "cell_type": "code",
   "execution_count": 13,
   "id": "4e0dd734",
   "metadata": {},
   "outputs": [
    {
     "data": {
      "text/plain": "KNeighborsClassifier()",
      "text/html": "<style>#sk-container-id-1 {color: black;background-color: white;}#sk-container-id-1 pre{padding: 0;}#sk-container-id-1 div.sk-toggleable {background-color: white;}#sk-container-id-1 label.sk-toggleable__label {cursor: pointer;display: block;width: 100%;margin-bottom: 0;padding: 0.3em;box-sizing: border-box;text-align: center;}#sk-container-id-1 label.sk-toggleable__label-arrow:before {content: \"▸\";float: left;margin-right: 0.25em;color: #696969;}#sk-container-id-1 label.sk-toggleable__label-arrow:hover:before {color: black;}#sk-container-id-1 div.sk-estimator:hover label.sk-toggleable__label-arrow:before {color: black;}#sk-container-id-1 div.sk-toggleable__content {max-height: 0;max-width: 0;overflow: hidden;text-align: left;background-color: #f0f8ff;}#sk-container-id-1 div.sk-toggleable__content pre {margin: 0.2em;color: black;border-radius: 0.25em;background-color: #f0f8ff;}#sk-container-id-1 input.sk-toggleable__control:checked~div.sk-toggleable__content {max-height: 200px;max-width: 100%;overflow: auto;}#sk-container-id-1 input.sk-toggleable__control:checked~label.sk-toggleable__label-arrow:before {content: \"▾\";}#sk-container-id-1 div.sk-estimator input.sk-toggleable__control:checked~label.sk-toggleable__label {background-color: #d4ebff;}#sk-container-id-1 div.sk-label input.sk-toggleable__control:checked~label.sk-toggleable__label {background-color: #d4ebff;}#sk-container-id-1 input.sk-hidden--visually {border: 0;clip: rect(1px 1px 1px 1px);clip: rect(1px, 1px, 1px, 1px);height: 1px;margin: -1px;overflow: hidden;padding: 0;position: absolute;width: 1px;}#sk-container-id-1 div.sk-estimator {font-family: monospace;background-color: #f0f8ff;border: 1px dotted black;border-radius: 0.25em;box-sizing: border-box;margin-bottom: 0.5em;}#sk-container-id-1 div.sk-estimator:hover {background-color: #d4ebff;}#sk-container-id-1 div.sk-parallel-item::after {content: \"\";width: 100%;border-bottom: 1px solid gray;flex-grow: 1;}#sk-container-id-1 div.sk-label:hover label.sk-toggleable__label {background-color: #d4ebff;}#sk-container-id-1 div.sk-serial::before {content: \"\";position: absolute;border-left: 1px solid gray;box-sizing: border-box;top: 0;bottom: 0;left: 50%;z-index: 0;}#sk-container-id-1 div.sk-serial {display: flex;flex-direction: column;align-items: center;background-color: white;padding-right: 0.2em;padding-left: 0.2em;position: relative;}#sk-container-id-1 div.sk-item {position: relative;z-index: 1;}#sk-container-id-1 div.sk-parallel {display: flex;align-items: stretch;justify-content: center;background-color: white;position: relative;}#sk-container-id-1 div.sk-item::before, #sk-container-id-1 div.sk-parallel-item::before {content: \"\";position: absolute;border-left: 1px solid gray;box-sizing: border-box;top: 0;bottom: 0;left: 50%;z-index: -1;}#sk-container-id-1 div.sk-parallel-item {display: flex;flex-direction: column;z-index: 1;position: relative;background-color: white;}#sk-container-id-1 div.sk-parallel-item:first-child::after {align-self: flex-end;width: 50%;}#sk-container-id-1 div.sk-parallel-item:last-child::after {align-self: flex-start;width: 50%;}#sk-container-id-1 div.sk-parallel-item:only-child::after {width: 0;}#sk-container-id-1 div.sk-dashed-wrapped {border: 1px dashed gray;margin: 0 0.4em 0.5em 0.4em;box-sizing: border-box;padding-bottom: 0.4em;background-color: white;}#sk-container-id-1 div.sk-label label {font-family: monospace;font-weight: bold;display: inline-block;line-height: 1.2em;}#sk-container-id-1 div.sk-label-container {text-align: center;}#sk-container-id-1 div.sk-container {/* jupyter's `normalize.less` sets `[hidden] { display: none; }` but bootstrap.min.css set `[hidden] { display: none !important; }` so we also need the `!important` here to be able to override the default hidden behavior on the sphinx rendered scikit-learn.org. See: https://github.com/scikit-learn/scikit-learn/issues/21755 */display: inline-block !important;position: relative;}#sk-container-id-1 div.sk-text-repr-fallback {display: none;}</style><div id=\"sk-container-id-1\" class=\"sk-top-container\"><div class=\"sk-text-repr-fallback\"><pre>KNeighborsClassifier()</pre><b>In a Jupyter environment, please rerun this cell to show the HTML representation or trust the notebook. <br />On GitHub, the HTML representation is unable to render, please try loading this page with nbviewer.org.</b></div><div class=\"sk-container\" hidden><div class=\"sk-item\"><div class=\"sk-estimator sk-toggleable\"><input class=\"sk-toggleable__control sk-hidden--visually\" id=\"sk-estimator-id-1\" type=\"checkbox\" checked><label for=\"sk-estimator-id-1\" class=\"sk-toggleable__label sk-toggleable__label-arrow\">KNeighborsClassifier</label><div class=\"sk-toggleable__content\"><pre>KNeighborsClassifier()</pre></div></div></div></div></div>"
     },
     "execution_count": 13,
     "metadata": {},
     "output_type": "execute_result"
    }
   ],
   "source": [
    "knn = KNeighborsClassifier()\n",
    "# start coding here\n",
    "knn.fit(features, label)"
   ]
  },
  {
   "cell_type": "markdown",
   "id": "1fb5a0ba",
   "metadata": {},
   "source": [
    "Interpret the output (in one simple sentence) for the output of the prediction below. (1 point) <br>"
   ]
  },
  {
   "cell_type": "code",
   "execution_count": 14,
   "id": "5b46e2ef",
   "metadata": {},
   "outputs": [
    {
     "name": "stdout",
     "output_type": "stream",
     "text": [
      "[0]\n"
     ]
    }
   ],
   "source": [
    "#run this code\n",
    "predicted = knn.predict([[3, 2]])\n",
    "print(predicted)"
   ]
  },
  {
   "cell_type": "markdown",
   "id": "9590fd55",
   "metadata": {},
   "source": [
    "Write your one line interpretation here. <br>\n",
    "eg. if the weather is ~ and temperature is ~ then it is more likely that I will ~.\n",
    "\n",
    "When the weather is 'Sunny' (encoded: 3) and  the temperature is 'Mild' (encoded: 2) then it is more likely that I will not play (0)."
   ]
  },
  {
   "cell_type": "markdown",
   "id": "da713025",
   "metadata": {},
   "source": [
    "# <font color='red'> Question 8: 3 points"
   ]
  },
  {
   "cell_type": "code",
   "execution_count": 19,
   "id": "228a9f69",
   "metadata": {},
   "outputs": [],
   "source": [
    "#run this code\n",
    "from sklearn import datasets\n",
    "from sklearn.tree import DecisionTreeClassifier\n",
    "from sklearn.model_selection import train_test_split\n",
    "from sklearn import metrics\n",
    "\n",
    "iris = datasets.load_iris()"
   ]
  },
  {
   "cell_type": "markdown",
   "id": "c8de30b3",
   "metadata": {},
   "source": [
    "Using Iris dataset, we will be splitting data into training and test set. <br>\n",
    "I want 70% of data to be training set, and 30% to be the test set. <br>\n",
    "Complete the code below."
   ]
  },
  {
   "cell_type": "code",
   "execution_count": 20,
   "id": "d5f9cc37",
   "metadata": {},
   "outputs": [],
   "source": [
    "X = iris.data\n",
    "y = iris.target\n",
    "\n",
    "# start coding here\n",
    "X_train, X_test, y_train, y_test = train_test_split(X, y, test_size=0.3, random_state=0)"
   ]
  },
  {
   "cell_type": "markdown",
   "id": "f98660ff",
   "metadata": {},
   "source": [
    "# <font color='red'> Question 9: 4 points"
   ]
  },
  {
   "cell_type": "markdown",
   "id": "900f080c",
   "metadata": {},
   "source": [
    "Line by line, explain what I did in the code below.<br>\n",
    "Give interpretation of the result. <br>\n",
    "Explanation for each line is worth 1 point."
   ]
  },
  {
   "cell_type": "code",
   "execution_count": 21,
   "id": "59030ab9",
   "metadata": {},
   "outputs": [
    {
     "name": "stdout",
     "output_type": "stream",
     "text": [
      "Accuracy: 0.9777777777777777\n"
     ]
    }
   ],
   "source": [
    "# run this code first\n",
    "clf = DecisionTreeClassifier()\n",
    "iris_model = clf.fit(X_train, y_train)\n",
    "y_pred = iris_model.predict(X_test)\n",
    "print(\"Accuracy:\", metrics.accuracy_score(y_test, y_pred))"
   ]
  },
  {
   "cell_type": "markdown",
   "id": "2ea80106",
   "metadata": {},
   "source": [
    "Write your interpretation of the result here:\n",
    "- At first the constructor for a new DecisionTreeClassifier is called and saved in the variable 'clf'.\n",
    "- Then the DecisionTreeClassifier from the line before is called to fit with the train data, X_train is the train data for the input and y_train is the train data for the output (target). The result of the fitting is saved in the variable 'iris_model'\n",
    "- Then we use the 'iris_model' from the line before to predict data. For the input data we use X_test, because we later want to compare out results of the prediction to our y_test data to measure the accuracy of our model. The newly predicted data is saved in the variable 'y_pred'.\n",
    "- In the last line we calculate and print the accuracy score of our newly created model. This is done through comparing the predicted data from our new model ('y_pred') with the actual target data / test data that we have from splitting the data earlier (y_test)."
   ]
  },
  {
   "cell_type": "markdown",
   "id": "a73d5092",
   "metadata": {},
   "source": [
    "# <font color='red'> Question 10: 4 points"
   ]
  },
  {
   "cell_type": "code",
   "execution_count": 22,
   "id": "8cdf180f",
   "metadata": {},
   "outputs": [
    {
     "data": {
      "text/plain": "   sepal length  petal length\n0           5.1           1.4\n1           4.9           1.4\n2           4.7           1.3\n3           4.6           1.5\n4           5.0           1.4",
      "text/html": "<div>\n<style scoped>\n    .dataframe tbody tr th:only-of-type {\n        vertical-align: middle;\n    }\n\n    .dataframe tbody tr th {\n        vertical-align: top;\n    }\n\n    .dataframe thead th {\n        text-align: right;\n    }\n</style>\n<table border=\"1\" class=\"dataframe\">\n  <thead>\n    <tr style=\"text-align: right;\">\n      <th></th>\n      <th>sepal length</th>\n      <th>petal length</th>\n    </tr>\n  </thead>\n  <tbody>\n    <tr>\n      <th>0</th>\n      <td>5.1</td>\n      <td>1.4</td>\n    </tr>\n    <tr>\n      <th>1</th>\n      <td>4.9</td>\n      <td>1.4</td>\n    </tr>\n    <tr>\n      <th>2</th>\n      <td>4.7</td>\n      <td>1.3</td>\n    </tr>\n    <tr>\n      <th>3</th>\n      <td>4.6</td>\n      <td>1.5</td>\n    </tr>\n    <tr>\n      <th>4</th>\n      <td>5.0</td>\n      <td>1.4</td>\n    </tr>\n  </tbody>\n</table>\n</div>"
     },
     "execution_count": 22,
     "metadata": {},
     "output_type": "execute_result"
    }
   ],
   "source": [
    "from sklearn.cluster import KMeans\n",
    "\n",
    "# run this code\n",
    "data = pd.DataFrame({\n",
    "    'sepal length': iris.data[:, 0],\n",
    "    'petal length': iris.data[:, 2],\n",
    "})\n",
    "data.head()"
   ]
  },
  {
   "cell_type": "markdown",
   "id": "45d2f0a6",
   "metadata": {},
   "source": [
    "I am trying to run k-means clustering. <br>\n",
    "I first ran the code below for WCSS. <br>\n",
    "Explain line by line what the code would do. (4 points)"
   ]
  },
  {
   "cell_type": "code",
   "execution_count": 23,
   "id": "d83fc7c3",
   "metadata": {},
   "outputs": [],
   "source": [
    "# run the code below\n",
    "wcss = []\n",
    "for i in range(1, 11):\n",
    "    kmeans = KMeans(n_clusters=i, init='k-means++', random_state=0)\n",
    "    kmeans.fit(data)\n",
    "    wcss.append(kmeans.inertia_)"
   ]
  },
  {
   "cell_type": "markdown",
   "id": "d21cafa4",
   "metadata": {},
   "source": [
    "Explain your answer here:\n",
    "- the first line just creates an empty list and saves it to the variable wcss\n",
    "- the next line opens a for-loop for a range (numbers one to 11 (with the 11 being exclusive))\n",
    "- the next line creates a KMeans with different number of clusters per iteration [1 to 11[, the random_state being zero and the init being the k-means++ and saves it in the variable kmeans\n",
    "- then the following line uses kmeans and fits the data\n",
    "- the last line calculates the inertia of the current kmeans model and appends it to the 'wcss' list from the first line."
   ]
  },
  {
   "cell_type": "markdown",
   "id": "39fdccee",
   "metadata": {},
   "source": [
    "# <font color='red'> Question 11: 3 points"
   ]
  },
  {
   "cell_type": "markdown",
   "id": "fc4c00ec",
   "metadata": {},
   "source": [
    "What is elbow method? <br>\n",
    "What does the line in the graph show? <br>\n",
    "How would you set the number of clusters? (as long as you are in the range, I will give you point.)"
   ]
  },
  {
   "cell_type": "code",
   "execution_count": 24,
   "id": "98c05815",
   "metadata": {},
   "outputs": [
    {
     "data": {
      "text/plain": "<Figure size 640x480 with 1 Axes>",
      "image/png": "[encoded data removed]"
     },
     "metadata": {},
     "output_type": "display_data"
    }
   ],
   "source": [
    "# run the code below\n",
    "plt.plot(range(1, 11), wcss)\n",
    "plt.title('The Elbow Method')\n",
    "plt.xlabel('Number of clusters')\n",
    "plt.ylabel('WCSS')\n",
    "plt.show()"
   ]
  },
  {
   "cell_type": "markdown",
   "id": "b23493e0",
   "metadata": {},
   "source": [
    "Write your answer here\n",
    "- the elbow method is used to get an idea of how many clusters we want to use to have the lowest wcss for the lowest number of clusters at the same time, for k-means clustering.\n",
    "- the problem is, when the number of clusters increases, the wcss decreases, but we want both to be as low as possible.\n",
    "- the line in the graph shows the wcss for each number of clusters. the wcss is the within cluster squared s.\n",
    "\n",
    "- I would set the number of clusters at 3 (and to test which is better at 4 too)."
   ]
  },
  {
   "cell_type": "markdown",
   "id": "bb046580",
   "metadata": {},
   "source": [
    "# <font color='red'> Question 12: 3 points"
   ]
  },
  {
   "cell_type": "code",
   "execution_count": 25,
   "id": "0958a7f1",
   "metadata": {},
   "outputs": [
    {
     "data": {
      "text/plain": "     sepal length (cm)  sepal width (cm)  petal length (cm)  petal width (cm)  \\\n0                  5.1               3.5                1.4               0.2   \n1                  4.9               3.0                1.4               0.2   \n2                  4.7               3.2                1.3               0.2   \n3                  4.6               3.1                1.5               0.2   \n4                  5.0               3.6                1.4               0.2   \n..                 ...               ...                ...               ...   \n145                6.7               3.0                5.2               2.3   \n146                6.3               2.5                5.0               1.9   \n147                6.5               3.0                5.2               2.0   \n148                6.2               3.4                5.4               2.3   \n149                5.9               3.0                5.1               1.8   \n\n       species  \n0       setosa  \n1       setosa  \n2       setosa  \n3       setosa  \n4       setosa  \n..         ...  \n145  virginica  \n146  virginica  \n147  virginica  \n148  virginica  \n149  virginica  \n\n[150 rows x 5 columns]",
      "text/html": "<div>\n<style scoped>\n    .dataframe tbody tr th:only-of-type {\n        vertical-align: middle;\n    }\n\n    .dataframe tbody tr th {\n        vertical-align: top;\n    }\n\n    .dataframe thead th {\n        text-align: right;\n    }\n</style>\n<table border=\"1\" class=\"dataframe\">\n  <thead>\n    <tr style=\"text-align: right;\">\n      <th></th>\n      <th>sepal length (cm)</th>\n      <th>sepal width (cm)</th>\n      <th>petal length (cm)</th>\n      <th>petal width (cm)</th>\n      <th>species</th>\n    </tr>\n  </thead>\n  <tbody>\n    <tr>\n      <th>0</th>\n      <td>5.1</td>\n      <td>3.5</td>\n      <td>1.4</td>\n      <td>0.2</td>\n      <td>setosa</td>\n    </tr>\n    <tr>\n      <th>1</th>\n      <td>4.9</td>\n      <td>3.0</td>\n      <td>1.4</td>\n      <td>0.2</td>\n      <td>setosa</td>\n    </tr>\n    <tr>\n      <th>2</th>\n      <td>4.7</td>\n      <td>3.2</td>\n      <td>1.3</td>\n      <td>0.2</td>\n      <td>setosa</td>\n    </tr>\n    <tr>\n      <th>3</th>\n      <td>4.6</td>\n      <td>3.1</td>\n      <td>1.5</td>\n      <td>0.2</td>\n      <td>setosa</td>\n    </tr>\n    <tr>\n      <th>4</th>\n      <td>5.0</td>\n      <td>3.6</td>\n      <td>1.4</td>\n      <td>0.2</td>\n      <td>setosa</td>\n    </tr>\n    <tr>\n      <th>...</th>\n      <td>...</td>\n      <td>...</td>\n      <td>...</td>\n      <td>...</td>\n      <td>...</td>\n    </tr>\n    <tr>\n      <th>145</th>\n      <td>6.7</td>\n      <td>3.0</td>\n      <td>5.2</td>\n      <td>2.3</td>\n      <td>virginica</td>\n    </tr>\n    <tr>\n      <th>146</th>\n      <td>6.3</td>\n      <td>2.5</td>\n      <td>5.0</td>\n      <td>1.9</td>\n      <td>virginica</td>\n    </tr>\n    <tr>\n      <th>147</th>\n      <td>6.5</td>\n      <td>3.0</td>\n      <td>5.2</td>\n      <td>2.0</td>\n      <td>virginica</td>\n    </tr>\n    <tr>\n      <th>148</th>\n      <td>6.2</td>\n      <td>3.4</td>\n      <td>5.4</td>\n      <td>2.3</td>\n      <td>virginica</td>\n    </tr>\n    <tr>\n      <th>149</th>\n      <td>5.9</td>\n      <td>3.0</td>\n      <td>5.1</td>\n      <td>1.8</td>\n      <td>virginica</td>\n    </tr>\n  </tbody>\n</table>\n<p>150 rows × 5 columns</p>\n</div>"
     },
     "execution_count": 25,
     "metadata": {},
     "output_type": "execute_result"
    }
   ],
   "source": [
    "# run the code first\n",
    "df = pd.DataFrame(iris.data, columns=iris.feature_names)\n",
    "df['species'] = pd.Categorical.from_codes(iris.target, iris.target_names)\n",
    "df"
   ]
  },
  {
   "cell_type": "markdown",
   "id": "0c1085e2",
   "metadata": {},
   "source": [
    "From df, I want drop two columns, petal lengths and petal width. <br>\n",
    "Drop two columns so that I will have sepal length and speal width left only. <br>"
   ]
  },
  {
   "cell_type": "code",
   "execution_count": 26,
   "id": "134558e8",
   "metadata": {},
   "outputs": [
    {
     "data": {
      "text/plain": "     sepal length (cm)  sepal width (cm)    species\n0                  5.1               3.5     setosa\n1                  4.9               3.0     setosa\n2                  4.7               3.2     setosa\n3                  4.6               3.1     setosa\n4                  5.0               3.6     setosa\n..                 ...               ...        ...\n145                6.7               3.0  virginica\n146                6.3               2.5  virginica\n147                6.5               3.0  virginica\n148                6.2               3.4  virginica\n149                5.9               3.0  virginica\n\n[150 rows x 3 columns]",
      "text/html": "<div>\n<style scoped>\n    .dataframe tbody tr th:only-of-type {\n        vertical-align: middle;\n    }\n\n    .dataframe tbody tr th {\n        vertical-align: top;\n    }\n\n    .dataframe thead th {\n        text-align: right;\n    }\n</style>\n<table border=\"1\" class=\"dataframe\">\n  <thead>\n    <tr style=\"text-align: right;\">\n      <th></th>\n      <th>sepal length (cm)</th>\n      <th>sepal width (cm)</th>\n      <th>species</th>\n    </tr>\n  </thead>\n  <tbody>\n    <tr>\n      <th>0</th>\n      <td>5.1</td>\n      <td>3.5</td>\n      <td>setosa</td>\n    </tr>\n    <tr>\n      <th>1</th>\n      <td>4.9</td>\n      <td>3.0</td>\n      <td>setosa</td>\n    </tr>\n    <tr>\n      <th>2</th>\n      <td>4.7</td>\n      <td>3.2</td>\n      <td>setosa</td>\n    </tr>\n    <tr>\n      <th>3</th>\n      <td>4.6</td>\n      <td>3.1</td>\n      <td>setosa</td>\n    </tr>\n    <tr>\n      <th>4</th>\n      <td>5.0</td>\n      <td>3.6</td>\n      <td>setosa</td>\n    </tr>\n    <tr>\n      <th>...</th>\n      <td>...</td>\n      <td>...</td>\n      <td>...</td>\n    </tr>\n    <tr>\n      <th>145</th>\n      <td>6.7</td>\n      <td>3.0</td>\n      <td>virginica</td>\n    </tr>\n    <tr>\n      <th>146</th>\n      <td>6.3</td>\n      <td>2.5</td>\n      <td>virginica</td>\n    </tr>\n    <tr>\n      <th>147</th>\n      <td>6.5</td>\n      <td>3.0</td>\n      <td>virginica</td>\n    </tr>\n    <tr>\n      <th>148</th>\n      <td>6.2</td>\n      <td>3.4</td>\n      <td>virginica</td>\n    </tr>\n    <tr>\n      <th>149</th>\n      <td>5.9</td>\n      <td>3.0</td>\n      <td>virginica</td>\n    </tr>\n  </tbody>\n</table>\n<p>150 rows × 3 columns</p>\n</div>"
     },
     "execution_count": 26,
     "metadata": {},
     "output_type": "execute_result"
    }
   ],
   "source": [
    "#code here\n",
    "df.drop(columns={'petal length (cm)', 'petal width (cm)'},axis=1, inplace=True)\n",
    "df\n",
    "\n",
    "# I didnt drop the species now so there is sepal length, sepal width and species but i guess that is the goal"
   ]
  },
  {
   "cell_type": "markdown",
   "id": "cf9bd0fe",
   "metadata": {},
   "source": [
    "# <font color='red'> Question 13: 3 points"
   ]
  },
  {
   "cell_type": "markdown",
   "id": "d1c9bcb9",
   "metadata": {},
   "source": [
    "Rename the columns above of our iris dataset as the following <br>\n",
    "- 'sepal length (cm)' to 'sl'\n",
    "- 'sepal width (cm)' to 'sw'\n",
    "\n",
    "I am assuming that you have already dropped columns on 'petal' from question 12."
   ]
  },
  {
   "cell_type": "code",
   "execution_count": 27,
   "id": "38d46ec6",
   "metadata": {},
   "outputs": [
    {
     "data": {
      "text/plain": "      sl   sw    species\n0    5.1  3.5     setosa\n1    4.9  3.0     setosa\n2    4.7  3.2     setosa\n3    4.6  3.1     setosa\n4    5.0  3.6     setosa\n..   ...  ...        ...\n145  6.7  3.0  virginica\n146  6.3  2.5  virginica\n147  6.5  3.0  virginica\n148  6.2  3.4  virginica\n149  5.9  3.0  virginica\n\n[150 rows x 3 columns]",
      "text/html": "<div>\n<style scoped>\n    .dataframe tbody tr th:only-of-type {\n        vertical-align: middle;\n    }\n\n    .dataframe tbody tr th {\n        vertical-align: top;\n    }\n\n    .dataframe thead th {\n        text-align: right;\n    }\n</style>\n<table border=\"1\" class=\"dataframe\">\n  <thead>\n    <tr style=\"text-align: right;\">\n      <th></th>\n      <th>sl</th>\n      <th>sw</th>\n      <th>species</th>\n    </tr>\n  </thead>\n  <tbody>\n    <tr>\n      <th>0</th>\n      <td>5.1</td>\n      <td>3.5</td>\n      <td>setosa</td>\n    </tr>\n    <tr>\n      <th>1</th>\n      <td>4.9</td>\n      <td>3.0</td>\n      <td>setosa</td>\n    </tr>\n    <tr>\n      <th>2</th>\n      <td>4.7</td>\n      <td>3.2</td>\n      <td>setosa</td>\n    </tr>\n    <tr>\n      <th>3</th>\n      <td>4.6</td>\n      <td>3.1</td>\n      <td>setosa</td>\n    </tr>\n    <tr>\n      <th>4</th>\n      <td>5.0</td>\n      <td>3.6</td>\n      <td>setosa</td>\n    </tr>\n    <tr>\n      <th>...</th>\n      <td>...</td>\n      <td>...</td>\n      <td>...</td>\n    </tr>\n    <tr>\n      <th>145</th>\n      <td>6.7</td>\n      <td>3.0</td>\n      <td>virginica</td>\n    </tr>\n    <tr>\n      <th>146</th>\n      <td>6.3</td>\n      <td>2.5</td>\n      <td>virginica</td>\n    </tr>\n    <tr>\n      <th>147</th>\n      <td>6.5</td>\n      <td>3.0</td>\n      <td>virginica</td>\n    </tr>\n    <tr>\n      <th>148</th>\n      <td>6.2</td>\n      <td>3.4</td>\n      <td>virginica</td>\n    </tr>\n    <tr>\n      <th>149</th>\n      <td>5.9</td>\n      <td>3.0</td>\n      <td>virginica</td>\n    </tr>\n  </tbody>\n</table>\n<p>150 rows × 3 columns</p>\n</div>"
     },
     "execution_count": 27,
     "metadata": {},
     "output_type": "execute_result"
    }
   ],
   "source": [
    "# code here\n",
    "df.rename(columns={'sepal length (cm)':'sl', 'sepal width (cm)':'sw'}, inplace=True)\n",
    "df"
   ]
  },
  {
   "cell_type": "markdown",
   "id": "25c7ccbe",
   "metadata": {},
   "source": [
    "# <font color='red'> Question 15: 3 points"
   ]
  },
  {
   "cell_type": "markdown",
   "id": "bfdbb0c2",
   "metadata": {},
   "source": [
    "I want to calculate the average of sl, sw for each iris species. <br>\n",
    "\n",
    "Using groupby function, calculate the average for each species.(1 point) <br>\n",
    "Save the result in a variable <code>iris_average</code> <br> (1 point)\n",
    "*hint: you can use<code>.mean()</code> for calculating average*"
   ]
  },
  {
   "cell_type": "code",
   "execution_count": 42,
   "outputs": [],
   "source": [
    "averages_grouped = df.groupby(by=['species'])"
   ],
   "metadata": {
    "collapsed": false
   }
  },
  {
   "cell_type": "code",
   "execution_count": 43,
   "id": "01300676",
   "metadata": {},
   "outputs": [
    {
     "data": {
      "text/plain": "               sl     sw\nspecies                 \nsetosa      5.006  3.428\nversicolor  5.936  2.770\nvirginica   6.588  2.974",
      "text/html": "<div>\n<style scoped>\n    .dataframe tbody tr th:only-of-type {\n        vertical-align: middle;\n    }\n\n    .dataframe tbody tr th {\n        vertical-align: top;\n    }\n\n    .dataframe thead th {\n        text-align: right;\n    }\n</style>\n<table border=\"1\" class=\"dataframe\">\n  <thead>\n    <tr style=\"text-align: right;\">\n      <th></th>\n      <th>sl</th>\n      <th>sw</th>\n    </tr>\n    <tr>\n      <th>species</th>\n      <th></th>\n      <th></th>\n    </tr>\n  </thead>\n  <tbody>\n    <tr>\n      <th>setosa</th>\n      <td>5.006</td>\n      <td>3.428</td>\n    </tr>\n    <tr>\n      <th>versicolor</th>\n      <td>5.936</td>\n      <td>2.770</td>\n    </tr>\n    <tr>\n      <th>virginica</th>\n      <td>6.588</td>\n      <td>2.974</td>\n    </tr>\n  </tbody>\n</table>\n</div>"
     },
     "execution_count": 43,
     "metadata": {},
     "output_type": "execute_result"
    }
   ],
   "source": [
    "# code here\n",
    "iris_average = averages_grouped.mean()\n",
    "iris_average"
   ]
  },
  {
   "cell_type": "markdown",
   "id": "f478e8cd",
   "metadata": {},
   "source": [
    "reset the index for <code>iris_average</code> df.  (1 point)"
   ]
  },
  {
   "cell_type": "code",
   "execution_count": 45,
   "id": "531656fa",
   "metadata": {},
   "outputs": [
    {
     "data": {
      "text/plain": "      species     sl     sw\n0      setosa  5.006  3.428\n1  versicolor  5.936  2.770\n2   virginica  6.588  2.974",
      "text/html": "<div>\n<style scoped>\n    .dataframe tbody tr th:only-of-type {\n        vertical-align: middle;\n    }\n\n    .dataframe tbody tr th {\n        vertical-align: top;\n    }\n\n    .dataframe thead th {\n        text-align: right;\n    }\n</style>\n<table border=\"1\" class=\"dataframe\">\n  <thead>\n    <tr style=\"text-align: right;\">\n      <th></th>\n      <th>species</th>\n      <th>sl</th>\n      <th>sw</th>\n    </tr>\n  </thead>\n  <tbody>\n    <tr>\n      <th>0</th>\n      <td>setosa</td>\n      <td>5.006</td>\n      <td>3.428</td>\n    </tr>\n    <tr>\n      <th>1</th>\n      <td>versicolor</td>\n      <td>5.936</td>\n      <td>2.770</td>\n    </tr>\n    <tr>\n      <th>2</th>\n      <td>virginica</td>\n      <td>6.588</td>\n      <td>2.974</td>\n    </tr>\n  </tbody>\n</table>\n</div>"
     },
     "execution_count": 45,
     "metadata": {},
     "output_type": "execute_result"
    }
   ],
   "source": [
    "# code here\n",
    "iris_average.reset_index()"
   ]
  },
  {
   "cell_type": "markdown",
   "id": "03ce96e2",
   "metadata": {},
   "source": [
    "## <font color='red'> END OF EXAM\n",
    "Please save ipynb file and upload it on LMS. <BR>\n",
    "FILE NAME = LASTNAME_FIRSTNAME.IPYNB <BR>\n",
    "Have a nice winter holidays! <BR>"
   ]
  },
  {
   "cell_type": "markdown",
   "id": "c3936902",
   "metadata": {},
   "source": []
  }
 ],
 "metadata": {
  "kernelspec": {
   "display_name": "Python 3",
   "language": "python",
   "name": "python3"
  },
  "language_info": {
   "codemirror_mode": {
    "name": "ipython",
    "version": 3
   },
   "file_extension": ".py",
   "mimetype": "text/x-python",
   "name": "python",
   "nbconvert_exporter": "python",
   "pygments_lexer": "ipython3",
   "version": "3.8.8"
  }
 },
 "nbformat": 4,
 "nbformat_minor": 5
}
