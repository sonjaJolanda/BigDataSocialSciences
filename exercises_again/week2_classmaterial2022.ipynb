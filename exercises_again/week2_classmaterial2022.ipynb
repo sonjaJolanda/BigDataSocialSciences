{
 "cells": [
  {
   "cell_type": "markdown",
   "metadata": {
    "pycharm": {
     "name": "#%% md\n"
    }
   },
   "source": [
    "# Week 2. Web Crawling \n",
    "\n",
    "Hello everyone, we will be using Jupyter Notebook every class, so let's make sure we know how to use Jupyter Notebook. <br>\n",
    "If you face any problem with Jupyter Notebook, ask me, or you can google it :) <br>"
   ]
  },
  {
   "cell_type": "markdown",
   "metadata": {
    "pycharm": {
     "name": "#%% md\n"
    }
   },
   "source": [
    "Let's import our requests library and get our HTML data. <br>\n",
    "We will save information in a variable named <code>page</code>"
   ]
  },
  {
   "cell_type": "markdown",
   "metadata": {
    "pycharm": {
     "name": "#%% md\n"
    }
   },
   "source": [
    "## HTTP request"
   ]
  },
  {
   "cell_type": "code",
   "execution_count": 733,
   "metadata": {
    "pycharm": {
     "name": "#%%\n"
    }
   },
   "outputs": [],
   "source": [
    "import requests\n",
    "\n",
    "request = requests.get(\"http://quotes.toscrape.com\")"
   ]
  },
  {
   "cell_type": "markdown",
   "metadata": {
    "pycharm": {
     "name": "#%% md\n"
    }
   },
   "source": [
    "Did it go well? <br>\n",
    "Let's check it out!"
   ]
  },
  {
   "cell_type": "code",
   "execution_count": 734,
   "metadata": {
    "pycharm": {
     "name": "#%%\n"
    }
   },
   "outputs": [
    {
     "data": {
      "text/plain": "<Response [200]>"
     },
     "execution_count": 734,
     "metadata": {},
     "output_type": "execute_result"
    }
   ],
   "source": [
    "request"
   ]
  },
  {
   "cell_type": "markdown",
   "metadata": {
    "pycharm": {
     "name": "#%% md\n"
    }
   },
   "source": [
    "If it shows <Response [200]> then you are on the right track. <br>\n",
    "Let's check what we downloaded."
   ]
  },
  {
   "cell_type": "code",
   "execution_count": 735,
   "metadata": {
    "scrolled": true,
    "pycharm": {
     "name": "#%%\n"
    }
   },
   "outputs": [],
   "source": [
    "#request.text"
   ]
  },
  {
   "cell_type": "markdown",
   "metadata": {
    "pycharm": {
     "name": "#%% md\n"
    }
   },
   "source": [
    "## HTML Parsing"
   ]
  },
  {
   "cell_type": "markdown",
   "metadata": {
    "pycharm": {
     "name": "#%% md\n"
    }
   },
   "source": [
    "We will be using BeautifulSoup. <br>\n",
    "Let's import BeautifulSoup library. <br>\n",
    "Then, we will get parsed version of our data using HTML parser."
   ]
  },
  {
   "cell_type": "code",
   "execution_count": 736,
   "metadata": {
    "pycharm": {
     "name": "#%%\n"
    }
   },
   "outputs": [],
   "source": [
    "from bs4 import BeautifulSoup as bs"
   ]
  },
  {
   "cell_type": "markdown",
   "metadata": {
    "pycharm": {
     "name": "#%% md\n"
    }
   },
   "source": [
    "Let's print out the parsed version and compare with the version above."
   ]
  },
  {
   "cell_type": "code",
   "execution_count": 737,
   "metadata": {
    "pycharm": {
     "name": "#%%\n"
    }
   },
   "outputs": [],
   "source": [
    "text = bs(request.text, 'html.parser')"
   ]
  },
  {
   "cell_type": "markdown",
   "metadata": {
    "pycharm": {
     "name": "#%% md\n"
    }
   },
   "source": [
    "Let's navigate through the tree."
   ]
  },
  {
   "cell_type": "code",
   "execution_count": 738,
   "metadata": {
    "pycharm": {
     "name": "#%%\n"
    }
   },
   "outputs": [],
   "source": [
    "#text.head"
   ]
  },
  {
   "cell_type": "code",
   "execution_count": 739,
   "metadata": {
    "pycharm": {
     "name": "#%%\n"
    }
   },
   "outputs": [],
   "source": [
    "#text.body"
   ]
  },
  {
   "cell_type": "code",
   "execution_count": 740,
   "metadata": {
    "pycharm": {
     "name": "#%%\n"
    }
   },
   "outputs": [],
   "source": [
    "#text.footer"
   ]
  },
  {
   "cell_type": "markdown",
   "metadata": {
    "pycharm": {
     "name": "#%% md\n"
    }
   },
   "source": [
    "Let's make our soup to look better using prettify."
   ]
  },
  {
   "cell_type": "code",
   "execution_count": 741,
   "metadata": {
    "pycharm": {
     "name": "#%%\n"
    }
   },
   "outputs": [],
   "source": [
    "#print(text.prettify())"
   ]
  },
  {
   "cell_type": "markdown",
   "metadata": {
    "pycharm": {
     "name": "#%% md\n"
    }
   },
   "source": [
    "## storing target information"
   ]
  },
  {
   "cell_type": "markdown",
   "metadata": {
    "pycharm": {
     "name": "#%% md\n"
    }
   },
   "source": [
    "We will try to find quotes this time. <br>\n",
    "Let's try finding the first quote that is available."
   ]
  },
  {
   "cell_type": "code",
   "execution_count": 742,
   "metadata": {
    "pycharm": {
     "name": "#%%\n"
    }
   },
   "outputs": [
    {
     "data": {
      "text/plain": "[<span class=\"text\" itemprop=\"text\">“The world as we have created it is a process of our thinking. It cannot be changed without changing our thinking.”</span>,\n <span class=\"text\" itemprop=\"text\">“It is our choices, Harry, that show what we truly are, far more than our abilities.”</span>,\n <span class=\"text\" itemprop=\"text\">“There are only two ways to live your life. One is as though nothing is a miracle. The other is as though everything is a miracle.”</span>,\n <span class=\"text\" itemprop=\"text\">“The person, be it gentleman or lady, who has not pleasure in a good novel, must be intolerably stupid.”</span>,\n <span class=\"text\" itemprop=\"text\">“Imperfection is beauty, madness is genius and it's better to be absolutely ridiculous than absolutely boring.”</span>,\n <span class=\"text\" itemprop=\"text\">“Try not to become a man of success. Rather become a man of value.”</span>,\n <span class=\"text\" itemprop=\"text\">“It is better to be hated for what you are than to be loved for what you are not.”</span>,\n <span class=\"text\" itemprop=\"text\">“I have not failed. I've just found 10,000 ways that won't work.”</span>,\n <span class=\"text\" itemprop=\"text\">“A woman is like a tea bag; you never know how strong it is until it's in hot water.”</span>,\n <span class=\"text\" itemprop=\"text\">“A day without sunshine is like, you know, night.”</span>]"
     },
     "execution_count": 742,
     "metadata": {},
     "output_type": "execute_result"
    }
   ],
   "source": [
    "text.find_all(itemprop=\"text\")"
   ]
  },
  {
   "cell_type": "code",
   "execution_count": 743,
   "outputs": [
    {
     "data": {
      "text/plain": "[<span class=\"text\" itemprop=\"text\">“The world as we have created it is a process of our thinking. It cannot be changed without changing our thinking.”</span>,\n <span class=\"text\" itemprop=\"text\">“It is our choices, Harry, that show what we truly are, far more than our abilities.”</span>,\n <span class=\"text\" itemprop=\"text\">“There are only two ways to live your life. One is as though nothing is a miracle. The other is as though everything is a miracle.”</span>,\n <span class=\"text\" itemprop=\"text\">“The person, be it gentleman or lady, who has not pleasure in a good novel, must be intolerably stupid.”</span>,\n <span class=\"text\" itemprop=\"text\">“Imperfection is beauty, madness is genius and it's better to be absolutely ridiculous than absolutely boring.”</span>,\n <span class=\"text\" itemprop=\"text\">“Try not to become a man of success. Rather become a man of value.”</span>,\n <span class=\"text\" itemprop=\"text\">“It is better to be hated for what you are than to be loved for what you are not.”</span>,\n <span class=\"text\" itemprop=\"text\">“I have not failed. I've just found 10,000 ways that won't work.”</span>,\n <span class=\"text\" itemprop=\"text\">“A woman is like a tea bag; you never know how strong it is until it's in hot water.”</span>,\n <span class=\"text\" itemprop=\"text\">“A day without sunshine is like, you know, night.”</span>]"
     },
     "execution_count": 743,
     "metadata": {},
     "output_type": "execute_result"
    }
   ],
   "source": [
    "text.find_all('span', itemprop=\"text\")"
   ],
   "metadata": {
    "collapsed": false,
    "pycharm": {
     "name": "#%%\n"
    }
   }
  },
  {
   "cell_type": "markdown",
   "metadata": {
    "pycharm": {
     "name": "#%% md\n"
    }
   },
   "source": [
    "uh oh! It seems like there was an error! <br>\n",
    "What does the error say? <br>\n",
    "we can solve this problem using underscore after our code of concern (class) <br>\n",
    "Single post underscore is used for naming your variables as Python Keywords and to avoid the clashes by adding an underscore at last of your variable name."
   ]
  },
  {
   "cell_type": "code",
   "execution_count": 743,
   "metadata": {
    "pycharm": {
     "name": "#%%\n"
    }
   },
   "outputs": [],
   "source": []
  },
  {
   "cell_type": "markdown",
   "metadata": {
    "pycharm": {
     "name": "#%% md\n"
    }
   },
   "source": [
    "I want to get all quotes from this page. <br>\n",
    "Let's try out find_all function"
   ]
  },
  {
   "cell_type": "code",
   "execution_count": 743,
   "metadata": {
    "pycharm": {
     "name": "#%%\n"
    }
   },
   "outputs": [],
   "source": []
  },
  {
   "cell_type": "markdown",
   "metadata": {
    "pycharm": {
     "name": "#%% md\n"
    }
   },
   "source": [
    "This below also works ! <br>\n",
    "<code> soup.find_all('span', itemprop='text')</code>"
   ]
  },
  {
   "cell_type": "code",
   "execution_count": 743,
   "metadata": {
    "pycharm": {
     "name": "#%%\n"
    }
   },
   "outputs": [],
   "source": []
  },
  {
   "cell_type": "markdown",
   "metadata": {
    "pycharm": {
     "name": "#%% md\n"
    }
   },
   "source": [
    "Let's save our data in a variable named <code>txt</code><br>\n",
    "and print it out"
   ]
  },
  {
   "cell_type": "code",
   "execution_count": 744,
   "metadata": {
    "pycharm": {
     "name": "#%%\n"
    }
   },
   "outputs": [
    {
     "data": {
      "text/plain": "[<span class=\"text\" itemprop=\"text\">“The world as we have created it is a process of our thinking. It cannot be changed without changing our thinking.”</span>,\n <span class=\"text\" itemprop=\"text\">“It is our choices, Harry, that show what we truly are, far more than our abilities.”</span>,\n <span class=\"text\" itemprop=\"text\">“There are only two ways to live your life. One is as though nothing is a miracle. The other is as though everything is a miracle.”</span>,\n <span class=\"text\" itemprop=\"text\">“The person, be it gentleman or lady, who has not pleasure in a good novel, must be intolerably stupid.”</span>,\n <span class=\"text\" itemprop=\"text\">“Imperfection is beauty, madness is genius and it's better to be absolutely ridiculous than absolutely boring.”</span>,\n <span class=\"text\" itemprop=\"text\">“Try not to become a man of success. Rather become a man of value.”</span>,\n <span class=\"text\" itemprop=\"text\">“It is better to be hated for what you are than to be loved for what you are not.”</span>,\n <span class=\"text\" itemprop=\"text\">“I have not failed. I've just found 10,000 ways that won't work.”</span>,\n <span class=\"text\" itemprop=\"text\">“A woman is like a tea bag; you never know how strong it is until it's in hot water.”</span>,\n <span class=\"text\" itemprop=\"text\">“A day without sunshine is like, you know, night.”</span>]"
     },
     "execution_count": 744,
     "metadata": {},
     "output_type": "execute_result"
    }
   ],
   "source": [
    "txt_with_tags = text.find_all(\"span\", class_=\"text\")\n",
    "txt_with_tags"
   ]
  },
  {
   "cell_type": "markdown",
   "metadata": {
    "pycharm": {
     "name": "#%% md\n"
    }
   },
   "source": [
    "This still looks messy to me. <br>\n",
    "I want to get the text out from txt variable. <br>\n",
    "To do that, we need to loop through the txt variable and tell Python to: <br>\n",
    "1. go through txt and for each element in a list\n",
    "2. we will get_text() out from it.\n"
   ]
  },
  {
   "cell_type": "code",
   "execution_count": 745,
   "metadata": {
    "pycharm": {
     "name": "#%%\n"
    }
   },
   "outputs": [],
   "source": [
    "text_without_tags = (txt.get_text() for txt in txt_with_tags)\n",
    "quotes = []\n",
    "for text in text_without_tags:\n",
    "    quotes.append(text)"
   ]
  },
  {
   "cell_type": "markdown",
   "metadata": {
    "pycharm": {
     "name": "#%% md\n"
    }
   },
   "source": [
    "Now that we *printed* the quotes, <br>\n",
    "we need to extract them and save them in a variable called <code>quotes</code>.<br>\n",
    "To do so, we will first need to make an empty variable called <code>quotes</code>.<br>\n",
    "Then, using loops again, we will <code>append</code> them in the variable."
   ]
  },
  {
   "cell_type": "markdown",
   "metadata": {
    "pycharm": {
     "name": "#%% md\n"
    }
   },
   "source": [
    "## Quotes into dataframe!"
   ]
  },
  {
   "cell_type": "markdown",
   "metadata": {
    "pycharm": {
     "name": "#%% md\n"
    }
   },
   "source": [
    "We will now import pandas and use pandas library to make our variable <code>quotes</code> into a dataframe."
   ]
  },
  {
   "cell_type": "code",
   "execution_count": 746,
   "metadata": {
    "pycharm": {
     "name": "#%%\n"
    }
   },
   "outputs": [],
   "source": [
    "import pandas as pd"
   ]
  },
  {
   "cell_type": "code",
   "execution_count": 747,
   "metadata": {
    "pycharm": {
     "name": "#%%\n"
    }
   },
   "outputs": [
    {
     "data": {
      "text/plain": "                                              quotes\n0  “The world as we have created it is a process ...\n1  “It is our choices, Harry, that show what we t...\n2  “There are only two ways to live your life. On...\n3  “The person, be it gentleman or lady, who has ...\n4  “Imperfection is beauty, madness is genius and...\n5  “Try not to become a man of success. Rather be...\n6  “It is better to be hated for what you are tha...\n7  “I have not failed. I've just found 10,000 way...\n8  “A woman is like a tea bag; you never know how...\n9  “A day without sunshine is like, you know, nig...",
      "text/html": "<div>\n<style scoped>\n    .dataframe tbody tr th:only-of-type {\n        vertical-align: middle;\n    }\n\n    .dataframe tbody tr th {\n        vertical-align: top;\n    }\n\n    .dataframe thead th {\n        text-align: right;\n    }\n</style>\n<table border=\"1\" class=\"dataframe\">\n  <thead>\n    <tr style=\"text-align: right;\">\n      <th></th>\n      <th>quotes</th>\n    </tr>\n  </thead>\n  <tbody>\n    <tr>\n      <th>0</th>\n      <td>“The world as we have created it is a process ...</td>\n    </tr>\n    <tr>\n      <th>1</th>\n      <td>“It is our choices, Harry, that show what we t...</td>\n    </tr>\n    <tr>\n      <th>2</th>\n      <td>“There are only two ways to live your life. On...</td>\n    </tr>\n    <tr>\n      <th>3</th>\n      <td>“The person, be it gentleman or lady, who has ...</td>\n    </tr>\n    <tr>\n      <th>4</th>\n      <td>“Imperfection is beauty, madness is genius and...</td>\n    </tr>\n    <tr>\n      <th>5</th>\n      <td>“Try not to become a man of success. Rather be...</td>\n    </tr>\n    <tr>\n      <th>6</th>\n      <td>“It is better to be hated for what you are tha...</td>\n    </tr>\n    <tr>\n      <th>7</th>\n      <td>“I have not failed. I've just found 10,000 way...</td>\n    </tr>\n    <tr>\n      <th>8</th>\n      <td>“A woman is like a tea bag; you never know how...</td>\n    </tr>\n    <tr>\n      <th>9</th>\n      <td>“A day without sunshine is like, you know, nig...</td>\n    </tr>\n  </tbody>\n</table>\n</div>"
     },
     "execution_count": 747,
     "metadata": {},
     "output_type": "execute_result"
    }
   ],
   "source": [
    "quotesDF = pd.DataFrame(data=quotes, columns=[\"quotes\"])\n",
    "quotesDF"
   ]
  },
  {
   "cell_type": "markdown",
   "metadata": {
    "pycharm": {
     "name": "#%% md\n"
    }
   },
   "source": [
    "Let's export our df to excel!"
   ]
  },
  {
   "cell_type": "code",
   "execution_count": 748,
   "metadata": {
    "pycharm": {
     "name": "#%%\n"
    }
   },
   "outputs": [],
   "source": [
    "# quotesDF.to_excel(\"quotes_DF_Ex.xlsx\")"
   ]
  },
  {
   "cell_type": "markdown",
   "metadata": {
    "pycharm": {
     "name": "#%% md\n"
    }
   },
   "source": [
    "## Author names \n",
    "Let's quickly do the same with author names!"
   ]
  },
  {
   "cell_type": "code",
   "execution_count": 749,
   "metadata": {
    "pycharm": {
     "name": "#%%\n"
    }
   },
   "outputs": [],
   "source": [
    "text = bs(request.text, 'html.parser')\n",
    "authors_with_tags = text.find_all(\"small\", class_=\"author\")\n",
    "authors_pre = (author.get_text() for author in authors_with_tags)\n",
    "authors = []\n",
    "for author in authors_pre:\n",
    "    authors.append(author)"
   ]
  },
  {
   "cell_type": "code",
   "execution_count": 749,
   "metadata": {
    "pycharm": {
     "name": "#%%\n"
    }
   },
   "outputs": [],
   "source": []
  },
  {
   "cell_type": "code",
   "execution_count": 749,
   "metadata": {
    "pycharm": {
     "name": "#%%\n"
    }
   },
   "outputs": [],
   "source": []
  },
  {
   "cell_type": "code",
   "execution_count": 749,
   "metadata": {
    "pycharm": {
     "name": "#%%\n"
    }
   },
   "outputs": [],
   "source": []
  },
  {
   "cell_type": "code",
   "execution_count": 749,
   "metadata": {
    "pycharm": {
     "name": "#%%\n"
    }
   },
   "outputs": [],
   "source": []
  },
  {
   "cell_type": "code",
   "execution_count": 749,
   "metadata": {
    "pycharm": {
     "name": "#%%\n"
    }
   },
   "outputs": [],
   "source": []
  },
  {
   "cell_type": "markdown",
   "metadata": {
    "pycharm": {
     "name": "#%% md\n"
    }
   },
   "source": [
    "Let's combine our two dataframes together. <br>\n",
    "I will use concatenation of pandas, which helps us append columns horizontally."
   ]
  },
  {
   "cell_type": "code",
   "execution_count": 750,
   "metadata": {
    "pycharm": {
     "name": "#%%\n"
    }
   },
   "outputs": [
    {
     "data": {
      "text/plain": "                                              quotes            Authors\n0  “The world as we have created it is a process ...    Albert Einstein\n1  “It is our choices, Harry, that show what we t...       J.K. Rowling\n2  “There are only two ways to live your life. On...    Albert Einstein\n3  “The person, be it gentleman or lady, who has ...        Jane Austen\n4  “Imperfection is beauty, madness is genius and...     Marilyn Monroe\n5  “Try not to become a man of success. Rather be...    Albert Einstein\n6  “It is better to be hated for what you are tha...         André Gide\n7  “I have not failed. I've just found 10,000 way...   Thomas A. Edison\n8  “A woman is like a tea bag; you never know how...  Eleanor Roosevelt\n9  “A day without sunshine is like, you know, nig...       Steve Martin",
      "text/html": "<div>\n<style scoped>\n    .dataframe tbody tr th:only-of-type {\n        vertical-align: middle;\n    }\n\n    .dataframe tbody tr th {\n        vertical-align: top;\n    }\n\n    .dataframe thead th {\n        text-align: right;\n    }\n</style>\n<table border=\"1\" class=\"dataframe\">\n  <thead>\n    <tr style=\"text-align: right;\">\n      <th></th>\n      <th>quotes</th>\n      <th>Authors</th>\n    </tr>\n  </thead>\n  <tbody>\n    <tr>\n      <th>0</th>\n      <td>“The world as we have created it is a process ...</td>\n      <td>Albert Einstein</td>\n    </tr>\n    <tr>\n      <th>1</th>\n      <td>“It is our choices, Harry, that show what we t...</td>\n      <td>J.K. Rowling</td>\n    </tr>\n    <tr>\n      <th>2</th>\n      <td>“There are only two ways to live your life. On...</td>\n      <td>Albert Einstein</td>\n    </tr>\n    <tr>\n      <th>3</th>\n      <td>“The person, be it gentleman or lady, who has ...</td>\n      <td>Jane Austen</td>\n    </tr>\n    <tr>\n      <th>4</th>\n      <td>“Imperfection is beauty, madness is genius and...</td>\n      <td>Marilyn Monroe</td>\n    </tr>\n    <tr>\n      <th>5</th>\n      <td>“Try not to become a man of success. Rather be...</td>\n      <td>Albert Einstein</td>\n    </tr>\n    <tr>\n      <th>6</th>\n      <td>“It is better to be hated for what you are tha...</td>\n      <td>André Gide</td>\n    </tr>\n    <tr>\n      <th>7</th>\n      <td>“I have not failed. I've just found 10,000 way...</td>\n      <td>Thomas A. Edison</td>\n    </tr>\n    <tr>\n      <th>8</th>\n      <td>“A woman is like a tea bag; you never know how...</td>\n      <td>Eleanor Roosevelt</td>\n    </tr>\n    <tr>\n      <th>9</th>\n      <td>“A day without sunshine is like, you know, nig...</td>\n      <td>Steve Martin</td>\n    </tr>\n  </tbody>\n</table>\n</div>"
     },
     "execution_count": 750,
     "metadata": {},
     "output_type": "execute_result"
    }
   ],
   "source": [
    "qoutesDF = pd.DataFrame(data=quotes, columns=[\"Quotes\"])\n",
    "authorsDF = pd.DataFrame(data=authors, columns=[\"Authors\"])\n",
    "both = pd.concat([quotesDF, authorsDF], axis=1)\n",
    "both"
   ]
  },
  {
   "cell_type": "code",
   "execution_count": 750,
   "metadata": {
    "pycharm": {
     "name": "#%%\n"
    }
   },
   "outputs": [],
   "source": []
  },
  {
   "cell_type": "markdown",
   "metadata": {
    "pycharm": {
     "name": "#%% md\n"
    }
   },
   "source": [
    "Let's export the table to excel!"
   ]
  },
  {
   "cell_type": "code",
   "execution_count": 750,
   "metadata": {
    "pycharm": {
     "name": "#%%\n"
    }
   },
   "outputs": [],
   "source": []
  },
  {
   "cell_type": "markdown",
   "metadata": {
    "pycharm": {
     "name": "#%% md\n"
    }
   },
   "source": [
    "Another way using dictionaries.."
   ]
  },
  {
   "cell_type": "code",
   "execution_count": 750,
   "metadata": {
    "pycharm": {
     "name": "#%%\n"
    }
   },
   "outputs": [],
   "source": []
  },
  {
   "cell_type": "code",
   "execution_count": 750,
   "metadata": {
    "pycharm": {
     "name": "#%%\n"
    }
   },
   "outputs": [],
   "source": []
  },
  {
   "cell_type": "code",
   "execution_count": 750,
   "metadata": {
    "pycharm": {
     "name": "#%%\n"
    }
   },
   "outputs": [],
   "source": []
  },
  {
   "cell_type": "code",
   "execution_count": 750,
   "metadata": {
    "pycharm": {
     "name": "#%%\n"
    }
   },
   "outputs": [],
   "source": []
  },
  {
   "cell_type": "code",
   "execution_count": 750,
   "metadata": {
    "pycharm": {
     "name": "#%%\n"
    }
   },
   "outputs": [],
   "source": []
  },
  {
   "cell_type": "markdown",
   "metadata": {
    "pycharm": {
     "name": "#%% md\n"
    }
   },
   "source": [
    "Please save your work and make sure to follow this format. <br>\n",
    "\"LASTNAME_firstname.ipynb\" <br>\n",
    "Then, upload it where it says \"hand in your jupyter notebook file here!\" <br>"
   ]
  }
 ],
 "metadata": {
  "kernelspec": {
   "display_name": "Python 3",
   "language": "python",
   "name": "python3"
  },
  "language_info": {
   "codemirror_mode": {
    "name": "ipython",
    "version": 3
   },
   "file_extension": ".py",
   "mimetype": "text/x-python",
   "name": "python",
   "nbconvert_exporter": "python",
   "pygments_lexer": "ipython3",
   "version": "3.8.8"
  }
 },
 "nbformat": 4,
 "nbformat_minor": 2
}