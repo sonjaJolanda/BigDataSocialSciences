{
 "cells": [
  {
   "cell_type": "markdown",
   "metadata": {
    "pycharm": {
     "name": "#%% md\n"
    }
   },
   "source": [
    "# MidTerm Summary 6-7"
   ]
  },
  {
   "cell_type": "markdown",
   "source": [
    "## Bag of Words\n",
    "- make a matrix in which for each sentence the number of occurrences of each word is displayed."
   ],
   "metadata": {
    "collapsed": false,
    "pycharm": {
     "name": "#%% md\n"
    }
   }
  },
  {
   "cell_type": "code",
   "execution_count": 1,
   "outputs": [],
   "source": [
    "import re\n",
    "\n",
    "sentences = \"\"\"\n",
    "Regularly and thoroughly clean your hands with an alcohol-based hand rub or wash them with soap and water.\n",
    "This eliminates germs including viruses that may be on your hands.\n",
    "Avoid touching your eyes, nose and mouth.\n",
    "Hands touch many surfaces and can pick up viruses.\n",
    "Once contaminated, hands can transfer the virus to your eyes, nose or mouth.\n",
    "From there, the virus can enter your body and infect you.\n",
    "Cover your mouth and nose with your bent elbow or tissue when you cough or sneeze.\n",
    "Then dispose of the used tissue immediately into a closed bin and wash your hands.\n",
    "By following good ‘respiratory hygiene’, you protect the people around you from viruses, which cause colds, flu and COVID-19.\n",
    "Clean and disinfect surfaces frequently especially those which are regularly touched,\n",
    "such as door handles, faucets and phone screens or mouth.\n",
    "From there, the virus can enter your body and infect you.\n",
    "\"\"\""
   ],
   "metadata": {
    "collapsed": false,
    "pycharm": {
     "name": "#%%\n"
    }
   }
  },
  {
   "cell_type": "code",
   "execution_count": null,
   "outputs": [],
   "source": [
    "from sklearn.feature_extraction.text import CountVectorizer\n",
    "import nltk\n",
    "import pandas as pd\n",
    "\n",
    "sentences_tokenized = nltk.sent_tokenize(sentences)\n",
    "\n",
    "countVectorizer = CountVectorizer(stop_words='english')\n",
    "fit_transformed = countVectorizer.fit_transform(sentences_tokenized)\n",
    "\n",
    "matrix = pd.DataFrame(data=fit_transformed.toarray(), columns=countVectorizer.get_feature_names_out())"
   ],
   "metadata": {
    "collapsed": false,
    "pycharm": {
     "name": "#%%\n",
     "is_executing": true
    }
   }
  },
  {
   "cell_type": "markdown",
   "source": [
    "## TF_IDF\n",
    "calculate the tf-idfs and put them in a dataframe where one column is the words and the next column is the tf_idfs for each word."
   ],
   "metadata": {
    "collapsed": false,
    "pycharm": {
     "name": "#%% md\n"
    }
   }
  },
  {
   "cell_type": "code",
   "execution_count": null,
   "outputs": [],
   "source": [
    "from sklearn.feature_extraction.text import TfidfVectorizer\n",
    "tfdif_vectorizer = TfidfVectorizer(stop_words='english')\n",
    "fit_transformed = tfdif_vectorizer.fit_transform(sentences_tokenized)\n",
    "matrix = pd.DataFrame(data=fit_transformed.toarray(), columns=tfdif_vectorizer.get_feature_names_out())\n",
    "matrix"
   ],
   "metadata": {
    "collapsed": false,
    "pycharm": {
     "name": "#%%\n",
     "is_executing": true
    }
   }
  },
  {
   "cell_type": "code",
   "execution_count": null,
   "outputs": [],
   "source": [
    "word_tfidf = pd.DataFrame({\n",
    "    'words': tfdif_vectorizer.get_feature_names_out(),\n",
    "    'tf-idf score': matrix.sum(axis=0)\n",
    "})\n",
    "# ----------!----------------!---------------!-------------\n",
    "# why are there two columns of the words and not numbers as in the original?\n",
    "# is it because I removed the flat?? But that threw an error??\n",
    "word_tfidf.sort_values(by=['tf-idf score'], ascending=False)"
   ],
   "metadata": {
    "collapsed": false,
    "pycharm": {
     "name": "#%%\n",
     "is_executing": true
    }
   }
  },
  {
   "cell_type": "markdown",
   "source": [
    "## Sentiment Analysis"
   ],
   "metadata": {
    "collapsed": false,
    "pycharm": {
     "name": "#%% md\n"
    }
   }
  },
  {
   "cell_type": "code",
   "execution_count": null,
   "outputs": [],
   "source": [
    "# encoding: just test which one works: utf-8, utf-16, euc-kr, cp949, latin_1\n",
    "imdb = pd.read_csv('../week7/imdb_dataset.csv', nrows=10000, encoding='cp949')"
   ],
   "metadata": {
    "collapsed": false,
    "pycharm": {
     "name": "#%%\n",
     "is_executing": true
    }
   }
  },
  {
   "cell_type": "code",
   "execution_count": null,
   "outputs": [],
   "source": [
    "# PREPROCESSING\n",
    "import pandas as pd\n",
    "from nltk.corpus import stopwords\n",
    "import re\n",
    "\n",
    "reviews = pd.DataFrame(imdb)\n",
    "stop_words = stopwords.words('english')\n",
    "\n",
    "def filter(review):\n",
    "    review_regexed = re.sub(r'<.*?>', '', review)\n",
    "    review_filtered = (word for word in review_regexed.split() if word not in stop_words)\n",
    "    return \" \".join(review_filtered)\n",
    "\n",
    "reviews['review processed'] = reviews['review'].apply(lambda rev: filter(rev))"
   ],
   "metadata": {
    "collapsed": false,
    "pycharm": {
     "name": "#%%\n",
     "is_executing": true
    }
   }
  },
  {
   "cell_type": "code",
   "execution_count": null,
   "outputs": [],
   "source": [
    "from textblob import TextBlob\n",
    "\n",
    "reviews['polarity'] = reviews['review processed'].apply(lambda rev: TextBlob(rev).polarity)\n",
    "reviews['subjectivity'] = reviews['review processed'].apply(lambda rev: TextBlob(rev).subjectivity)\n",
    "print(reviews)"
   ],
   "metadata": {
    "collapsed": false,
    "pycharm": {
     "name": "#%%\n",
     "is_executing": true
    }
   }
  },
  {
   "cell_type": "code",
   "execution_count": null,
   "outputs": [],
   "source": [
    "import seaborn as sns\n",
    "%matplotlib inline\n",
    "sns.displot(reviews['polarity'])"
   ],
   "metadata": {
    "collapsed": false,
    "pycharm": {
     "name": "#%%\n",
     "is_executing": true
    }
   }
  }
 ],
 "metadata": {
  "kernelspec": {
   "display_name": "Python 3 (ipykernel)",
   "language": "python",
   "name": "python3"
  },
  "language_info": {
   "codemirror_mode": {
    "name": "ipython",
    "version": 3
   },
   "file_extension": ".py",
   "mimetype": "text/x-python",
   "name": "python",
   "nbconvert_exporter": "python",
   "pygments_lexer": "ipython3",
   "version": "3.9.12"
  }
 },
 "nbformat": 4,
 "nbformat_minor": 2
}