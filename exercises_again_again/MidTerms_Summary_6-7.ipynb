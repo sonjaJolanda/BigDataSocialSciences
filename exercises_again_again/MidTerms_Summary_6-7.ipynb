{
 "cells": [
  {
   "cell_type": "markdown",
   "metadata": {
    "pycharm": {
     "name": "#%% md\n"
    }
   },
   "source": [
    "# MidTerm Summary"
   ]
  },
  {
   "cell_type": "markdown",
   "source": [
    "## Bag of Words"
   ],
   "metadata": {
    "collapsed": false,
    "pycharm": {
     "name": "#%% md\n"
    }
   }
  },
  {
   "cell_type": "code",
   "execution_count": 48,
   "outputs": [],
   "source": [
    "sentences = \"\"\"\n",
    "Regularly and thoroughly clean your hands with an alcohol-based hand rub or wash them with soap and water.\n",
    "This eliminates germs including viruses that may be on your hands.\n",
    "Avoid touching your eyes, nose and mouth.\n",
    "Hands touch many surfaces and can pick up viruses.\n",
    "Once contaminated, hands can transfer the virus to your eyes, nose or mouth.\n",
    "From there, the virus can enter your body and infect you.\n",
    "Cover your mouth and nose with your bent elbow or tissue when you cough or sneeze.\n",
    "Then dispose of the used tissue immediately into a closed bin and wash your hands.\n",
    "By following good ‘respiratory hygiene’, you protect the people around you from viruses, which cause colds, flu and COVID-19.\n",
    "Clean and disinfect surfaces frequently especially those which are regularly touched,\n",
    "such as door handles, faucets and phone screens or mouth.\n",
    "From there, the virus can enter your body and infect you.\n",
    "\"\"\"\n",
    "# Count the words and find the most common words (after removing stopwords, ',?.') and put it in a dataframe"
   ],
   "metadata": {
    "collapsed": false,
    "pycharm": {
     "name": "#%%\n"
    }
   }
  },
  {
   "cell_type": "code",
   "execution_count": 49,
   "outputs": [],
   "source": [
    "import nltk.tokenize\n",
    "import pandas as pd\n",
    "\n",
    "tokenized_sentences = nltk.sent_tokenize(sentences)\n",
    "from sklearn.feature_extraction.text import CountVectorizer"
   ],
   "metadata": {
    "collapsed": false,
    "pycharm": {
     "name": "#%%\n"
    }
   }
  },
  {
   "cell_type": "code",
   "execution_count": 50,
   "outputs": [],
   "source": [
    "vectorizer = CountVectorizer(stop_words='english')\n",
    "vectorized_sentences = vectorizer.fit(tokenized_sentences)\n",
    "#print(vectorized_sentences.vocabulary_) #-----------------!!!!!!!!!!!!!---------------------------"
   ],
   "metadata": {
    "collapsed": false,
    "pycharm": {
     "name": "#%%\n"
    }
   }
  },
  {
   "cell_type": "code",
   "execution_count": 51,
   "outputs": [
    {
     "data": {
      "text/plain": "    19  alcohol  avoid  based  bent  bin  body  cause  clean  closed  ...  \\\n0    0        1      0      1     0    0     0      0      1       0  ...   \n1    0        0      0      0     0    0     0      0      0       0  ...   \n2    0        0      1      0     0    0     0      0      0       0  ...   \n3    0        0      0      0     0    0     0      0      0       0  ...   \n4    0        0      0      0     0    0     0      0      0       0  ...   \n5    0        0      0      0     0    0     1      0      0       0  ...   \n6    0        0      0      0     1    0     0      0      0       0  ...   \n7    0        0      0      0     0    1     0      0      0       1  ...   \n8    1        0      0      0     0    0     0      1      0       0  ...   \n9    0        0      0      0     0    0     0      0      1       0  ...   \n10   0        0      0      0     0    0     1      0      0       0  ...   \n\n    tissue  touch  touched  touching  transfer  used  virus  viruses  wash  \\\n0        0      0        0         0         0     0      0        0     1   \n1        0      0        0         0         0     0      0        1     0   \n2        0      0        0         1         0     0      0        0     0   \n3        0      1        0         0         0     0      0        1     0   \n4        0      0        0         0         1     0      1        0     0   \n5        0      0        0         0         0     0      1        0     0   \n6        1      0        0         0         0     0      0        0     0   \n7        1      0        0         0         0     1      0        0     1   \n8        0      0        0         0         0     0      0        1     0   \n9        0      0        1         0         0     0      0        0     0   \n10       0      0        0         0         0     0      1        0     0   \n\n    water  \n0       1  \n1       0  \n2       0  \n3       0  \n4       0  \n5       0  \n6       0  \n7       0  \n8       0  \n9       0  \n10      0  \n\n[11 rows x 60 columns]",
      "text/html": "<div>\n<style scoped>\n    .dataframe tbody tr th:only-of-type {\n        vertical-align: middle;\n    }\n\n    .dataframe tbody tr th {\n        vertical-align: top;\n    }\n\n    .dataframe thead th {\n        text-align: right;\n    }\n</style>\n<table border=\"1\" class=\"dataframe\">\n  <thead>\n    <tr style=\"text-align: right;\">\n      <th></th>\n      <th>19</th>\n      <th>alcohol</th>\n      <th>avoid</th>\n      <th>based</th>\n      <th>bent</th>\n      <th>bin</th>\n      <th>body</th>\n      <th>cause</th>\n      <th>clean</th>\n      <th>closed</th>\n      <th>...</th>\n      <th>tissue</th>\n      <th>touch</th>\n      <th>touched</th>\n      <th>touching</th>\n      <th>transfer</th>\n      <th>used</th>\n      <th>virus</th>\n      <th>viruses</th>\n      <th>wash</th>\n      <th>water</th>\n    </tr>\n  </thead>\n  <tbody>\n    <tr>\n      <th>0</th>\n      <td>0</td>\n      <td>1</td>\n      <td>0</td>\n      <td>1</td>\n      <td>0</td>\n      <td>0</td>\n      <td>0</td>\n      <td>0</td>\n      <td>1</td>\n      <td>0</td>\n      <td>...</td>\n      <td>0</td>\n      <td>0</td>\n      <td>0</td>\n      <td>0</td>\n      <td>0</td>\n      <td>0</td>\n      <td>0</td>\n      <td>0</td>\n      <td>1</td>\n      <td>1</td>\n    </tr>\n    <tr>\n      <th>1</th>\n      <td>0</td>\n      <td>0</td>\n      <td>0</td>\n      <td>0</td>\n      <td>0</td>\n      <td>0</td>\n      <td>0</td>\n      <td>0</td>\n      <td>0</td>\n      <td>0</td>\n      <td>...</td>\n      <td>0</td>\n      <td>0</td>\n      <td>0</td>\n      <td>0</td>\n      <td>0</td>\n      <td>0</td>\n      <td>0</td>\n      <td>1</td>\n      <td>0</td>\n      <td>0</td>\n    </tr>\n    <tr>\n      <th>2</th>\n      <td>0</td>\n      <td>0</td>\n      <td>1</td>\n      <td>0</td>\n      <td>0</td>\n      <td>0</td>\n      <td>0</td>\n      <td>0</td>\n      <td>0</td>\n      <td>0</td>\n      <td>...</td>\n      <td>0</td>\n      <td>0</td>\n      <td>0</td>\n      <td>1</td>\n      <td>0</td>\n      <td>0</td>\n      <td>0</td>\n      <td>0</td>\n      <td>0</td>\n      <td>0</td>\n    </tr>\n    <tr>\n      <th>3</th>\n      <td>0</td>\n      <td>0</td>\n      <td>0</td>\n      <td>0</td>\n      <td>0</td>\n      <td>0</td>\n      <td>0</td>\n      <td>0</td>\n      <td>0</td>\n      <td>0</td>\n      <td>...</td>\n      <td>0</td>\n      <td>1</td>\n      <td>0</td>\n      <td>0</td>\n      <td>0</td>\n      <td>0</td>\n      <td>0</td>\n      <td>1</td>\n      <td>0</td>\n      <td>0</td>\n    </tr>\n    <tr>\n      <th>4</th>\n      <td>0</td>\n      <td>0</td>\n      <td>0</td>\n      <td>0</td>\n      <td>0</td>\n      <td>0</td>\n      <td>0</td>\n      <td>0</td>\n      <td>0</td>\n      <td>0</td>\n      <td>...</td>\n      <td>0</td>\n      <td>0</td>\n      <td>0</td>\n      <td>0</td>\n      <td>1</td>\n      <td>0</td>\n      <td>1</td>\n      <td>0</td>\n      <td>0</td>\n      <td>0</td>\n    </tr>\n    <tr>\n      <th>5</th>\n      <td>0</td>\n      <td>0</td>\n      <td>0</td>\n      <td>0</td>\n      <td>0</td>\n      <td>0</td>\n      <td>1</td>\n      <td>0</td>\n      <td>0</td>\n      <td>0</td>\n      <td>...</td>\n      <td>0</td>\n      <td>0</td>\n      <td>0</td>\n      <td>0</td>\n      <td>0</td>\n      <td>0</td>\n      <td>1</td>\n      <td>0</td>\n      <td>0</td>\n      <td>0</td>\n    </tr>\n    <tr>\n      <th>6</th>\n      <td>0</td>\n      <td>0</td>\n      <td>0</td>\n      <td>0</td>\n      <td>1</td>\n      <td>0</td>\n      <td>0</td>\n      <td>0</td>\n      <td>0</td>\n      <td>0</td>\n      <td>...</td>\n      <td>1</td>\n      <td>0</td>\n      <td>0</td>\n      <td>0</td>\n      <td>0</td>\n      <td>0</td>\n      <td>0</td>\n      <td>0</td>\n      <td>0</td>\n      <td>0</td>\n    </tr>\n    <tr>\n      <th>7</th>\n      <td>0</td>\n      <td>0</td>\n      <td>0</td>\n      <td>0</td>\n      <td>0</td>\n      <td>1</td>\n      <td>0</td>\n      <td>0</td>\n      <td>0</td>\n      <td>1</td>\n      <td>...</td>\n      <td>1</td>\n      <td>0</td>\n      <td>0</td>\n      <td>0</td>\n      <td>0</td>\n      <td>1</td>\n      <td>0</td>\n      <td>0</td>\n      <td>1</td>\n      <td>0</td>\n    </tr>\n    <tr>\n      <th>8</th>\n      <td>1</td>\n      <td>0</td>\n      <td>0</td>\n      <td>0</td>\n      <td>0</td>\n      <td>0</td>\n      <td>0</td>\n      <td>1</td>\n      <td>0</td>\n      <td>0</td>\n      <td>...</td>\n      <td>0</td>\n      <td>0</td>\n      <td>0</td>\n      <td>0</td>\n      <td>0</td>\n      <td>0</td>\n      <td>0</td>\n      <td>1</td>\n      <td>0</td>\n      <td>0</td>\n    </tr>\n    <tr>\n      <th>9</th>\n      <td>0</td>\n      <td>0</td>\n      <td>0</td>\n      <td>0</td>\n      <td>0</td>\n      <td>0</td>\n      <td>0</td>\n      <td>0</td>\n      <td>1</td>\n      <td>0</td>\n      <td>...</td>\n      <td>0</td>\n      <td>0</td>\n      <td>1</td>\n      <td>0</td>\n      <td>0</td>\n      <td>0</td>\n      <td>0</td>\n      <td>0</td>\n      <td>0</td>\n      <td>0</td>\n    </tr>\n    <tr>\n      <th>10</th>\n      <td>0</td>\n      <td>0</td>\n      <td>0</td>\n      <td>0</td>\n      <td>0</td>\n      <td>0</td>\n      <td>1</td>\n      <td>0</td>\n      <td>0</td>\n      <td>0</td>\n      <td>...</td>\n      <td>0</td>\n      <td>0</td>\n      <td>0</td>\n      <td>0</td>\n      <td>0</td>\n      <td>0</td>\n      <td>1</td>\n      <td>0</td>\n      <td>0</td>\n      <td>0</td>\n    </tr>\n  </tbody>\n</table>\n<p>11 rows × 60 columns</p>\n</div>"
     },
     "execution_count": 51,
     "metadata": {},
     "output_type": "execute_result"
    }
   ],
   "source": [
    "transformed = vectorizer.fit_transform(tokenized_sentences)\n",
    "df_count_vectorized = pd.DataFrame(data=transformed.toarray(), columns=vectorizer.get_feature_names_out())\n",
    "df_count_vectorized"
   ],
   "metadata": {
    "collapsed": false,
    "pycharm": {
     "name": "#%%\n"
    }
   }
  },
  {
   "cell_type": "markdown",
   "source": [
    "## TF_IDF"
   ],
   "metadata": {
    "collapsed": false,
    "pycharm": {
     "name": "#%% md\n"
    }
   }
  },
  {
   "cell_type": "code",
   "execution_count": 52,
   "outputs": [
    {
     "name": "stdout",
     "output_type": "stream",
     "text": [
      "          19   alcohol     avoid     based      bent       bin      body  \\\n",
      "0   0.000000  0.323429  0.000000  0.323429  0.000000  0.000000  0.000000   \n",
      "1   0.000000  0.000000  0.000000  0.000000  0.000000  0.000000  0.000000   \n",
      "2   0.000000  0.000000  0.516605  0.000000  0.000000  0.000000  0.000000   \n",
      "3   0.000000  0.000000  0.000000  0.000000  0.000000  0.000000  0.000000   \n",
      "4   0.000000  0.000000  0.000000  0.000000  0.000000  0.000000  0.000000   \n",
      "5   0.000000  0.000000  0.000000  0.000000  0.000000  0.000000  0.514793   \n",
      "6   0.000000  0.000000  0.000000  0.000000  0.384986  0.000000  0.000000   \n",
      "7   0.000000  0.000000  0.000000  0.000000  0.000000  0.382666  0.000000   \n",
      "8   0.294053  0.000000  0.000000  0.000000  0.000000  0.000000  0.000000   \n",
      "9   0.000000  0.000000  0.000000  0.000000  0.000000  0.000000  0.000000   \n",
      "10  0.000000  0.000000  0.000000  0.000000  0.000000  0.000000  0.514793   \n",
      "\n",
      "       cause     clean    closed  ...    tissue     touch   touched  touching  \\\n",
      "0   0.000000  0.276455  0.000000  ...  0.000000  0.000000  0.000000  0.000000   \n",
      "1   0.000000  0.000000  0.000000  ...  0.000000  0.000000  0.000000  0.000000   \n",
      "2   0.000000  0.000000  0.000000  ...  0.000000  0.000000  0.000000  0.516605   \n",
      "3   0.000000  0.000000  0.000000  ...  0.000000  0.522457  0.000000  0.000000   \n",
      "4   0.000000  0.000000  0.000000  ...  0.000000  0.000000  0.000000  0.000000   \n",
      "5   0.000000  0.000000  0.000000  ...  0.000000  0.000000  0.000000  0.000000   \n",
      "6   0.000000  0.000000  0.000000  ...  0.329072  0.000000  0.000000  0.000000   \n",
      "7   0.000000  0.000000  0.382666  ...  0.327089  0.000000  0.000000  0.000000   \n",
      "8   0.294053  0.000000  0.000000  ...  0.000000  0.000000  0.000000  0.000000   \n",
      "9   0.000000  0.250502  0.000000  ...  0.000000  0.000000  0.293065  0.000000   \n",
      "10  0.000000  0.000000  0.000000  ...  0.000000  0.000000  0.000000  0.000000   \n",
      "\n",
      "    transfer      used     virus   viruses      wash     water  \n",
      "0   0.000000  0.000000  0.000000  0.000000  0.276455  0.323429  \n",
      "1   0.000000  0.000000  0.000000  0.379051  0.000000  0.000000  \n",
      "2   0.000000  0.000000  0.000000  0.000000  0.000000  0.000000  \n",
      "3   0.000000  0.000000  0.000000  0.392740  0.000000  0.000000  \n",
      "4   0.462255  0.000000  0.347485  0.000000  0.000000  0.000000  \n",
      "5   0.000000  0.000000  0.452731  0.000000  0.000000  0.000000  \n",
      "6   0.000000  0.000000  0.000000  0.000000  0.000000  0.000000  \n",
      "7   0.000000  0.382666  0.000000  0.000000  0.327089  0.000000  \n",
      "8   0.000000  0.000000  0.000000  0.221045  0.000000  0.000000  \n",
      "9   0.000000  0.000000  0.000000  0.000000  0.000000  0.000000  \n",
      "10  0.000000  0.000000  0.452731  0.000000  0.000000  0.000000  \n",
      "\n",
      "[11 rows x 60 columns]\n"
     ]
    }
   ],
   "source": [
    "# calculate the tf-idfs and put them in a dataframe where one column is the words and the next column is the tf_idfs for each word.\n",
    "\n",
    "from sklearn.feature_extraction.text import TfidfVectorizer\n",
    "\n",
    "vectorizer = TfidfVectorizer(stop_words='english')\n",
    "vectorized_sentences = vectorizer.fit_transform(tokenized_sentences)\n",
    "matrix = pd.DataFrame(data=vectorized_sentences.toarray(), columns=vectorizer.get_feature_names_out())\n",
    "print(matrix)"
   ],
   "metadata": {
    "collapsed": false,
    "pycharm": {
     "name": "#%%\n"
    }
   }
  },
  {
   "cell_type": "code",
   "execution_count": 53,
   "outputs": [
    {
     "data": {
      "text/plain": "                tf_idf\n19            0.294053\nalcohol       0.323429\navoid         0.516605\nbased         0.323429\nbent          0.384986\nbin           0.382666\nbody          1.029585\ncause         0.294053\nclean         0.526957\nclosed        0.382666\ncolds         0.294053\ncontaminated  0.462255\ncough         0.384986\ncover         0.384986\ncovid         0.294053\ndisinfect     0.293065\ndispose       0.382666\ndoor          0.293065\nelbow         0.384986\neliminates    0.504247\nenter         1.029585\nespecially    0.293065\neyes          0.836694\nfaucets       0.293065\nflu           0.294053\nfollowing     0.294053\nfrequently    0.293065\ngerms         0.504247\ngood          0.294053\nhand          0.323429\nhandles       0.293065\nhands         1.331257\nhygiene       0.294053\nimmediately   0.382666\nincluding     0.504247\ninfect        1.029585\nmouth         1.113092\nnose          1.025226\npeople        0.294053\nphone         0.293065\npick          0.522457\nprotect       0.294053\nregularly     0.526957\nrespiratory   0.294053\nrub           0.323429\nscreens       0.293065\nsneeze        0.384986\nsoap          0.323429\nsurfaces      0.697079\nthoroughly    0.323429\ntissue        0.656161\ntouch         0.522457\ntouched       0.293065\ntouching      0.516605\ntransfer      0.462255\nused          0.382666\nvirus         1.252948\nviruses       0.992836\nwash          0.603544\nwater         0.323429",
      "text/html": "<div>\n<style scoped>\n    .dataframe tbody tr th:only-of-type {\n        vertical-align: middle;\n    }\n\n    .dataframe tbody tr th {\n        vertical-align: top;\n    }\n\n    .dataframe thead th {\n        text-align: right;\n    }\n</style>\n<table border=\"1\" class=\"dataframe\">\n  <thead>\n    <tr style=\"text-align: right;\">\n      <th></th>\n      <th>tf_idf</th>\n    </tr>\n  </thead>\n  <tbody>\n    <tr>\n      <th>19</th>\n      <td>0.294053</td>\n    </tr>\n    <tr>\n      <th>alcohol</th>\n      <td>0.323429</td>\n    </tr>\n    <tr>\n      <th>avoid</th>\n      <td>0.516605</td>\n    </tr>\n    <tr>\n      <th>based</th>\n      <td>0.323429</td>\n    </tr>\n    <tr>\n      <th>bent</th>\n      <td>0.384986</td>\n    </tr>\n    <tr>\n      <th>bin</th>\n      <td>0.382666</td>\n    </tr>\n    <tr>\n      <th>body</th>\n      <td>1.029585</td>\n    </tr>\n    <tr>\n      <th>cause</th>\n      <td>0.294053</td>\n    </tr>\n    <tr>\n      <th>clean</th>\n      <td>0.526957</td>\n    </tr>\n    <tr>\n      <th>closed</th>\n      <td>0.382666</td>\n    </tr>\n    <tr>\n      <th>colds</th>\n      <td>0.294053</td>\n    </tr>\n    <tr>\n      <th>contaminated</th>\n      <td>0.462255</td>\n    </tr>\n    <tr>\n      <th>cough</th>\n      <td>0.384986</td>\n    </tr>\n    <tr>\n      <th>cover</th>\n      <td>0.384986</td>\n    </tr>\n    <tr>\n      <th>covid</th>\n      <td>0.294053</td>\n    </tr>\n    <tr>\n      <th>disinfect</th>\n      <td>0.293065</td>\n    </tr>\n    <tr>\n      <th>dispose</th>\n      <td>0.382666</td>\n    </tr>\n    <tr>\n      <th>door</th>\n      <td>0.293065</td>\n    </tr>\n    <tr>\n      <th>elbow</th>\n      <td>0.384986</td>\n    </tr>\n    <tr>\n      <th>eliminates</th>\n      <td>0.504247</td>\n    </tr>\n    <tr>\n      <th>enter</th>\n      <td>1.029585</td>\n    </tr>\n    <tr>\n      <th>especially</th>\n      <td>0.293065</td>\n    </tr>\n    <tr>\n      <th>eyes</th>\n      <td>0.836694</td>\n    </tr>\n    <tr>\n      <th>faucets</th>\n      <td>0.293065</td>\n    </tr>\n    <tr>\n      <th>flu</th>\n      <td>0.294053</td>\n    </tr>\n    <tr>\n      <th>following</th>\n      <td>0.294053</td>\n    </tr>\n    <tr>\n      <th>frequently</th>\n      <td>0.293065</td>\n    </tr>\n    <tr>\n      <th>germs</th>\n      <td>0.504247</td>\n    </tr>\n    <tr>\n      <th>good</th>\n      <td>0.294053</td>\n    </tr>\n    <tr>\n      <th>hand</th>\n      <td>0.323429</td>\n    </tr>\n    <tr>\n      <th>handles</th>\n      <td>0.293065</td>\n    </tr>\n    <tr>\n      <th>hands</th>\n      <td>1.331257</td>\n    </tr>\n    <tr>\n      <th>hygiene</th>\n      <td>0.294053</td>\n    </tr>\n    <tr>\n      <th>immediately</th>\n      <td>0.382666</td>\n    </tr>\n    <tr>\n      <th>including</th>\n      <td>0.504247</td>\n    </tr>\n    <tr>\n      <th>infect</th>\n      <td>1.029585</td>\n    </tr>\n    <tr>\n      <th>mouth</th>\n      <td>1.113092</td>\n    </tr>\n    <tr>\n      <th>nose</th>\n      <td>1.025226</td>\n    </tr>\n    <tr>\n      <th>people</th>\n      <td>0.294053</td>\n    </tr>\n    <tr>\n      <th>phone</th>\n      <td>0.293065</td>\n    </tr>\n    <tr>\n      <th>pick</th>\n      <td>0.522457</td>\n    </tr>\n    <tr>\n      <th>protect</th>\n      <td>0.294053</td>\n    </tr>\n    <tr>\n      <th>regularly</th>\n      <td>0.526957</td>\n    </tr>\n    <tr>\n      <th>respiratory</th>\n      <td>0.294053</td>\n    </tr>\n    <tr>\n      <th>rub</th>\n      <td>0.323429</td>\n    </tr>\n    <tr>\n      <th>screens</th>\n      <td>0.293065</td>\n    </tr>\n    <tr>\n      <th>sneeze</th>\n      <td>0.384986</td>\n    </tr>\n    <tr>\n      <th>soap</th>\n      <td>0.323429</td>\n    </tr>\n    <tr>\n      <th>surfaces</th>\n      <td>0.697079</td>\n    </tr>\n    <tr>\n      <th>thoroughly</th>\n      <td>0.323429</td>\n    </tr>\n    <tr>\n      <th>tissue</th>\n      <td>0.656161</td>\n    </tr>\n    <tr>\n      <th>touch</th>\n      <td>0.522457</td>\n    </tr>\n    <tr>\n      <th>touched</th>\n      <td>0.293065</td>\n    </tr>\n    <tr>\n      <th>touching</th>\n      <td>0.516605</td>\n    </tr>\n    <tr>\n      <th>transfer</th>\n      <td>0.462255</td>\n    </tr>\n    <tr>\n      <th>used</th>\n      <td>0.382666</td>\n    </tr>\n    <tr>\n      <th>virus</th>\n      <td>1.252948</td>\n    </tr>\n    <tr>\n      <th>viruses</th>\n      <td>0.992836</td>\n    </tr>\n    <tr>\n      <th>wash</th>\n      <td>0.603544</td>\n    </tr>\n    <tr>\n      <th>water</th>\n      <td>0.323429</td>\n    </tr>\n  </tbody>\n</table>\n</div>"
     },
     "execution_count": 53,
     "metadata": {},
     "output_type": "execute_result"
    }
   ],
   "source": [
    "pd.DataFrame({\n",
    "    'tf_idf': matrix.sum(axis=0)\n",
    "})"
   ],
   "metadata": {
    "collapsed": false,
    "pycharm": {
     "name": "#%%\n"
    }
   }
  },
  {
   "cell_type": "markdown",
   "source": [
    "## Sentiment Analysis"
   ],
   "metadata": {
    "collapsed": false,
    "pycharm": {
     "name": "#%% md\n"
    }
   }
  },
  {
   "cell_type": "code",
   "execution_count": 54,
   "outputs": [],
   "source": [
    "# encoding: just test which one works: utf-8, utf-16, euc-kr, cp949, latin_1\n",
    "imdb = pd.read_csv('../week7/imdb_dataset.csv', nrows=10000, encoding='cp949')"
   ],
   "metadata": {
    "collapsed": false,
    "pycharm": {
     "name": "#%%\n"
    }
   }
  },
  {
   "cell_type": "code",
   "execution_count": 55,
   "outputs": [
    {
     "name": "stdout",
     "output_type": "stream",
     "text": [
      "                                                 review sentiment\n",
      "0     One of the other reviewers has mentioned that ...  positive\n",
      "1     A wonderful little production. <br /><br />The...  positive\n",
      "2     I thought this was a wonderful way to spend ti...  positive\n",
      "3     Basically there's a family where a little boy ...  negative\n",
      "4     Petter Mattei's \"Love in the Time of Money\" is...  positive\n",
      "...                                                 ...       ...\n",
      "9995  Fun, entertaining movie about WWII German spy ...  positive\n",
      "9996  Give me a break. How can anyone say that this ...  negative\n",
      "9997  This movie is a bad movie. But after watching ...  negative\n",
      "9998  This is a movie that was probably made to ente...  negative\n",
      "9999  Smashing film about film-making. Shows the int...  positive\n",
      "\n",
      "[10000 rows x 2 columns]\n"
     ]
    }
   ],
   "source": [
    "# PREPROCESSING\n",
    "print(imdb)"
   ],
   "metadata": {
    "collapsed": false,
    "pycharm": {
     "name": "#%%\n"
    }
   }
  },
  {
   "cell_type": "code",
   "execution_count": 56,
   "outputs": [
    {
     "name": "stdout",
     "output_type": "stream",
     "text": [
      "                                                 review sentiment  polarity\n",
      "0     One of the other reviewers has mentioned that ...  positive  0.023433\n",
      "1     A wonderful little production. <br /><br />The...  positive  0.109722\n",
      "2     I thought this was a wonderful way to spend ti...  positive  0.354008\n",
      "3     Basically there's a family where a little boy ...  negative -0.057813\n",
      "4     Petter Mattei's \"Love in the Time of Money\" is...  positive  0.217952\n",
      "...                                                 ...       ...       ...\n",
      "9995  Fun, entertaining movie about WWII German spy ...  positive  0.249811\n",
      "9996  Give me a break. How can anyone say that this ...  negative  0.066324\n",
      "9997  This movie is a bad movie. But after watching ...  negative  0.021673\n",
      "9998  This is a movie that was probably made to ente...  negative -0.020000\n",
      "9999  Smashing film about film-making. Shows the int...  positive  0.120536\n",
      "\n",
      "[10000 rows x 3 columns]\n"
     ]
    }
   ],
   "source": [
    "from textblob import TextBlob\n",
    "\n",
    "reviews = pd.DataFrame(data=imdb, columns=[\"review\", \"sentiment\"])\n",
    "reviews[\"polarity\"] = reviews[\"review\"].apply(lambda review: TextBlob(review).polarity)\n",
    "print(reviews)"
   ],
   "metadata": {
    "collapsed": false,
    "pycharm": {
     "name": "#%%\n"
    }
   }
  },
  {
   "cell_type": "code",
   "execution_count": 57,
   "outputs": [
    {
     "data": {
      "text/plain": "<seaborn.axisgrid.FacetGrid at 0x1902f8537f0>"
     },
     "execution_count": 57,
     "metadata": {},
     "output_type": "execute_result"
    },
    {
     "data": {
      "text/plain": "<Figure size 500x500 with 1 Axes>",
      "image/png": "[encoded data removed]"
     },
     "metadata": {},
     "output_type": "display_data"
    }
   ],
   "source": [
    "import seaborn as sns\n",
    "%matplotlib inline\n",
    "sns.displot(reviews['polarity'])"
   ],
   "metadata": {
    "collapsed": false,
    "pycharm": {
     "name": "#%%\n"
    }
   }
  },
  {
   "cell_type": "markdown",
   "metadata": {
    "pycharm": {
     "name": "#%% md\n"
    }
   },
   "source": [
    "##  Nice to Know"
   ]
  },
  {
   "cell_type": "code",
   "execution_count": 68,
   "outputs": [
    {
     "name": "stdout",
     "output_type": "stream",
     "text": [
      "[1, 2, 3, 4, 5, 6, 7, 8, 9, 10]\n"
     ]
    }
   ],
   "source": [
    "a = [x for x in range(1,11)]\n",
    "print(a)"
   ],
   "metadata": {
    "collapsed": false,
    "pycharm": {
     "name": "#%%\n"
    }
   }
  },
  {
   "cell_type": "code",
   "execution_count": 59,
   "outputs": [],
   "source": [],
   "metadata": {
    "collapsed": false,
    "pycharm": {
     "name": "#%%\n"
    }
   }
  },
  {
   "cell_type": "markdown",
   "source": [],
   "metadata": {
    "collapsed": false,
    "pycharm": {
     "name": "#%% md\n"
    }
   }
  }
 ],
 "metadata": {
  "kernelspec": {
   "display_name": "Python 3 (ipykernel)",
   "language": "python",
   "name": "python3"
  },
  "language_info": {
   "codemirror_mode": {
    "name": "ipython",
    "version": 3
   },
   "file_extension": ".py",
   "mimetype": "text/x-python",
   "name": "python",
   "nbconvert_exporter": "python",
   "pygments_lexer": "ipython3",
   "version": "3.9.12"
  }
 },
 "nbformat": 4,
 "nbformat_minor": 2
}