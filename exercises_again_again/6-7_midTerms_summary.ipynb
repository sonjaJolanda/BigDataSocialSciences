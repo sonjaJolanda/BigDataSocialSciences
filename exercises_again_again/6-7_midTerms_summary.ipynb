{
 "cells": [
  {
   "cell_type": "markdown",
   "metadata": {
    "pycharm": {
     "name": "#%% md\n"
    }
   },
   "source": [
    "# MidTerm Summary 6-7"
   ]
  },
  {
   "cell_type": "markdown",
   "source": [
    "## Bag of Words\n",
    "- make a matrix in which for each sentence the number of occurrences of each word is displayed."
   ],
   "metadata": {
    "collapsed": false,
    "pycharm": {
     "name": "#%% md\n"
    }
   }
  },
  {
   "cell_type": "code",
   "execution_count": 1,
   "outputs": [],
   "source": [
    "import re\n",
    "\n",
    "sentences = \"\"\"\n",
    "Regularly and thoroughly clean your hands with an alcohol-based hand rub or wash them with soap and water.\n",
    "This eliminates germs including viruses that may be on your hands.\n",
    "Avoid touching your eyes, nose and mouth.\n",
    "Hands touch many surfaces and can pick up viruses.\n",
    "Once contaminated, hands can transfer the virus to your eyes, nose or mouth.\n",
    "From there, the virus can enter your body and infect you.\n",
    "Cover your mouth and nose with your bent elbow or tissue when you cough or sneeze.\n",
    "Then dispose of the used tissue immediately into a closed bin and wash your hands.\n",
    "By following good ‘respiratory hygiene’, you protect the people around you from viruses, which cause colds, flu and COVID-19.\n",
    "Clean and disinfect surfaces frequently especially those which are regularly touched,\n",
    "such as door handles, faucets and phone screens or mouth.\n",
    "From there, the virus can enter your body and infect you.\n",
    "\"\"\""
   ],
   "metadata": {
    "collapsed": false,
    "pycharm": {
     "name": "#%%\n"
    }
   }
  },
  {
   "cell_type": "code",
   "execution_count": 2,
   "outputs": [],
   "source": [
    "from sklearn.feature_extraction.text import CountVectorizer\n",
    "import nltk\n",
    "import pandas as pd\n",
    "\n",
    "sentences_tokenized = nltk.sent_tokenize(sentences)\n",
    "\n",
    "countVectorizer = CountVectorizer(stop_words='english')\n",
    "fit_transformed = countVectorizer.fit_transform(sentences_tokenized)\n",
    "\n",
    "matrix = pd.DataFrame(data=fit_transformed.toarray(), columns=countVectorizer.get_feature_names_out())"
   ],
   "metadata": {
    "collapsed": false,
    "pycharm": {
     "name": "#%%\n"
    }
   }
  },
  {
   "cell_type": "markdown",
   "source": [
    "## TF_IDF\n",
    "calculate the tf-idfs and put them in a dataframe where one column is the words and the next column is the tf_idfs for each word."
   ],
   "metadata": {
    "collapsed": false,
    "pycharm": {
     "name": "#%% md\n"
    }
   }
  },
  {
   "cell_type": "code",
   "execution_count": 3,
   "outputs": [
    {
     "data": {
      "text/plain": "          19   alcohol     avoid     based      bent       bin      body  \\\n0   0.000000  0.323429  0.000000  0.323429  0.000000  0.000000  0.000000   \n1   0.000000  0.000000  0.000000  0.000000  0.000000  0.000000  0.000000   \n2   0.000000  0.000000  0.516605  0.000000  0.000000  0.000000  0.000000   \n3   0.000000  0.000000  0.000000  0.000000  0.000000  0.000000  0.000000   \n4   0.000000  0.000000  0.000000  0.000000  0.000000  0.000000  0.000000   \n5   0.000000  0.000000  0.000000  0.000000  0.000000  0.000000  0.514793   \n6   0.000000  0.000000  0.000000  0.000000  0.384986  0.000000  0.000000   \n7   0.000000  0.000000  0.000000  0.000000  0.000000  0.382666  0.000000   \n8   0.294053  0.000000  0.000000  0.000000  0.000000  0.000000  0.000000   \n9   0.000000  0.000000  0.000000  0.000000  0.000000  0.000000  0.000000   \n10  0.000000  0.000000  0.000000  0.000000  0.000000  0.000000  0.514793   \n\n       cause     clean    closed  ...    tissue     touch   touched  touching  \\\n0   0.000000  0.276455  0.000000  ...  0.000000  0.000000  0.000000  0.000000   \n1   0.000000  0.000000  0.000000  ...  0.000000  0.000000  0.000000  0.000000   \n2   0.000000  0.000000  0.000000  ...  0.000000  0.000000  0.000000  0.516605   \n3   0.000000  0.000000  0.000000  ...  0.000000  0.522457  0.000000  0.000000   \n4   0.000000  0.000000  0.000000  ...  0.000000  0.000000  0.000000  0.000000   \n5   0.000000  0.000000  0.000000  ...  0.000000  0.000000  0.000000  0.000000   \n6   0.000000  0.000000  0.000000  ...  0.329072  0.000000  0.000000  0.000000   \n7   0.000000  0.000000  0.382666  ...  0.327089  0.000000  0.000000  0.000000   \n8   0.294053  0.000000  0.000000  ...  0.000000  0.000000  0.000000  0.000000   \n9   0.000000  0.250502  0.000000  ...  0.000000  0.000000  0.293065  0.000000   \n10  0.000000  0.000000  0.000000  ...  0.000000  0.000000  0.000000  0.000000   \n\n    transfer      used     virus   viruses      wash     water  \n0   0.000000  0.000000  0.000000  0.000000  0.276455  0.323429  \n1   0.000000  0.000000  0.000000  0.379051  0.000000  0.000000  \n2   0.000000  0.000000  0.000000  0.000000  0.000000  0.000000  \n3   0.000000  0.000000  0.000000  0.392740  0.000000  0.000000  \n4   0.462255  0.000000  0.347485  0.000000  0.000000  0.000000  \n5   0.000000  0.000000  0.452731  0.000000  0.000000  0.000000  \n6   0.000000  0.000000  0.000000  0.000000  0.000000  0.000000  \n7   0.000000  0.382666  0.000000  0.000000  0.327089  0.000000  \n8   0.000000  0.000000  0.000000  0.221045  0.000000  0.000000  \n9   0.000000  0.000000  0.000000  0.000000  0.000000  0.000000  \n10  0.000000  0.000000  0.452731  0.000000  0.000000  0.000000  \n\n[11 rows x 60 columns]",
      "text/html": "<div>\n<style scoped>\n    .dataframe tbody tr th:only-of-type {\n        vertical-align: middle;\n    }\n\n    .dataframe tbody tr th {\n        vertical-align: top;\n    }\n\n    .dataframe thead th {\n        text-align: right;\n    }\n</style>\n<table border=\"1\" class=\"dataframe\">\n  <thead>\n    <tr style=\"text-align: right;\">\n      <th></th>\n      <th>19</th>\n      <th>alcohol</th>\n      <th>avoid</th>\n      <th>based</th>\n      <th>bent</th>\n      <th>bin</th>\n      <th>body</th>\n      <th>cause</th>\n      <th>clean</th>\n      <th>closed</th>\n      <th>...</th>\n      <th>tissue</th>\n      <th>touch</th>\n      <th>touched</th>\n      <th>touching</th>\n      <th>transfer</th>\n      <th>used</th>\n      <th>virus</th>\n      <th>viruses</th>\n      <th>wash</th>\n      <th>water</th>\n    </tr>\n  </thead>\n  <tbody>\n    <tr>\n      <th>0</th>\n      <td>0.000000</td>\n      <td>0.323429</td>\n      <td>0.000000</td>\n      <td>0.323429</td>\n      <td>0.000000</td>\n      <td>0.000000</td>\n      <td>0.000000</td>\n      <td>0.000000</td>\n      <td>0.276455</td>\n      <td>0.000000</td>\n      <td>...</td>\n      <td>0.000000</td>\n      <td>0.000000</td>\n      <td>0.000000</td>\n      <td>0.000000</td>\n      <td>0.000000</td>\n      <td>0.000000</td>\n      <td>0.000000</td>\n      <td>0.000000</td>\n      <td>0.276455</td>\n      <td>0.323429</td>\n    </tr>\n    <tr>\n      <th>1</th>\n      <td>0.000000</td>\n      <td>0.000000</td>\n      <td>0.000000</td>\n      <td>0.000000</td>\n      <td>0.000000</td>\n      <td>0.000000</td>\n      <td>0.000000</td>\n      <td>0.000000</td>\n      <td>0.000000</td>\n      <td>0.000000</td>\n      <td>...</td>\n      <td>0.000000</td>\n      <td>0.000000</td>\n      <td>0.000000</td>\n      <td>0.000000</td>\n      <td>0.000000</td>\n      <td>0.000000</td>\n      <td>0.000000</td>\n      <td>0.379051</td>\n      <td>0.000000</td>\n      <td>0.000000</td>\n    </tr>\n    <tr>\n      <th>2</th>\n      <td>0.000000</td>\n      <td>0.000000</td>\n      <td>0.516605</td>\n      <td>0.000000</td>\n      <td>0.000000</td>\n      <td>0.000000</td>\n      <td>0.000000</td>\n      <td>0.000000</td>\n      <td>0.000000</td>\n      <td>0.000000</td>\n      <td>...</td>\n      <td>0.000000</td>\n      <td>0.000000</td>\n      <td>0.000000</td>\n      <td>0.516605</td>\n      <td>0.000000</td>\n      <td>0.000000</td>\n      <td>0.000000</td>\n      <td>0.000000</td>\n      <td>0.000000</td>\n      <td>0.000000</td>\n    </tr>\n    <tr>\n      <th>3</th>\n      <td>0.000000</td>\n      <td>0.000000</td>\n      <td>0.000000</td>\n      <td>0.000000</td>\n      <td>0.000000</td>\n      <td>0.000000</td>\n      <td>0.000000</td>\n      <td>0.000000</td>\n      <td>0.000000</td>\n      <td>0.000000</td>\n      <td>...</td>\n      <td>0.000000</td>\n      <td>0.522457</td>\n      <td>0.000000</td>\n      <td>0.000000</td>\n      <td>0.000000</td>\n      <td>0.000000</td>\n      <td>0.000000</td>\n      <td>0.392740</td>\n      <td>0.000000</td>\n      <td>0.000000</td>\n    </tr>\n    <tr>\n      <th>4</th>\n      <td>0.000000</td>\n      <td>0.000000</td>\n      <td>0.000000</td>\n      <td>0.000000</td>\n      <td>0.000000</td>\n      <td>0.000000</td>\n      <td>0.000000</td>\n      <td>0.000000</td>\n      <td>0.000000</td>\n      <td>0.000000</td>\n      <td>...</td>\n      <td>0.000000</td>\n      <td>0.000000</td>\n      <td>0.000000</td>\n      <td>0.000000</td>\n      <td>0.462255</td>\n      <td>0.000000</td>\n      <td>0.347485</td>\n      <td>0.000000</td>\n      <td>0.000000</td>\n      <td>0.000000</td>\n    </tr>\n    <tr>\n      <th>5</th>\n      <td>0.000000</td>\n      <td>0.000000</td>\n      <td>0.000000</td>\n      <td>0.000000</td>\n      <td>0.000000</td>\n      <td>0.000000</td>\n      <td>0.514793</td>\n      <td>0.000000</td>\n      <td>0.000000</td>\n      <td>0.000000</td>\n      <td>...</td>\n      <td>0.000000</td>\n      <td>0.000000</td>\n      <td>0.000000</td>\n      <td>0.000000</td>\n      <td>0.000000</td>\n      <td>0.000000</td>\n      <td>0.452731</td>\n      <td>0.000000</td>\n      <td>0.000000</td>\n      <td>0.000000</td>\n    </tr>\n    <tr>\n      <th>6</th>\n      <td>0.000000</td>\n      <td>0.000000</td>\n      <td>0.000000</td>\n      <td>0.000000</td>\n      <td>0.384986</td>\n      <td>0.000000</td>\n      <td>0.000000</td>\n      <td>0.000000</td>\n      <td>0.000000</td>\n      <td>0.000000</td>\n      <td>...</td>\n      <td>0.329072</td>\n      <td>0.000000</td>\n      <td>0.000000</td>\n      <td>0.000000</td>\n      <td>0.000000</td>\n      <td>0.000000</td>\n      <td>0.000000</td>\n      <td>0.000000</td>\n      <td>0.000000</td>\n      <td>0.000000</td>\n    </tr>\n    <tr>\n      <th>7</th>\n      <td>0.000000</td>\n      <td>0.000000</td>\n      <td>0.000000</td>\n      <td>0.000000</td>\n      <td>0.000000</td>\n      <td>0.382666</td>\n      <td>0.000000</td>\n      <td>0.000000</td>\n      <td>0.000000</td>\n      <td>0.382666</td>\n      <td>...</td>\n      <td>0.327089</td>\n      <td>0.000000</td>\n      <td>0.000000</td>\n      <td>0.000000</td>\n      <td>0.000000</td>\n      <td>0.382666</td>\n      <td>0.000000</td>\n      <td>0.000000</td>\n      <td>0.327089</td>\n      <td>0.000000</td>\n    </tr>\n    <tr>\n      <th>8</th>\n      <td>0.294053</td>\n      <td>0.000000</td>\n      <td>0.000000</td>\n      <td>0.000000</td>\n      <td>0.000000</td>\n      <td>0.000000</td>\n      <td>0.000000</td>\n      <td>0.294053</td>\n      <td>0.000000</td>\n      <td>0.000000</td>\n      <td>...</td>\n      <td>0.000000</td>\n      <td>0.000000</td>\n      <td>0.000000</td>\n      <td>0.000000</td>\n      <td>0.000000</td>\n      <td>0.000000</td>\n      <td>0.000000</td>\n      <td>0.221045</td>\n      <td>0.000000</td>\n      <td>0.000000</td>\n    </tr>\n    <tr>\n      <th>9</th>\n      <td>0.000000</td>\n      <td>0.000000</td>\n      <td>0.000000</td>\n      <td>0.000000</td>\n      <td>0.000000</td>\n      <td>0.000000</td>\n      <td>0.000000</td>\n      <td>0.000000</td>\n      <td>0.250502</td>\n      <td>0.000000</td>\n      <td>...</td>\n      <td>0.000000</td>\n      <td>0.000000</td>\n      <td>0.293065</td>\n      <td>0.000000</td>\n      <td>0.000000</td>\n      <td>0.000000</td>\n      <td>0.000000</td>\n      <td>0.000000</td>\n      <td>0.000000</td>\n      <td>0.000000</td>\n    </tr>\n    <tr>\n      <th>10</th>\n      <td>0.000000</td>\n      <td>0.000000</td>\n      <td>0.000000</td>\n      <td>0.000000</td>\n      <td>0.000000</td>\n      <td>0.000000</td>\n      <td>0.514793</td>\n      <td>0.000000</td>\n      <td>0.000000</td>\n      <td>0.000000</td>\n      <td>...</td>\n      <td>0.000000</td>\n      <td>0.000000</td>\n      <td>0.000000</td>\n      <td>0.000000</td>\n      <td>0.000000</td>\n      <td>0.000000</td>\n      <td>0.452731</td>\n      <td>0.000000</td>\n      <td>0.000000</td>\n      <td>0.000000</td>\n    </tr>\n  </tbody>\n</table>\n<p>11 rows × 60 columns</p>\n</div>"
     },
     "execution_count": 3,
     "metadata": {},
     "output_type": "execute_result"
    }
   ],
   "source": [
    "from sklearn.feature_extraction.text import TfidfVectorizer\n",
    "tfdif_vectorizer = TfidfVectorizer(stop_words='english')\n",
    "fit_transformed = tfdif_vectorizer.fit_transform(sentences_tokenized)\n",
    "matrix = pd.DataFrame(data=fit_transformed.toarray(), columns=tfdif_vectorizer.get_feature_names_out())\n",
    "matrix"
   ],
   "metadata": {
    "collapsed": false,
    "pycharm": {
     "name": "#%%\n"
    }
   }
  },
  {
   "cell_type": "code",
   "execution_count": 4,
   "outputs": [
    {
     "data": {
      "text/plain": "                     words  tf-idf score\nhands                hands      1.331257\nvirus                virus      1.252948\nmouth                mouth      1.113092\nenter                enter      1.029585\ninfect              infect      1.029585\nbody                  body      1.029585\nnose                  nose      1.025226\nviruses            viruses      0.992836\neyes                  eyes      0.836694\nsurfaces          surfaces      0.697079\ntissue              tissue      0.656161\nwash                  wash      0.603544\nregularly        regularly      0.526957\nclean                clean      0.526957\ntouch                touch      0.522457\npick                  pick      0.522457\ntouching          touching      0.516605\navoid                avoid      0.516605\nincluding        including      0.504247\neliminates      eliminates      0.504247\ngerms                germs      0.504247\ncontaminated  contaminated      0.462255\ntransfer          transfer      0.462255\nelbow                elbow      0.384986\ncover                cover      0.384986\ncough                cough      0.384986\nbent                  bent      0.384986\nsneeze              sneeze      0.384986\nbin                    bin      0.382666\nimmediately    immediately      0.382666\ndispose            dispose      0.382666\nclosed              closed      0.382666\nused                  used      0.382666\nbased                based      0.323429\nrub                    rub      0.323429\nsoap                  soap      0.323429\nalcohol            alcohol      0.323429\nhand                  hand      0.323429\nthoroughly      thoroughly      0.323429\nwater                water      0.323429\nrespiratory    respiratory      0.294053\n19                      19      0.294053\nprotect            protect      0.294053\npeople              people      0.294053\ncause                cause      0.294053\nhygiene            hygiene      0.294053\ngood                  good      0.294053\ncolds                colds      0.294053\nfollowing        following      0.294053\nflu                    flu      0.294053\ncovid                covid      0.294053\ndoor                  door      0.293065\ndisinfect        disinfect      0.293065\nfaucets            faucets      0.293065\nespecially      especially      0.293065\ntouched            touched      0.293065\nphone                phone      0.293065\nfrequently      frequently      0.293065\nscreens            screens      0.293065\nhandles            handles      0.293065",
      "text/html": "<div>\n<style scoped>\n    .dataframe tbody tr th:only-of-type {\n        vertical-align: middle;\n    }\n\n    .dataframe tbody tr th {\n        vertical-align: top;\n    }\n\n    .dataframe thead th {\n        text-align: right;\n    }\n</style>\n<table border=\"1\" class=\"dataframe\">\n  <thead>\n    <tr style=\"text-align: right;\">\n      <th></th>\n      <th>words</th>\n      <th>tf-idf score</th>\n    </tr>\n  </thead>\n  <tbody>\n    <tr>\n      <th>hands</th>\n      <td>hands</td>\n      <td>1.331257</td>\n    </tr>\n    <tr>\n      <th>virus</th>\n      <td>virus</td>\n      <td>1.252948</td>\n    </tr>\n    <tr>\n      <th>mouth</th>\n      <td>mouth</td>\n      <td>1.113092</td>\n    </tr>\n    <tr>\n      <th>enter</th>\n      <td>enter</td>\n      <td>1.029585</td>\n    </tr>\n    <tr>\n      <th>infect</th>\n      <td>infect</td>\n      <td>1.029585</td>\n    </tr>\n    <tr>\n      <th>body</th>\n      <td>body</td>\n      <td>1.029585</td>\n    </tr>\n    <tr>\n      <th>nose</th>\n      <td>nose</td>\n      <td>1.025226</td>\n    </tr>\n    <tr>\n      <th>viruses</th>\n      <td>viruses</td>\n      <td>0.992836</td>\n    </tr>\n    <tr>\n      <th>eyes</th>\n      <td>eyes</td>\n      <td>0.836694</td>\n    </tr>\n    <tr>\n      <th>surfaces</th>\n      <td>surfaces</td>\n      <td>0.697079</td>\n    </tr>\n    <tr>\n      <th>tissue</th>\n      <td>tissue</td>\n      <td>0.656161</td>\n    </tr>\n    <tr>\n      <th>wash</th>\n      <td>wash</td>\n      <td>0.603544</td>\n    </tr>\n    <tr>\n      <th>regularly</th>\n      <td>regularly</td>\n      <td>0.526957</td>\n    </tr>\n    <tr>\n      <th>clean</th>\n      <td>clean</td>\n      <td>0.526957</td>\n    </tr>\n    <tr>\n      <th>touch</th>\n      <td>touch</td>\n      <td>0.522457</td>\n    </tr>\n    <tr>\n      <th>pick</th>\n      <td>pick</td>\n      <td>0.522457</td>\n    </tr>\n    <tr>\n      <th>touching</th>\n      <td>touching</td>\n      <td>0.516605</td>\n    </tr>\n    <tr>\n      <th>avoid</th>\n      <td>avoid</td>\n      <td>0.516605</td>\n    </tr>\n    <tr>\n      <th>including</th>\n      <td>including</td>\n      <td>0.504247</td>\n    </tr>\n    <tr>\n      <th>eliminates</th>\n      <td>eliminates</td>\n      <td>0.504247</td>\n    </tr>\n    <tr>\n      <th>germs</th>\n      <td>germs</td>\n      <td>0.504247</td>\n    </tr>\n    <tr>\n      <th>contaminated</th>\n      <td>contaminated</td>\n      <td>0.462255</td>\n    </tr>\n    <tr>\n      <th>transfer</th>\n      <td>transfer</td>\n      <td>0.462255</td>\n    </tr>\n    <tr>\n      <th>elbow</th>\n      <td>elbow</td>\n      <td>0.384986</td>\n    </tr>\n    <tr>\n      <th>cover</th>\n      <td>cover</td>\n      <td>0.384986</td>\n    </tr>\n    <tr>\n      <th>cough</th>\n      <td>cough</td>\n      <td>0.384986</td>\n    </tr>\n    <tr>\n      <th>bent</th>\n      <td>bent</td>\n      <td>0.384986</td>\n    </tr>\n    <tr>\n      <th>sneeze</th>\n      <td>sneeze</td>\n      <td>0.384986</td>\n    </tr>\n    <tr>\n      <th>bin</th>\n      <td>bin</td>\n      <td>0.382666</td>\n    </tr>\n    <tr>\n      <th>immediately</th>\n      <td>immediately</td>\n      <td>0.382666</td>\n    </tr>\n    <tr>\n      <th>dispose</th>\n      <td>dispose</td>\n      <td>0.382666</td>\n    </tr>\n    <tr>\n      <th>closed</th>\n      <td>closed</td>\n      <td>0.382666</td>\n    </tr>\n    <tr>\n      <th>used</th>\n      <td>used</td>\n      <td>0.382666</td>\n    </tr>\n    <tr>\n      <th>based</th>\n      <td>based</td>\n      <td>0.323429</td>\n    </tr>\n    <tr>\n      <th>rub</th>\n      <td>rub</td>\n      <td>0.323429</td>\n    </tr>\n    <tr>\n      <th>soap</th>\n      <td>soap</td>\n      <td>0.323429</td>\n    </tr>\n    <tr>\n      <th>alcohol</th>\n      <td>alcohol</td>\n      <td>0.323429</td>\n    </tr>\n    <tr>\n      <th>hand</th>\n      <td>hand</td>\n      <td>0.323429</td>\n    </tr>\n    <tr>\n      <th>thoroughly</th>\n      <td>thoroughly</td>\n      <td>0.323429</td>\n    </tr>\n    <tr>\n      <th>water</th>\n      <td>water</td>\n      <td>0.323429</td>\n    </tr>\n    <tr>\n      <th>respiratory</th>\n      <td>respiratory</td>\n      <td>0.294053</td>\n    </tr>\n    <tr>\n      <th>19</th>\n      <td>19</td>\n      <td>0.294053</td>\n    </tr>\n    <tr>\n      <th>protect</th>\n      <td>protect</td>\n      <td>0.294053</td>\n    </tr>\n    <tr>\n      <th>people</th>\n      <td>people</td>\n      <td>0.294053</td>\n    </tr>\n    <tr>\n      <th>cause</th>\n      <td>cause</td>\n      <td>0.294053</td>\n    </tr>\n    <tr>\n      <th>hygiene</th>\n      <td>hygiene</td>\n      <td>0.294053</td>\n    </tr>\n    <tr>\n      <th>good</th>\n      <td>good</td>\n      <td>0.294053</td>\n    </tr>\n    <tr>\n      <th>colds</th>\n      <td>colds</td>\n      <td>0.294053</td>\n    </tr>\n    <tr>\n      <th>following</th>\n      <td>following</td>\n      <td>0.294053</td>\n    </tr>\n    <tr>\n      <th>flu</th>\n      <td>flu</td>\n      <td>0.294053</td>\n    </tr>\n    <tr>\n      <th>covid</th>\n      <td>covid</td>\n      <td>0.294053</td>\n    </tr>\n    <tr>\n      <th>door</th>\n      <td>door</td>\n      <td>0.293065</td>\n    </tr>\n    <tr>\n      <th>disinfect</th>\n      <td>disinfect</td>\n      <td>0.293065</td>\n    </tr>\n    <tr>\n      <th>faucets</th>\n      <td>faucets</td>\n      <td>0.293065</td>\n    </tr>\n    <tr>\n      <th>especially</th>\n      <td>especially</td>\n      <td>0.293065</td>\n    </tr>\n    <tr>\n      <th>touched</th>\n      <td>touched</td>\n      <td>0.293065</td>\n    </tr>\n    <tr>\n      <th>phone</th>\n      <td>phone</td>\n      <td>0.293065</td>\n    </tr>\n    <tr>\n      <th>frequently</th>\n      <td>frequently</td>\n      <td>0.293065</td>\n    </tr>\n    <tr>\n      <th>screens</th>\n      <td>screens</td>\n      <td>0.293065</td>\n    </tr>\n    <tr>\n      <th>handles</th>\n      <td>handles</td>\n      <td>0.293065</td>\n    </tr>\n  </tbody>\n</table>\n</div>"
     },
     "execution_count": 4,
     "metadata": {},
     "output_type": "execute_result"
    }
   ],
   "source": [
    "word_tfidf = pd.DataFrame({\n",
    "    'words': tfdif_vectorizer.get_feature_names_out(),\n",
    "    'tf-idf score': matrix.sum(axis=0)\n",
    "})\n",
    "# ----------!----------------!---------------!-------------\n",
    "# why are there two columns of the words and not numbers as in the original?\n",
    "# is it because I removed the flat?? But that threw an error??\n",
    "word_tfidf.sort_values(by=['tf-idf score'], ascending=False)"
   ],
   "metadata": {
    "collapsed": false,
    "pycharm": {
     "name": "#%%\n"
    }
   }
  },
  {
   "cell_type": "markdown",
   "source": [
    "## Sentiment Analysis"
   ],
   "metadata": {
    "collapsed": false,
    "pycharm": {
     "name": "#%% md\n"
    }
   }
  },
  {
   "cell_type": "code",
   "execution_count": 5,
   "outputs": [],
   "source": [
    "# encoding: just test which one works: utf-8, utf-16, euc-kr, cp949, latin_1\n",
    "imdb = pd.read_csv('../week7/imdb_dataset.csv', nrows=10000, encoding='cp949')"
   ],
   "metadata": {
    "collapsed": false,
    "pycharm": {
     "name": "#%%\n"
    }
   }
  },
  {
   "cell_type": "code",
   "execution_count": 6,
   "outputs": [],
   "source": [
    "# PREPROCESSING\n",
    "import pandas as pd\n",
    "from nltk.corpus import stopwords\n",
    "import re\n",
    "\n",
    "reviews = pd.DataFrame(imdb)\n",
    "stop_words = stopwords.words('english')\n",
    "\n",
    "def filter(review):\n",
    "    review_regexed = re.sub(r'<.*?>', '', review)\n",
    "    review_filtered = (word for word in review_regexed.split() if word not in stop_words)\n",
    "    return \" \".join(review_filtered)\n",
    "\n",
    "reviews['review processed'] = reviews['review'].apply(lambda rev: filter(rev))"
   ],
   "metadata": {
    "collapsed": false,
    "pycharm": {
     "name": "#%%\n"
    }
   }
  },
  {
   "cell_type": "code",
   "execution_count": 7,
   "outputs": [
    {
     "name": "stdout",
     "output_type": "stream",
     "text": [
      "                                                 review sentiment  \\\n",
      "0     One of the other reviewers has mentioned that ...  positive   \n",
      "1     A wonderful little production. <br /><br />The...  positive   \n",
      "2     I thought this was a wonderful way to spend ti...  positive   \n",
      "3     Basically there's a family where a little boy ...  negative   \n",
      "4     Petter Mattei's \"Love in the Time of Money\" is...  positive   \n",
      "...                                                 ...       ...   \n",
      "9995  Fun, entertaining movie about WWII German spy ...  positive   \n",
      "9996  Give me a break. How can anyone say that this ...  negative   \n",
      "9997  This movie is a bad movie. But after watching ...  negative   \n",
      "9998  This is a movie that was probably made to ente...  negative   \n",
      "9999  Smashing film about film-making. Shows the int...  positive   \n",
      "\n",
      "                                       review processed  polarity  \\\n",
      "0     One reviewers mentioned watching 1 Oz episode ...  0.041946   \n",
      "1     A wonderful little production. The filming tec...  0.125651   \n",
      "2     I thought wonderful way spend time hot summer ...  0.278571   \n",
      "3     Basically there's family little boy (Jake) thi... -0.057813   \n",
      "4     Petter Mattei's \"Love Time Money\" visually stu...  0.239534   \n",
      "...                                                 ...       ...   \n",
      "9995  Fun, entertaining movie WWII German spy (Julie...  0.267659   \n",
      "9996  Give break. How anyone say \"good hockey movie\"...  0.048831   \n",
      "9997  This movie bad movie. But watching endless ser... -0.011169   \n",
      "9998  This movie probably made entertain middle scho...  0.009250   \n",
      "9999  Smashing film film-making. Shows intense stran...  0.120536   \n",
      "\n",
      "      subjectivity  \n",
      "0         0.498325  \n",
      "1         0.567708  \n",
      "2         0.699160  \n",
      "3         0.454167  \n",
      "4         0.410045  \n",
      "...            ...  \n",
      "9995      0.515873  \n",
      "9996      0.482378  \n",
      "9997      0.583236  \n",
      "9998      0.562694  \n",
      "9999      0.531250  \n",
      "\n",
      "[10000 rows x 5 columns]\n"
     ]
    }
   ],
   "source": [
    "from textblob import TextBlob\n",
    "\n",
    "reviews['polarity'] = reviews['review processed'].apply(lambda rev: TextBlob(rev).polarity)\n",
    "reviews['subjectivity'] = reviews['review processed'].apply(lambda rev: TextBlob(rev).subjectivity)\n",
    "print(reviews)"
   ],
   "metadata": {
    "collapsed": false,
    "pycharm": {
     "name": "#%%\n"
    }
   }
  },
  {
   "cell_type": "code",
   "execution_count": 8,
   "outputs": [
    {
     "data": {
      "text/plain": "<seaborn.axisgrid.FacetGrid at 0x1be42aaeb30>"
     },
     "execution_count": 8,
     "metadata": {},
     "output_type": "execute_result"
    },
    {
     "data": {
      "text/plain": "<Figure size 500x500 with 1 Axes>",
      "image/png": "[encoded data removed]"
     },
     "metadata": {},
     "output_type": "display_data"
    }
   ],
   "source": [
    "import seaborn as sns\n",
    "%matplotlib inline\n",
    "sns.displot(reviews['polarity'])"
   ],
   "metadata": {
    "collapsed": false,
    "pycharm": {
     "name": "#%%\n"
    }
   }
  }
 ],
 "metadata": {
  "kernelspec": {
   "display_name": "Python 3 (ipykernel)",
   "language": "python",
   "name": "python3"
  },
  "language_info": {
   "codemirror_mode": {
    "name": "ipython",
    "version": 3
   },
   "file_extension": ".py",
   "mimetype": "text/x-python",
   "name": "python",
   "nbconvert_exporter": "python",
   "pygments_lexer": "ipython3",
   "version": "3.9.12"
  }
 },
 "nbformat": 4,
 "nbformat_minor": 2
}