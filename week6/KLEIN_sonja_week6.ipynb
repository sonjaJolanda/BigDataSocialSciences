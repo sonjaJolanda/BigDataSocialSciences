{
 "cells": [
  {
   "cell_type": "code",
   "execution_count": 722,
   "metadata": {
    "pycharm": {
     "name": "#%%\n"
    }
   },
   "outputs": [],
   "source": [
    "import nltk\n",
    "import pandas as pd\n",
    "import numpy as np\n",
    "import re\n",
    "from nltk.corpus import stopwords"
   ]
  },
  {
   "cell_type": "markdown",
   "metadata": {
    "pycharm": {
     "name": "#%% md\n"
    }
   },
   "source": [
    "# Bag of words"
   ]
  },
  {
   "cell_type": "code",
   "execution_count": 723,
   "metadata": {
    "pycharm": {
     "name": "#%%\n"
    }
   },
   "outputs": [],
   "source": [
    "sentences = \"\"\"\n",
    "Regularly and thoroughly clean your hands with an alcohol-based hand rub or wash them with soap and water. \n",
    "This eliminates germs including viruses that may be on your hands.\n",
    "Avoid touching your eyes, nose and mouth. \n",
    "Hands touch many surfaces and can pick up viruses. \n",
    "Once contaminated, hands can transfer the virus to your eyes, nose or mouth. \n",
    "From there, the virus can enter your body and infect you.\n",
    "Cover your mouth and nose with your bent elbow or tissue when you cough or sneeze. \n",
    "Then dispose of the used tissue immediately into a closed bin and wash your hands.\n",
    "By following good ‘respiratory hygiene’, you protect the people around you from viruses, which cause colds, flu and COVID-19.\n",
    "Clean and disinfect surfaces frequently especially those which are regularly touched, \n",
    "such as door handles, faucets and phone screens or mouth. \n",
    "From there, the virus can enter your body and infect you.\n",
    "\"\"\""
   ]
  },
  {
   "cell_type": "code",
   "execution_count": 724,
   "metadata": {
    "pycharm": {
     "name": "#%%\n"
    }
   },
   "outputs": [],
   "source": [
    "tokenized_sent = nltk.sent_tokenize(sentences)"
   ]
  },
  {
   "cell_type": "code",
   "execution_count": 725,
   "metadata": {
    "pycharm": {
     "name": "#%%\n"
    }
   },
   "outputs": [],
   "source": [
    "from sklearn.feature_extraction.text import CountVectorizer\n",
    "\n",
    "vectorizer = CountVectorizer()"
   ]
  },
  {
   "cell_type": "markdown",
   "metadata": {
    "pycharm": {
     "name": "#%% md\n"
    }
   },
   "source": [
    "### Let's try vectorizer.fit first!"
   ]
  },
  {
   "cell_type": "code",
   "execution_count": 726,
   "metadata": {
    "pycharm": {
     "name": "#%%\n"
    }
   },
   "outputs": [],
   "source": [
    "X = vectorizer.fit(tokenized_sent)"
   ]
  },
  {
   "cell_type": "code",
   "execution_count": 727,
   "metadata": {
    "pycharm": {
     "name": "#%%\n"
    }
   },
   "outputs": [
    {
     "name": "stdout",
     "output_type": "stream",
     "text": [
      "{'regularly': 58, 'and': 3, 'thoroughly': 72, 'clean': 16, 'your': 90, 'hands': 40, 'with': 88, 'an': 2, 'alcohol': 1, 'based': 8, 'hand': 38, 'rub': 60, 'or': 53, 'wash': 84, 'them': 68, 'soap': 63, 'water': 85, 'this': 71, 'eliminates': 27, 'germs': 36, 'including': 43, 'viruses': 83, 'that': 66, 'may': 47, 'be': 9, 'on': 51, 'avoid': 7, 'touching': 78, 'eyes': 30, 'nose': 49, 'mouth': 48, 'touch': 76, 'many': 46, 'surfaces': 65, 'can': 14, 'pick': 56, 'up': 80, 'once': 52, 'contaminated': 19, 'transfer': 79, 'the': 67, 'virus': 82, 'to': 75, 'from': 35, 'there': 70, 'enter': 28, 'body': 12, 'infect': 44, 'you': 89, 'cover': 21, 'bent': 10, 'elbow': 26, 'tissue': 74, 'when': 86, 'cough': 20, 'sneeze': 62, 'then': 69, 'dispose': 24, 'of': 50, 'used': 81, 'immediately': 42, 'into': 45, 'closed': 17, 'bin': 11, 'by': 13, 'following': 33, 'good': 37, 'respiratory': 59, 'hygiene': 41, 'protect': 57, 'people': 54, 'around': 5, 'which': 87, 'cause': 15, 'colds': 18, 'flu': 32, 'covid': 22, '19': 0, 'disinfect': 23, 'frequently': 34, 'especially': 29, 'those': 73, 'are': 4, 'touched': 77, 'such': 64, 'as': 6, 'door': 25, 'handles': 39, 'faucets': 31, 'phone': 55, 'screens': 61}\n"
     ]
    }
   ],
   "source": [
    "print(X.vocabulary_)  #what was the underscore at the end for again? -> look up later"
   ]
  },
  {
   "cell_type": "code",
   "execution_count": 728,
   "metadata": {
    "pycharm": {
     "name": "#%%\n"
    }
   },
   "outputs": [],
   "source": [
    "vectorizer = CountVectorizer(lowercase=False)"
   ]
  },
  {
   "cell_type": "code",
   "execution_count": 729,
   "metadata": {
    "pycharm": {
     "name": "#%%\n"
    }
   },
   "outputs": [],
   "source": [
    "X = vectorizer.fit(tokenized_sent)"
   ]
  },
  {
   "cell_type": "code",
   "execution_count": 730,
   "metadata": {
    "pycharm": {
     "name": "#%%\n"
    }
   },
   "outputs": [
    {
     "name": "stdout",
     "output_type": "stream",
     "text": [
      "{'Regularly': 9, 'and': 14, 'thoroughly': 76, 'clean': 25, 'your': 94, 'hands': 47, 'with': 92, 'an': 13, 'alcohol': 12, 'based': 18, 'hand': 45, 'rub': 66, 'or': 59, 'wash': 88, 'them': 74, 'soap': 69, 'water': 89, 'This': 11, 'eliminates': 34, 'germs': 43, 'including': 50, 'viruses': 87, 'that': 72, 'may': 54, 'be': 19, 'on': 58, 'Avoid': 1, 'touching': 82, 'eyes': 37, 'nose': 56, 'mouth': 55, 'Hands': 7, 'touch': 80, 'many': 53, 'surfaces': 71, 'can': 23, 'pick': 62, 'up': 84, 'Once': 8, 'contaminated': 28, 'transfer': 83, 'the': 73, 'virus': 86, 'to': 79, 'From': 6, 'there': 75, 'enter': 35, 'body': 22, 'infect': 51, 'you': 93, 'Cover': 5, 'bent': 20, 'elbow': 33, 'tissue': 78, 'when': 90, 'cough': 29, 'sneeze': 68, 'Then': 10, 'dispose': 31, 'of': 57, 'used': 85, 'immediately': 49, 'into': 52, 'closed': 26, 'bin': 21, 'By': 2, 'following': 40, 'good': 44, 'respiratory': 65, 'hygiene': 48, 'protect': 63, 'people': 60, 'around': 16, 'from': 42, 'which': 91, 'cause': 24, 'colds': 27, 'flu': 39, 'COVID': 3, '19': 0, 'Clean': 4, 'disinfect': 30, 'frequently': 41, 'especially': 36, 'those': 77, 'are': 15, 'regularly': 64, 'touched': 81, 'such': 70, 'as': 17, 'door': 32, 'handles': 46, 'faucets': 38, 'phone': 61, 'screens': 67}\n"
     ]
    }
   ],
   "source": [
    "print(X.vocabulary_)"
   ]
  },
  {
   "cell_type": "code",
   "execution_count": 731,
   "metadata": {
    "pycharm": {
     "name": "#%%\n"
    }
   },
   "outputs": [
    {
     "name": "stdout",
     "output_type": "stream",
     "text": [
      "{'regularly': 42, 'thoroughly': 49, 'clean': 8, 'hands': 31, 'alcohol': 1, 'based': 3, 'hand': 29, 'rub': 44, 'wash': 58, 'soap': 47, 'water': 59, 'eliminates': 19, 'germs': 27, 'including': 34, 'viruses': 57, 'avoid': 2, 'touching': 53, 'eyes': 22, 'nose': 37, 'mouth': 36, 'touch': 51, 'surfaces': 48, 'pick': 40, 'contaminated': 11, 'transfer': 54, 'virus': 56, 'enter': 20, 'body': 6, 'infect': 35, 'cover': 13, 'bent': 4, 'elbow': 18, 'tissue': 50, 'cough': 12, 'sneeze': 46, 'dispose': 16, 'used': 55, 'immediately': 33, 'closed': 9, 'bin': 5, 'following': 25, 'good': 28, 'respiratory': 43, 'hygiene': 32, 'protect': 41, 'people': 38, 'cause': 7, 'colds': 10, 'flu': 24, 'covid': 14, '19': 0, 'disinfect': 15, 'frequently': 26, 'especially': 21, 'touched': 52, 'door': 17, 'handles': 30, 'faucets': 23, 'phone': 39, 'screens': 45}\n"
     ]
    }
   ],
   "source": [
    "vectorizer = CountVectorizer(stop_words='english')\n",
    "# these stopwords are different from the stopwords used previously -> each library can define their own\n",
    "x = vectorizer.fit(tokenized_sent)\n",
    "print(x.vocabulary_)"
   ]
  },
  {
   "cell_type": "code",
   "execution_count": 732,
   "outputs": [
    {
     "name": "stdout",
     "output_type": "stream",
     "text": [
      "frozenset({'afterwards', 'anything', 'thick', 'third', 'why', 'often', 'when', 'myself', 'very', 'elsewhere', 'from', 'onto', 'none', 'again', 'enough', 'cant', 'though', 'also', 'with', 'itself', 'thereby', 'thus', 'indeed', 'might', 'and', 'anyone', 'by', 'whenever', 'wherever', 'mine', 'which', 'the', 'whatever', 'whom', 'behind', 'or', 'this', 'has', 'never', 'while', 'under', 'a', 'beyond', 'on', 'first', 'into', 'back', 'thru', 'above', 'i', 'each', 'con', 'besides', 'eleven', 'could', 'herself', 'alone', 'although', 'hasnt', 'bill', 'call', 'per', 'since', 'well', 'her', 'thereupon', 'being', 'even', 'yourself', 'take', 'than', 'bottom', 'that', 'made', 'everything', 'had', 'be', 'his', 'anyway', 'hereafter', 'top', 'fifty', 'everywhere', 'such', 'hers', 'once', 'to', 'seem', 'an', 'amongst', 'in', 'therefore', 'thin', 'during', 'becomes', 'meanwhile', 'after', 'latterly', 'there', 'please', 'whereby', 'move', 'most', 'some', 'beforehand', 'only', 'de', 'its', 'seemed', 'nine', 'nor', 'should', 'inc', 'before', 'whoever', 'no', 'thereafter', 'as', 'it', 'down', 'name', 'for', 'seems', 'neither', 'sometimes', 'sincere', 'hereby', 'hereupon', 'nevertheless', 'do', 'until', 'already', 'serious', 'if', 'whether', 'via', 'show', 'last', 'further', 'mostly', 'latter', 'me', 'system', 'are', 'whereupon', 'whence', 'rather', 'twelve', 'how', 'but', 'much', 'am', 'else', 'upon', 'not', 'front', 'around', 'too', 'ie', 'few', 'wherein', 'found', 'nobody', 'thence', 'sixty', 'next', 'seeming', 'otherwise', 'through', 'one', 'hence', 'full', 'least', 'we', 'throughout', 'were', 'four', 'others', 'whereafter', 'was', 'sometime', 'cry', 'other', 'always', 'whose', 'two', 'anywhere', 'un', 'both', 'over', 'someone', 'something', 'detail', 'ten', 'somehow', 'them', 'somewhere', 'five', 'of', 'what', 'fifteen', 'at', 'perhaps', 'becoming', 'either', 'put', 'himself', 'hundred', 'done', 'eight', 'amount', 'every', 'toward', 'he', 'where', 'together', 'co', 'below', 'him', 'out', 'six', 'become', 'may', 'because', 'became', 'amoungst', 'moreover', 'nothing', 'fire', 'against', 'same', 'whereas', 'formerly', 'namely', 'without', 'noone', 'another', 'forty', 'except', 'several', 'our', 'here', 'between', 'get', 'part', 'your', 'cannot', 'among', 'empty', 'beside', 'fill', 'who', 'will', 'been', 'yet', 'have', 'former', 'due', 'keep', 'is', 'less', 'find', 'three', 'ours', 'twenty', 'they', 'their', 'eg', 'would', 'whither', 'towards', 'can', 'almost', 'yourselves', 'couldnt', 'us', 'she', 'etc', 'describe', 'along', 'see', 'themselves', 'you', 'off', 'whole', 'interest', 'these', 'however', 'must', 'go', 'those', 'everyone', 'still', 'across', 'ever', 'so', 'mill', 'own', 'now', 'within', 'side', 'herein', 'give', 'then', 'more', 'my', 'yours', 'ourselves', 'up', 'about', 'many', 'all', 'anyhow', 'nowhere', 'any', 'ltd', 'therein', 're'})\n"
     ]
    },
    {
     "data": {
      "text/plain": "8"
     },
     "execution_count": 732,
     "metadata": {},
     "output_type": "execute_result"
    }
   ],
   "source": [
    "sw = vectorizer.get_stop_words()  # to see the stopwords of the library\n",
    "print(sw)\n",
    "x.vocabulary_.get('clean')"
   ],
   "metadata": {
    "collapsed": false,
    "pycharm": {
     "name": "#%%\n"
    }
   }
  },
  {
   "cell_type": "markdown",
   "metadata": {
    "pycharm": {
     "name": "#%% md\n"
    }
   },
   "source": [
    "### Now let's try using fit_transform "
   ]
  },
  {
   "cell_type": "code",
   "execution_count": 733,
   "metadata": {
    "pycharm": {
     "name": "#%%\n"
    }
   },
   "outputs": [
    {
     "name": "stdout",
     "output_type": "stream",
     "text": [
      "[[0 1 0 1 0 0 0 0 1 0 0 0 0 0 0 0 0 0 0 0 0 0 0 0 0 0 0 0 0 1 0 1 0 0 0 0\n",
      "  0 0 0 0 0 0 1 0 1 0 0 1 0 1 0 0 0 0 0 0 0 0 1 1]\n",
      " [0 0 0 0 0 0 0 0 0 0 0 0 0 0 0 0 0 0 0 1 0 0 0 0 0 0 0 1 0 0 0 1 0 0 1 0\n",
      "  0 0 0 0 0 0 0 0 0 0 0 0 0 0 0 0 0 0 0 0 0 1 0 0]\n",
      " [0 0 1 0 0 0 0 0 0 0 0 0 0 0 0 0 0 0 0 0 0 0 1 0 0 0 0 0 0 0 0 0 0 0 0 0\n",
      "  1 1 0 0 0 0 0 0 0 0 0 0 0 0 0 0 0 1 0 0 0 0 0 0]\n",
      " [0 0 0 0 0 0 0 0 0 0 0 0 0 0 0 0 0 0 0 0 0 0 0 0 0 0 0 0 0 0 0 1 0 0 0 0\n",
      "  0 0 0 0 1 0 0 0 0 0 0 0 1 0 0 1 0 0 0 0 0 1 0 0]\n",
      " [0 0 0 0 0 0 0 0 0 0 0 1 0 0 0 0 0 0 0 0 0 0 1 0 0 0 0 0 0 0 0 1 0 0 0 0\n",
      "  1 1 0 0 0 0 0 0 0 0 0 0 0 0 0 0 0 0 1 0 1 0 0 0]\n",
      " [0 0 0 0 0 0 1 0 0 0 0 0 0 0 0 0 0 0 0 0 1 0 0 0 0 0 0 0 0 0 0 0 0 0 0 1\n",
      "  0 0 0 0 0 0 0 0 0 0 0 0 0 0 0 0 0 0 0 0 1 0 0 0]\n",
      " [0 0 0 0 1 0 0 0 0 0 0 0 1 1 0 0 0 0 1 0 0 0 0 0 0 0 0 0 0 0 0 0 0 0 0 0\n",
      "  1 1 0 0 0 0 0 0 0 0 1 0 0 0 1 0 0 0 0 0 0 0 0 0]\n",
      " [0 0 0 0 0 1 0 0 0 1 0 0 0 0 0 0 1 0 0 0 0 0 0 0 0 0 0 0 0 0 0 1 0 1 0 0\n",
      "  0 0 0 0 0 0 0 0 0 0 0 0 0 0 1 0 0 0 0 1 0 0 1 0]\n",
      " [1 0 0 0 0 0 0 1 0 0 1 0 0 0 1 0 0 0 0 0 0 0 0 0 1 1 0 0 1 0 0 0 1 0 0 0\n",
      "  0 0 1 0 0 1 0 1 0 0 0 0 0 0 0 0 0 0 0 0 0 1 0 0]\n",
      " [0 0 0 0 0 0 0 0 1 0 0 0 0 0 0 1 0 1 0 0 0 1 0 1 0 0 1 0 0 0 1 0 0 0 0 0\n",
      "  1 0 0 1 0 0 1 0 0 1 0 0 1 0 0 0 1 0 0 0 0 0 0 0]\n",
      " [0 0 0 0 0 0 1 0 0 0 0 0 0 0 0 0 0 0 0 0 1 0 0 0 0 0 0 0 0 0 0 0 0 0 0 1\n",
      "  0 0 0 0 0 0 0 0 0 0 0 0 0 0 0 0 0 0 0 0 1 0 0 0]]\n"
     ]
    }
   ],
   "source": [
    "ft = vectorizer.fit_transform(tokenized_sent)\n",
    "count_array = ft.toarray()\n",
    "print(count_array)"
   ]
  },
  {
   "cell_type": "code",
   "execution_count": 734,
   "outputs": [
    {
     "name": "stdout",
     "output_type": "stream",
     "text": [
      "(11, 60)\n"
     ]
    }
   ],
   "source": [
    "print(count_array.shape)  #There are eleven sentences, and there are 60 unique words in these sentences"
   ],
   "metadata": {
    "collapsed": false,
    "pycharm": {
     "name": "#%%\n"
    }
   }
  },
  {
   "cell_type": "code",
   "execution_count": 735,
   "metadata": {
    "pycharm": {
     "name": "#%%\n"
    }
   },
   "outputs": [
    {
     "data": {
      "text/plain": "array(['19', 'alcohol', 'avoid', 'based', 'bent', 'bin', 'body', 'cause',\n       'clean', 'closed', 'colds', 'contaminated', 'cough', 'cover',\n       'covid', 'disinfect', 'dispose', 'door', 'elbow', 'eliminates',\n       'enter', 'especially', 'eyes', 'faucets', 'flu', 'following',\n       'frequently', 'germs', 'good', 'hand', 'handles', 'hands',\n       'hygiene', 'immediately', 'including', 'infect', 'mouth', 'nose',\n       'people', 'phone', 'pick', 'protect', 'regularly', 'respiratory',\n       'rub', 'screens', 'sneeze', 'soap', 'surfaces', 'thoroughly',\n       'tissue', 'touch', 'touched', 'touching', 'transfer', 'used',\n       'virus', 'viruses', 'wash', 'water'], dtype=object)"
     },
     "execution_count": 735,
     "metadata": {},
     "output_type": "execute_result"
    }
   ],
   "source": [
    "count_token = vectorizer.get_feature_names_out()\n",
    "count_token"
   ]
  },
  {
   "cell_type": "code",
   "execution_count": 736,
   "metadata": {
    "pycharm": {
     "name": "#%%\n"
    }
   },
   "outputs": [
    {
     "data": {
      "text/plain": "    19  alcohol  avoid  based  bent  bin  body  cause  clean  closed  ...  \\\n0    0        1      0      1     0    0     0      0      1       0  ...   \n1    0        0      0      0     0    0     0      0      0       0  ...   \n2    0        0      1      0     0    0     0      0      0       0  ...   \n3    0        0      0      0     0    0     0      0      0       0  ...   \n4    0        0      0      0     0    0     0      0      0       0  ...   \n5    0        0      0      0     0    0     1      0      0       0  ...   \n6    0        0      0      0     1    0     0      0      0       0  ...   \n7    0        0      0      0     0    1     0      0      0       1  ...   \n8    1        0      0      0     0    0     0      1      0       0  ...   \n9    0        0      0      0     0    0     0      0      1       0  ...   \n10   0        0      0      0     0    0     1      0      0       0  ...   \n\n    tissue  touch  touched  touching  transfer  used  virus  viruses  wash  \\\n0        0      0        0         0         0     0      0        0     1   \n1        0      0        0         0         0     0      0        1     0   \n2        0      0        0         1         0     0      0        0     0   \n3        0      1        0         0         0     0      0        1     0   \n4        0      0        0         0         1     0      1        0     0   \n5        0      0        0         0         0     0      1        0     0   \n6        1      0        0         0         0     0      0        0     0   \n7        1      0        0         0         0     1      0        0     1   \n8        0      0        0         0         0     0      0        1     0   \n9        0      0        1         0         0     0      0        0     0   \n10       0      0        0         0         0     0      1        0     0   \n\n    water  \n0       1  \n1       0  \n2       0  \n3       0  \n4       0  \n5       0  \n6       0  \n7       0  \n8       0  \n9       0  \n10      0  \n\n[11 rows x 60 columns]",
      "text/html": "<div>\n<style scoped>\n    .dataframe tbody tr th:only-of-type {\n        vertical-align: middle;\n    }\n\n    .dataframe tbody tr th {\n        vertical-align: top;\n    }\n\n    .dataframe thead th {\n        text-align: right;\n    }\n</style>\n<table border=\"1\" class=\"dataframe\">\n  <thead>\n    <tr style=\"text-align: right;\">\n      <th></th>\n      <th>19</th>\n      <th>alcohol</th>\n      <th>avoid</th>\n      <th>based</th>\n      <th>bent</th>\n      <th>bin</th>\n      <th>body</th>\n      <th>cause</th>\n      <th>clean</th>\n      <th>closed</th>\n      <th>...</th>\n      <th>tissue</th>\n      <th>touch</th>\n      <th>touched</th>\n      <th>touching</th>\n      <th>transfer</th>\n      <th>used</th>\n      <th>virus</th>\n      <th>viruses</th>\n      <th>wash</th>\n      <th>water</th>\n    </tr>\n  </thead>\n  <tbody>\n    <tr>\n      <th>0</th>\n      <td>0</td>\n      <td>1</td>\n      <td>0</td>\n      <td>1</td>\n      <td>0</td>\n      <td>0</td>\n      <td>0</td>\n      <td>0</td>\n      <td>1</td>\n      <td>0</td>\n      <td>...</td>\n      <td>0</td>\n      <td>0</td>\n      <td>0</td>\n      <td>0</td>\n      <td>0</td>\n      <td>0</td>\n      <td>0</td>\n      <td>0</td>\n      <td>1</td>\n      <td>1</td>\n    </tr>\n    <tr>\n      <th>1</th>\n      <td>0</td>\n      <td>0</td>\n      <td>0</td>\n      <td>0</td>\n      <td>0</td>\n      <td>0</td>\n      <td>0</td>\n      <td>0</td>\n      <td>0</td>\n      <td>0</td>\n      <td>...</td>\n      <td>0</td>\n      <td>0</td>\n      <td>0</td>\n      <td>0</td>\n      <td>0</td>\n      <td>0</td>\n      <td>0</td>\n      <td>1</td>\n      <td>0</td>\n      <td>0</td>\n    </tr>\n    <tr>\n      <th>2</th>\n      <td>0</td>\n      <td>0</td>\n      <td>1</td>\n      <td>0</td>\n      <td>0</td>\n      <td>0</td>\n      <td>0</td>\n      <td>0</td>\n      <td>0</td>\n      <td>0</td>\n      <td>...</td>\n      <td>0</td>\n      <td>0</td>\n      <td>0</td>\n      <td>1</td>\n      <td>0</td>\n      <td>0</td>\n      <td>0</td>\n      <td>0</td>\n      <td>0</td>\n      <td>0</td>\n    </tr>\n    <tr>\n      <th>3</th>\n      <td>0</td>\n      <td>0</td>\n      <td>0</td>\n      <td>0</td>\n      <td>0</td>\n      <td>0</td>\n      <td>0</td>\n      <td>0</td>\n      <td>0</td>\n      <td>0</td>\n      <td>...</td>\n      <td>0</td>\n      <td>1</td>\n      <td>0</td>\n      <td>0</td>\n      <td>0</td>\n      <td>0</td>\n      <td>0</td>\n      <td>1</td>\n      <td>0</td>\n      <td>0</td>\n    </tr>\n    <tr>\n      <th>4</th>\n      <td>0</td>\n      <td>0</td>\n      <td>0</td>\n      <td>0</td>\n      <td>0</td>\n      <td>0</td>\n      <td>0</td>\n      <td>0</td>\n      <td>0</td>\n      <td>0</td>\n      <td>...</td>\n      <td>0</td>\n      <td>0</td>\n      <td>0</td>\n      <td>0</td>\n      <td>1</td>\n      <td>0</td>\n      <td>1</td>\n      <td>0</td>\n      <td>0</td>\n      <td>0</td>\n    </tr>\n    <tr>\n      <th>5</th>\n      <td>0</td>\n      <td>0</td>\n      <td>0</td>\n      <td>0</td>\n      <td>0</td>\n      <td>0</td>\n      <td>1</td>\n      <td>0</td>\n      <td>0</td>\n      <td>0</td>\n      <td>...</td>\n      <td>0</td>\n      <td>0</td>\n      <td>0</td>\n      <td>0</td>\n      <td>0</td>\n      <td>0</td>\n      <td>1</td>\n      <td>0</td>\n      <td>0</td>\n      <td>0</td>\n    </tr>\n    <tr>\n      <th>6</th>\n      <td>0</td>\n      <td>0</td>\n      <td>0</td>\n      <td>0</td>\n      <td>1</td>\n      <td>0</td>\n      <td>0</td>\n      <td>0</td>\n      <td>0</td>\n      <td>0</td>\n      <td>...</td>\n      <td>1</td>\n      <td>0</td>\n      <td>0</td>\n      <td>0</td>\n      <td>0</td>\n      <td>0</td>\n      <td>0</td>\n      <td>0</td>\n      <td>0</td>\n      <td>0</td>\n    </tr>\n    <tr>\n      <th>7</th>\n      <td>0</td>\n      <td>0</td>\n      <td>0</td>\n      <td>0</td>\n      <td>0</td>\n      <td>1</td>\n      <td>0</td>\n      <td>0</td>\n      <td>0</td>\n      <td>1</td>\n      <td>...</td>\n      <td>1</td>\n      <td>0</td>\n      <td>0</td>\n      <td>0</td>\n      <td>0</td>\n      <td>1</td>\n      <td>0</td>\n      <td>0</td>\n      <td>1</td>\n      <td>0</td>\n    </tr>\n    <tr>\n      <th>8</th>\n      <td>1</td>\n      <td>0</td>\n      <td>0</td>\n      <td>0</td>\n      <td>0</td>\n      <td>0</td>\n      <td>0</td>\n      <td>1</td>\n      <td>0</td>\n      <td>0</td>\n      <td>...</td>\n      <td>0</td>\n      <td>0</td>\n      <td>0</td>\n      <td>0</td>\n      <td>0</td>\n      <td>0</td>\n      <td>0</td>\n      <td>1</td>\n      <td>0</td>\n      <td>0</td>\n    </tr>\n    <tr>\n      <th>9</th>\n      <td>0</td>\n      <td>0</td>\n      <td>0</td>\n      <td>0</td>\n      <td>0</td>\n      <td>0</td>\n      <td>0</td>\n      <td>0</td>\n      <td>1</td>\n      <td>0</td>\n      <td>...</td>\n      <td>0</td>\n      <td>0</td>\n      <td>1</td>\n      <td>0</td>\n      <td>0</td>\n      <td>0</td>\n      <td>0</td>\n      <td>0</td>\n      <td>0</td>\n      <td>0</td>\n    </tr>\n    <tr>\n      <th>10</th>\n      <td>0</td>\n      <td>0</td>\n      <td>0</td>\n      <td>0</td>\n      <td>0</td>\n      <td>0</td>\n      <td>1</td>\n      <td>0</td>\n      <td>0</td>\n      <td>0</td>\n      <td>...</td>\n      <td>0</td>\n      <td>0</td>\n      <td>0</td>\n      <td>0</td>\n      <td>0</td>\n      <td>0</td>\n      <td>1</td>\n      <td>0</td>\n      <td>0</td>\n      <td>0</td>\n    </tr>\n  </tbody>\n</table>\n<p>11 rows × 60 columns</p>\n</div>"
     },
     "execution_count": 736,
     "metadata": {},
     "output_type": "execute_result"
    }
   ],
   "source": [
    "df_countvect = pd.DataFrame(data=count_array, columns=count_token)\n",
    "df_countvect"
   ]
  },
  {
   "cell_type": "code",
   "execution_count": 736,
   "metadata": {
    "pycharm": {
     "name": "#%%\n"
    }
   },
   "outputs": [],
   "source": []
  },
  {
   "cell_type": "markdown",
   "metadata": {
    "pycharm": {
     "name": "#%% md\n"
    }
   },
   "source": [
    "# TF-IDF"
   ]
  },
  {
   "cell_type": "code",
   "execution_count": 737,
   "metadata": {
    "pycharm": {
     "name": "#%%\n"
    }
   },
   "outputs": [],
   "source": [
    "from sklearn.feature_extraction.text import TfidfVectorizer\n",
    "\n",
    "tfidf = TfidfVectorizer(stop_words='english')"
   ]
  },
  {
   "cell_type": "code",
   "execution_count": 738,
   "metadata": {
    "pycharm": {
     "name": "#%%\n"
    }
   },
   "outputs": [],
   "source": [
    "tf_results = tfidf.fit_transform(tokenized_sent)"
   ]
  },
  {
   "cell_type": "code",
   "execution_count": 739,
   "metadata": {
    "pycharm": {
     "name": "#%%\n"
    }
   },
   "outputs": [
    {
     "name": "stdout",
     "output_type": "stream",
     "text": [
      "  (0, 59)\t0.32342851335481093\n",
      "  (0, 47)\t0.32342851335481093\n",
      "  (0, 58)\t0.2764549188964988\n",
      "  (0, 44)\t0.32342851335481093\n",
      "  (0, 29)\t0.32342851335481093\n",
      "  (0, 3)\t0.32342851335481093\n",
      "  (0, 1)\t0.32342851335481093\n",
      "  (0, 31)\t0.19615302877465016\n",
      "  (0, 8)\t0.2764549188964988\n",
      "  (0, 49)\t0.32342851335481093\n",
      "  (0, 42)\t0.2764549188964988\n",
      "  (1, 57)\t0.37905127306420955\n",
      "  (1, 34)\t0.5042474908843493\n",
      "  (1, 27)\t0.5042474908843493\n",
      "  (1, 19)\t0.5042474908843493\n",
      "  (1, 31)\t0.30581618040730996\n",
      "  (2, 36)\t0.3470484847704349\n",
      "  (2, 37)\t0.38834036547603\n",
      "  (2, 22)\t0.4415748584598335\n",
      "  (2, 53)\t0.5166046622595787\n",
      "  (2, 2)\t0.5166046622595787\n",
      "  (3, 40)\t0.522457395792605\n",
      "  (3, 48)\t0.44657756201683435\n",
      "  (3, 51)\t0.522457395792605\n",
      "  (3, 57)\t0.3927399631670536\n",
      "  :\t:\n",
      "  (8, 7)\t0.2940530688462984\n",
      "  (8, 38)\t0.2940530688462984\n",
      "  (8, 41)\t0.2940530688462984\n",
      "  (8, 32)\t0.2940530688462984\n",
      "  (8, 43)\t0.2940530688462984\n",
      "  (8, 28)\t0.2940530688462984\n",
      "  (8, 25)\t0.2940530688462984\n",
      "  (8, 57)\t0.22104461025506822\n",
      "  (9, 45)\t0.29306540472524506\n",
      "  (9, 39)\t0.29306540472524506\n",
      "  (9, 23)\t0.29306540472524506\n",
      "  (9, 30)\t0.29306540472524506\n",
      "  (9, 17)\t0.29306540472524506\n",
      "  (9, 52)\t0.29306540472524506\n",
      "  (9, 21)\t0.29306540472524506\n",
      "  (9, 26)\t0.29306540472524506\n",
      "  (9, 15)\t0.29306540472524506\n",
      "  (9, 48)\t0.25050163899991873\n",
      "  (9, 36)\t0.19687763599281127\n",
      "  (9, 8)\t0.25050163899991873\n",
      "  (9, 42)\t0.25050163899991873\n",
      "  (10, 35)\t0.5147926345442628\n",
      "  (10, 6)\t0.5147926345442628\n",
      "  (10, 20)\t0.5147926345442628\n",
      "  (10, 56)\t0.45273130028409897\n"
     ]
    }
   ],
   "source": [
    "print(tf_results)"
   ]
  },
  {
   "cell_type": "code",
   "execution_count": 740,
   "metadata": {
    "pycharm": {
     "name": "#%%\n"
    }
   },
   "outputs": [
    {
     "name": "stdout",
     "output_type": "stream",
     "text": [
      "['19' 'alcohol' 'avoid' 'based' 'bent' 'bin' 'body' 'cause' 'clean'\n",
      " 'closed' 'colds' 'contaminated' 'cough' 'cover' 'covid' 'disinfect'\n",
      " 'dispose' 'door' 'elbow' 'eliminates' 'enter' 'especially' 'eyes'\n",
      " 'faucets' 'flu' 'following' 'frequently' 'germs' 'good' 'hand' 'handles'\n",
      " 'hands' 'hygiene' 'immediately' 'including' 'infect' 'mouth' 'nose'\n",
      " 'people' 'phone' 'pick' 'protect' 'regularly' 'respiratory' 'rub'\n",
      " 'screens' 'sneeze' 'soap' 'surfaces' 'thoroughly' 'tissue' 'touch'\n",
      " 'touched' 'touching' 'transfer' 'used' 'virus' 'viruses' 'wash' 'water']\n"
     ]
    }
   ],
   "source": [
    "print(tfidf.get_feature_names_out())"
   ]
  },
  {
   "cell_type": "code",
   "execution_count": 741,
   "metadata": {
    "pycharm": {
     "name": "#%%\n"
    }
   },
   "outputs": [],
   "source": [
    "tfidf_token = tfidf.get_feature_names_out()"
   ]
  },
  {
   "cell_type": "code",
   "execution_count": 742,
   "metadata": {
    "pycharm": {
     "name": "#%%\n"
    }
   },
   "outputs": [
    {
     "name": "stdout",
     "output_type": "stream",
     "text": [
      "          19   alcohol     avoid     based      bent       bin      body  \\\n",
      "0   0.000000  0.323429  0.000000  0.323429  0.000000  0.000000  0.000000   \n",
      "1   0.000000  0.000000  0.000000  0.000000  0.000000  0.000000  0.000000   \n",
      "2   0.000000  0.000000  0.516605  0.000000  0.000000  0.000000  0.000000   \n",
      "3   0.000000  0.000000  0.000000  0.000000  0.000000  0.000000  0.000000   \n",
      "4   0.000000  0.000000  0.000000  0.000000  0.000000  0.000000  0.000000   \n",
      "5   0.000000  0.000000  0.000000  0.000000  0.000000  0.000000  0.514793   \n",
      "6   0.000000  0.000000  0.000000  0.000000  0.384986  0.000000  0.000000   \n",
      "7   0.000000  0.000000  0.000000  0.000000  0.000000  0.382666  0.000000   \n",
      "8   0.294053  0.000000  0.000000  0.000000  0.000000  0.000000  0.000000   \n",
      "9   0.000000  0.000000  0.000000  0.000000  0.000000  0.000000  0.000000   \n",
      "10  0.000000  0.000000  0.000000  0.000000  0.000000  0.000000  0.514793   \n",
      "\n",
      "       cause     clean    closed  ...    tissue     touch   touched  touching  \\\n",
      "0   0.000000  0.276455  0.000000  ...  0.000000  0.000000  0.000000  0.000000   \n",
      "1   0.000000  0.000000  0.000000  ...  0.000000  0.000000  0.000000  0.000000   \n",
      "2   0.000000  0.000000  0.000000  ...  0.000000  0.000000  0.000000  0.516605   \n",
      "3   0.000000  0.000000  0.000000  ...  0.000000  0.522457  0.000000  0.000000   \n",
      "4   0.000000  0.000000  0.000000  ...  0.000000  0.000000  0.000000  0.000000   \n",
      "5   0.000000  0.000000  0.000000  ...  0.000000  0.000000  0.000000  0.000000   \n",
      "6   0.000000  0.000000  0.000000  ...  0.329072  0.000000  0.000000  0.000000   \n",
      "7   0.000000  0.000000  0.382666  ...  0.327089  0.000000  0.000000  0.000000   \n",
      "8   0.294053  0.000000  0.000000  ...  0.000000  0.000000  0.000000  0.000000   \n",
      "9   0.000000  0.250502  0.000000  ...  0.000000  0.000000  0.293065  0.000000   \n",
      "10  0.000000  0.000000  0.000000  ...  0.000000  0.000000  0.000000  0.000000   \n",
      "\n",
      "    transfer      used     virus   viruses      wash     water  \n",
      "0   0.000000  0.000000  0.000000  0.000000  0.276455  0.323429  \n",
      "1   0.000000  0.000000  0.000000  0.379051  0.000000  0.000000  \n",
      "2   0.000000  0.000000  0.000000  0.000000  0.000000  0.000000  \n",
      "3   0.000000  0.000000  0.000000  0.392740  0.000000  0.000000  \n",
      "4   0.462255  0.000000  0.347485  0.000000  0.000000  0.000000  \n",
      "5   0.000000  0.000000  0.452731  0.000000  0.000000  0.000000  \n",
      "6   0.000000  0.000000  0.000000  0.000000  0.000000  0.000000  \n",
      "7   0.000000  0.382666  0.000000  0.000000  0.327089  0.000000  \n",
      "8   0.000000  0.000000  0.000000  0.221045  0.000000  0.000000  \n",
      "9   0.000000  0.000000  0.000000  0.000000  0.000000  0.000000  \n",
      "10  0.000000  0.000000  0.452731  0.000000  0.000000  0.000000  \n",
      "\n",
      "[11 rows x 60 columns]\n"
     ]
    }
   ],
   "source": [
    "df_tfidfvect = pd.DataFrame(data=tf_results.toarray(), columns=tfidf_token)\n",
    "print(df_tfidfvect)"
   ]
  },
  {
   "cell_type": "code",
   "execution_count": 743,
   "metadata": {
    "pycharm": {
     "name": "#%%\n"
    }
   },
   "outputs": [],
   "source": [
    "# think about why we need the .flat again!\n",
    "word_count = pd.DataFrame({\n",
    "    'words': tfidf_token,\n",
    "    'tf-idf score': tf_results.sum(axis=0).flat\n",
    "})"
   ]
  },
  {
   "cell_type": "code",
   "execution_count": 744,
   "metadata": {
    "pycharm": {
     "name": "#%%\n"
    }
   },
   "outputs": [
    {
     "data": {
      "text/plain": "           words  tf-idf score\n0             19      0.294053\n1        alcohol      0.323429\n2          avoid      0.516605\n3          based      0.323429\n4           bent      0.384986\n5            bin      0.382666\n6           body      1.029585\n7          cause      0.294053\n8          clean      0.526957\n9         closed      0.382666\n10         colds      0.294053\n11  contaminated      0.462255\n12         cough      0.384986\n13         cover      0.384986\n14         covid      0.294053\n15     disinfect      0.293065\n16       dispose      0.382666\n17          door      0.293065\n18         elbow      0.384986\n19    eliminates      0.504247\n20         enter      1.029585\n21    especially      0.293065\n22          eyes      0.836694\n23       faucets      0.293065\n24           flu      0.294053\n25     following      0.294053\n26    frequently      0.293065\n27         germs      0.504247\n28          good      0.294053\n29          hand      0.323429\n30       handles      0.293065\n31         hands      1.331257\n32       hygiene      0.294053\n33   immediately      0.382666\n34     including      0.504247\n35        infect      1.029585\n36         mouth      1.113092\n37          nose      1.025226\n38        people      0.294053\n39         phone      0.293065\n40          pick      0.522457\n41       protect      0.294053\n42     regularly      0.526957\n43   respiratory      0.294053\n44           rub      0.323429\n45       screens      0.293065\n46        sneeze      0.384986\n47          soap      0.323429\n48      surfaces      0.697079\n49    thoroughly      0.323429\n50        tissue      0.656161\n51         touch      0.522457\n52       touched      0.293065\n53      touching      0.516605\n54      transfer      0.462255\n55          used      0.382666\n56         virus      1.252948\n57       viruses      0.992836\n58          wash      0.603544\n59         water      0.323429",
      "text/html": "<div>\n<style scoped>\n    .dataframe tbody tr th:only-of-type {\n        vertical-align: middle;\n    }\n\n    .dataframe tbody tr th {\n        vertical-align: top;\n    }\n\n    .dataframe thead th {\n        text-align: right;\n    }\n</style>\n<table border=\"1\" class=\"dataframe\">\n  <thead>\n    <tr style=\"text-align: right;\">\n      <th></th>\n      <th>words</th>\n      <th>tf-idf score</th>\n    </tr>\n  </thead>\n  <tbody>\n    <tr>\n      <th>0</th>\n      <td>19</td>\n      <td>0.294053</td>\n    </tr>\n    <tr>\n      <th>1</th>\n      <td>alcohol</td>\n      <td>0.323429</td>\n    </tr>\n    <tr>\n      <th>2</th>\n      <td>avoid</td>\n      <td>0.516605</td>\n    </tr>\n    <tr>\n      <th>3</th>\n      <td>based</td>\n      <td>0.323429</td>\n    </tr>\n    <tr>\n      <th>4</th>\n      <td>bent</td>\n      <td>0.384986</td>\n    </tr>\n    <tr>\n      <th>5</th>\n      <td>bin</td>\n      <td>0.382666</td>\n    </tr>\n    <tr>\n      <th>6</th>\n      <td>body</td>\n      <td>1.029585</td>\n    </tr>\n    <tr>\n      <th>7</th>\n      <td>cause</td>\n      <td>0.294053</td>\n    </tr>\n    <tr>\n      <th>8</th>\n      <td>clean</td>\n      <td>0.526957</td>\n    </tr>\n    <tr>\n      <th>9</th>\n      <td>closed</td>\n      <td>0.382666</td>\n    </tr>\n    <tr>\n      <th>10</th>\n      <td>colds</td>\n      <td>0.294053</td>\n    </tr>\n    <tr>\n      <th>11</th>\n      <td>contaminated</td>\n      <td>0.462255</td>\n    </tr>\n    <tr>\n      <th>12</th>\n      <td>cough</td>\n      <td>0.384986</td>\n    </tr>\n    <tr>\n      <th>13</th>\n      <td>cover</td>\n      <td>0.384986</td>\n    </tr>\n    <tr>\n      <th>14</th>\n      <td>covid</td>\n      <td>0.294053</td>\n    </tr>\n    <tr>\n      <th>15</th>\n      <td>disinfect</td>\n      <td>0.293065</td>\n    </tr>\n    <tr>\n      <th>16</th>\n      <td>dispose</td>\n      <td>0.382666</td>\n    </tr>\n    <tr>\n      <th>17</th>\n      <td>door</td>\n      <td>0.293065</td>\n    </tr>\n    <tr>\n      <th>18</th>\n      <td>elbow</td>\n      <td>0.384986</td>\n    </tr>\n    <tr>\n      <th>19</th>\n      <td>eliminates</td>\n      <td>0.504247</td>\n    </tr>\n    <tr>\n      <th>20</th>\n      <td>enter</td>\n      <td>1.029585</td>\n    </tr>\n    <tr>\n      <th>21</th>\n      <td>especially</td>\n      <td>0.293065</td>\n    </tr>\n    <tr>\n      <th>22</th>\n      <td>eyes</td>\n      <td>0.836694</td>\n    </tr>\n    <tr>\n      <th>23</th>\n      <td>faucets</td>\n      <td>0.293065</td>\n    </tr>\n    <tr>\n      <th>24</th>\n      <td>flu</td>\n      <td>0.294053</td>\n    </tr>\n    <tr>\n      <th>25</th>\n      <td>following</td>\n      <td>0.294053</td>\n    </tr>\n    <tr>\n      <th>26</th>\n      <td>frequently</td>\n      <td>0.293065</td>\n    </tr>\n    <tr>\n      <th>27</th>\n      <td>germs</td>\n      <td>0.504247</td>\n    </tr>\n    <tr>\n      <th>28</th>\n      <td>good</td>\n      <td>0.294053</td>\n    </tr>\n    <tr>\n      <th>29</th>\n      <td>hand</td>\n      <td>0.323429</td>\n    </tr>\n    <tr>\n      <th>30</th>\n      <td>handles</td>\n      <td>0.293065</td>\n    </tr>\n    <tr>\n      <th>31</th>\n      <td>hands</td>\n      <td>1.331257</td>\n    </tr>\n    <tr>\n      <th>32</th>\n      <td>hygiene</td>\n      <td>0.294053</td>\n    </tr>\n    <tr>\n      <th>33</th>\n      <td>immediately</td>\n      <td>0.382666</td>\n    </tr>\n    <tr>\n      <th>34</th>\n      <td>including</td>\n      <td>0.504247</td>\n    </tr>\n    <tr>\n      <th>35</th>\n      <td>infect</td>\n      <td>1.029585</td>\n    </tr>\n    <tr>\n      <th>36</th>\n      <td>mouth</td>\n      <td>1.113092</td>\n    </tr>\n    <tr>\n      <th>37</th>\n      <td>nose</td>\n      <td>1.025226</td>\n    </tr>\n    <tr>\n      <th>38</th>\n      <td>people</td>\n      <td>0.294053</td>\n    </tr>\n    <tr>\n      <th>39</th>\n      <td>phone</td>\n      <td>0.293065</td>\n    </tr>\n    <tr>\n      <th>40</th>\n      <td>pick</td>\n      <td>0.522457</td>\n    </tr>\n    <tr>\n      <th>41</th>\n      <td>protect</td>\n      <td>0.294053</td>\n    </tr>\n    <tr>\n      <th>42</th>\n      <td>regularly</td>\n      <td>0.526957</td>\n    </tr>\n    <tr>\n      <th>43</th>\n      <td>respiratory</td>\n      <td>0.294053</td>\n    </tr>\n    <tr>\n      <th>44</th>\n      <td>rub</td>\n      <td>0.323429</td>\n    </tr>\n    <tr>\n      <th>45</th>\n      <td>screens</td>\n      <td>0.293065</td>\n    </tr>\n    <tr>\n      <th>46</th>\n      <td>sneeze</td>\n      <td>0.384986</td>\n    </tr>\n    <tr>\n      <th>47</th>\n      <td>soap</td>\n      <td>0.323429</td>\n    </tr>\n    <tr>\n      <th>48</th>\n      <td>surfaces</td>\n      <td>0.697079</td>\n    </tr>\n    <tr>\n      <th>49</th>\n      <td>thoroughly</td>\n      <td>0.323429</td>\n    </tr>\n    <tr>\n      <th>50</th>\n      <td>tissue</td>\n      <td>0.656161</td>\n    </tr>\n    <tr>\n      <th>51</th>\n      <td>touch</td>\n      <td>0.522457</td>\n    </tr>\n    <tr>\n      <th>52</th>\n      <td>touched</td>\n      <td>0.293065</td>\n    </tr>\n    <tr>\n      <th>53</th>\n      <td>touching</td>\n      <td>0.516605</td>\n    </tr>\n    <tr>\n      <th>54</th>\n      <td>transfer</td>\n      <td>0.462255</td>\n    </tr>\n    <tr>\n      <th>55</th>\n      <td>used</td>\n      <td>0.382666</td>\n    </tr>\n    <tr>\n      <th>56</th>\n      <td>virus</td>\n      <td>1.252948</td>\n    </tr>\n    <tr>\n      <th>57</th>\n      <td>viruses</td>\n      <td>0.992836</td>\n    </tr>\n    <tr>\n      <th>58</th>\n      <td>wash</td>\n      <td>0.603544</td>\n    </tr>\n    <tr>\n      <th>59</th>\n      <td>water</td>\n      <td>0.323429</td>\n    </tr>\n  </tbody>\n</table>\n</div>"
     },
     "execution_count": 744,
     "metadata": {},
     "output_type": "execute_result"
    }
   ],
   "source": [
    "word_count"
   ]
  },
  {
   "cell_type": "code",
   "execution_count": 745,
   "metadata": {
    "pycharm": {
     "name": "#%%\n"
    }
   },
   "outputs": [
    {
     "data": {
      "text/plain": "           words  tf-idf score\n31         hands      1.331257\n56         virus      1.252948\n36         mouth      1.113092\n20         enter      1.029585\n35        infect      1.029585\n6           body      1.029585\n37          nose      1.025226\n57       viruses      0.992836\n22          eyes      0.836694\n48      surfaces      0.697079\n50        tissue      0.656161\n58          wash      0.603544\n42     regularly      0.526957\n8          clean      0.526957\n51         touch      0.522457\n40          pick      0.522457\n53      touching      0.516605\n2          avoid      0.516605\n34     including      0.504247\n19    eliminates      0.504247\n27         germs      0.504247\n11  contaminated      0.462255\n54      transfer      0.462255\n18         elbow      0.384986\n13         cover      0.384986\n12         cough      0.384986\n4           bent      0.384986\n46        sneeze      0.384986\n5            bin      0.382666\n33   immediately      0.382666\n16       dispose      0.382666\n9         closed      0.382666\n55          used      0.382666\n3          based      0.323429\n44           rub      0.323429\n47          soap      0.323429\n1        alcohol      0.323429\n29          hand      0.323429\n49    thoroughly      0.323429\n59         water      0.323429\n43   respiratory      0.294053\n0             19      0.294053\n41       protect      0.294053\n38        people      0.294053\n7          cause      0.294053\n32       hygiene      0.294053\n28          good      0.294053\n10         colds      0.294053\n25     following      0.294053\n24           flu      0.294053\n14         covid      0.294053\n17          door      0.293065\n15     disinfect      0.293065\n23       faucets      0.293065\n21    especially      0.293065\n52       touched      0.293065\n39         phone      0.293065\n26    frequently      0.293065\n45       screens      0.293065\n30       handles      0.293065",
      "text/html": "<div>\n<style scoped>\n    .dataframe tbody tr th:only-of-type {\n        vertical-align: middle;\n    }\n\n    .dataframe tbody tr th {\n        vertical-align: top;\n    }\n\n    .dataframe thead th {\n        text-align: right;\n    }\n</style>\n<table border=\"1\" class=\"dataframe\">\n  <thead>\n    <tr style=\"text-align: right;\">\n      <th></th>\n      <th>words</th>\n      <th>tf-idf score</th>\n    </tr>\n  </thead>\n  <tbody>\n    <tr>\n      <th>31</th>\n      <td>hands</td>\n      <td>1.331257</td>\n    </tr>\n    <tr>\n      <th>56</th>\n      <td>virus</td>\n      <td>1.252948</td>\n    </tr>\n    <tr>\n      <th>36</th>\n      <td>mouth</td>\n      <td>1.113092</td>\n    </tr>\n    <tr>\n      <th>20</th>\n      <td>enter</td>\n      <td>1.029585</td>\n    </tr>\n    <tr>\n      <th>35</th>\n      <td>infect</td>\n      <td>1.029585</td>\n    </tr>\n    <tr>\n      <th>6</th>\n      <td>body</td>\n      <td>1.029585</td>\n    </tr>\n    <tr>\n      <th>37</th>\n      <td>nose</td>\n      <td>1.025226</td>\n    </tr>\n    <tr>\n      <th>57</th>\n      <td>viruses</td>\n      <td>0.992836</td>\n    </tr>\n    <tr>\n      <th>22</th>\n      <td>eyes</td>\n      <td>0.836694</td>\n    </tr>\n    <tr>\n      <th>48</th>\n      <td>surfaces</td>\n      <td>0.697079</td>\n    </tr>\n    <tr>\n      <th>50</th>\n      <td>tissue</td>\n      <td>0.656161</td>\n    </tr>\n    <tr>\n      <th>58</th>\n      <td>wash</td>\n      <td>0.603544</td>\n    </tr>\n    <tr>\n      <th>42</th>\n      <td>regularly</td>\n      <td>0.526957</td>\n    </tr>\n    <tr>\n      <th>8</th>\n      <td>clean</td>\n      <td>0.526957</td>\n    </tr>\n    <tr>\n      <th>51</th>\n      <td>touch</td>\n      <td>0.522457</td>\n    </tr>\n    <tr>\n      <th>40</th>\n      <td>pick</td>\n      <td>0.522457</td>\n    </tr>\n    <tr>\n      <th>53</th>\n      <td>touching</td>\n      <td>0.516605</td>\n    </tr>\n    <tr>\n      <th>2</th>\n      <td>avoid</td>\n      <td>0.516605</td>\n    </tr>\n    <tr>\n      <th>34</th>\n      <td>including</td>\n      <td>0.504247</td>\n    </tr>\n    <tr>\n      <th>19</th>\n      <td>eliminates</td>\n      <td>0.504247</td>\n    </tr>\n    <tr>\n      <th>27</th>\n      <td>germs</td>\n      <td>0.504247</td>\n    </tr>\n    <tr>\n      <th>11</th>\n      <td>contaminated</td>\n      <td>0.462255</td>\n    </tr>\n    <tr>\n      <th>54</th>\n      <td>transfer</td>\n      <td>0.462255</td>\n    </tr>\n    <tr>\n      <th>18</th>\n      <td>elbow</td>\n      <td>0.384986</td>\n    </tr>\n    <tr>\n      <th>13</th>\n      <td>cover</td>\n      <td>0.384986</td>\n    </tr>\n    <tr>\n      <th>12</th>\n      <td>cough</td>\n      <td>0.384986</td>\n    </tr>\n    <tr>\n      <th>4</th>\n      <td>bent</td>\n      <td>0.384986</td>\n    </tr>\n    <tr>\n      <th>46</th>\n      <td>sneeze</td>\n      <td>0.384986</td>\n    </tr>\n    <tr>\n      <th>5</th>\n      <td>bin</td>\n      <td>0.382666</td>\n    </tr>\n    <tr>\n      <th>33</th>\n      <td>immediately</td>\n      <td>0.382666</td>\n    </tr>\n    <tr>\n      <th>16</th>\n      <td>dispose</td>\n      <td>0.382666</td>\n    </tr>\n    <tr>\n      <th>9</th>\n      <td>closed</td>\n      <td>0.382666</td>\n    </tr>\n    <tr>\n      <th>55</th>\n      <td>used</td>\n      <td>0.382666</td>\n    </tr>\n    <tr>\n      <th>3</th>\n      <td>based</td>\n      <td>0.323429</td>\n    </tr>\n    <tr>\n      <th>44</th>\n      <td>rub</td>\n      <td>0.323429</td>\n    </tr>\n    <tr>\n      <th>47</th>\n      <td>soap</td>\n      <td>0.323429</td>\n    </tr>\n    <tr>\n      <th>1</th>\n      <td>alcohol</td>\n      <td>0.323429</td>\n    </tr>\n    <tr>\n      <th>29</th>\n      <td>hand</td>\n      <td>0.323429</td>\n    </tr>\n    <tr>\n      <th>49</th>\n      <td>thoroughly</td>\n      <td>0.323429</td>\n    </tr>\n    <tr>\n      <th>59</th>\n      <td>water</td>\n      <td>0.323429</td>\n    </tr>\n    <tr>\n      <th>43</th>\n      <td>respiratory</td>\n      <td>0.294053</td>\n    </tr>\n    <tr>\n      <th>0</th>\n      <td>19</td>\n      <td>0.294053</td>\n    </tr>\n    <tr>\n      <th>41</th>\n      <td>protect</td>\n      <td>0.294053</td>\n    </tr>\n    <tr>\n      <th>38</th>\n      <td>people</td>\n      <td>0.294053</td>\n    </tr>\n    <tr>\n      <th>7</th>\n      <td>cause</td>\n      <td>0.294053</td>\n    </tr>\n    <tr>\n      <th>32</th>\n      <td>hygiene</td>\n      <td>0.294053</td>\n    </tr>\n    <tr>\n      <th>28</th>\n      <td>good</td>\n      <td>0.294053</td>\n    </tr>\n    <tr>\n      <th>10</th>\n      <td>colds</td>\n      <td>0.294053</td>\n    </tr>\n    <tr>\n      <th>25</th>\n      <td>following</td>\n      <td>0.294053</td>\n    </tr>\n    <tr>\n      <th>24</th>\n      <td>flu</td>\n      <td>0.294053</td>\n    </tr>\n    <tr>\n      <th>14</th>\n      <td>covid</td>\n      <td>0.294053</td>\n    </tr>\n    <tr>\n      <th>17</th>\n      <td>door</td>\n      <td>0.293065</td>\n    </tr>\n    <tr>\n      <th>15</th>\n      <td>disinfect</td>\n      <td>0.293065</td>\n    </tr>\n    <tr>\n      <th>23</th>\n      <td>faucets</td>\n      <td>0.293065</td>\n    </tr>\n    <tr>\n      <th>21</th>\n      <td>especially</td>\n      <td>0.293065</td>\n    </tr>\n    <tr>\n      <th>52</th>\n      <td>touched</td>\n      <td>0.293065</td>\n    </tr>\n    <tr>\n      <th>39</th>\n      <td>phone</td>\n      <td>0.293065</td>\n    </tr>\n    <tr>\n      <th>26</th>\n      <td>frequently</td>\n      <td>0.293065</td>\n    </tr>\n    <tr>\n      <th>45</th>\n      <td>screens</td>\n      <td>0.293065</td>\n    </tr>\n    <tr>\n      <th>30</th>\n      <td>handles</td>\n      <td>0.293065</td>\n    </tr>\n  </tbody>\n</table>\n</div>"
     },
     "execution_count": 745,
     "metadata": {},
     "output_type": "execute_result"
    }
   ],
   "source": [
    "word_count.sort_values(by=['tf-idf score'], ascending=False)"
   ]
  },
  {
   "cell_type": "code",
   "execution_count": 745,
   "metadata": {
    "pycharm": {
     "name": "#%%\n"
    }
   },
   "outputs": [],
   "source": []
  },
  {
   "cell_type": "markdown",
   "metadata": {
    "pycharm": {
     "name": "#%% md\n"
    }
   },
   "source": [
    "Done!"
   ]
  },
  {
   "cell_type": "code",
   "execution_count": 745,
   "metadata": {
    "pycharm": {
     "name": "#%%\n"
    }
   },
   "outputs": [],
   "source": []
  }
 ],
 "metadata": {
  "kernelspec": {
   "display_name": "Python 3",
   "language": "python",
   "name": "python3"
  },
  "language_info": {
   "codemirror_mode": {
    "name": "ipython",
    "version": 3
   },
   "file_extension": ".py",
   "mimetype": "text/x-python",
   "name": "python",
   "nbconvert_exporter": "python",
   "pygments_lexer": "ipython3",
   "version": "3.8.8"
  }
 },
 "nbformat": 4,
 "nbformat_minor": 2
}