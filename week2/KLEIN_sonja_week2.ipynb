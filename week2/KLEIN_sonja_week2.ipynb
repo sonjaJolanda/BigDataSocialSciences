{
 "cells": [
  {
   "cell_type": "markdown",
   "metadata": {
    "pycharm": {
     "name": "#%% md\n"
    }
   },
   "source": [
    "# Week 2. Web Crawling - Sonja Klein, Lecture on 08.09.2022"
   ]
  },
  {
   "cell_type": "markdown",
   "metadata": {
    "pycharm": {
     "name": "#%% md\n"
    }
   },
   "source": [
    "## HTTP request"
   ]
  },
  {
   "cell_type": "code",
   "execution_count": 1008,
   "metadata": {
    "pycharm": {
     "name": "#%%\n"
    }
   },
   "outputs": [],
   "source": [
    "import requests\n",
    "page = requests.get(\"http://quotes.toscrape.com/\")\n",
    "# page # <Repoinse [200]>\n",
    "# print(page.content) # the whole html"
   ]
  },
  {
   "cell_type": "markdown",
   "metadata": {
    "pycharm": {
     "name": "#%% md\n"
    }
   },
   "source": [
    "## HTML Parsing"
   ]
  },
  {
   "cell_type": "code",
   "execution_count": 1009,
   "metadata": {
    "pycharm": {
     "name": "#%%\n"
    }
   },
   "outputs": [],
   "source": [
    "from bs4 import BeautifulSoup as bs # import BeautifulSoup library"
   ]
  },
  {
   "cell_type": "code",
   "execution_count": 1010,
   "outputs": [],
   "source": [
    "soup = bs(page.content, 'html.parser') # get parsed version of our data using HTML parser"
   ],
   "metadata": {
    "collapsed": false,
    "pycharm": {
     "name": "#%%\n"
    }
   }
  },
  {
   "cell_type": "code",
   "execution_count": 1011,
   "metadata": {
    "pycharm": {
     "name": "#%%\n"
    }
   },
   "outputs": [],
   "source": [
    "# print(soup) # compared to the non parsed version this now ToDo find differences"
   ]
  },
  {
   "cell_type": "code",
   "execution_count": 1012,
   "metadata": {
    "pycharm": {
     "name": "#%%\n"
    }
   },
   "outputs": [],
   "source": [
    "# soup.head # navigate through the tree. (or soup.footer or soup.body)"
   ]
  },
  {
   "cell_type": "code",
   "execution_count": 1013,
   "metadata": {
    "pycharm": {
     "name": "#%%\n"
    }
   },
   "outputs": [],
   "source": [
    "# print(soup.prettify()) # compared to the non prettified version this now ToDo find differences"
   ]
  },
  {
   "cell_type": "markdown",
   "metadata": {
    "pycharm": {
     "name": "#%% md\n"
    }
   },
   "source": [
    "## storing target information"
   ]
  },
  {
   "cell_type": "markdown",
   "metadata": {
    "pycharm": {
     "name": "#%% md\n"
    }
   },
   "source": [
    "Let's try finding the first quote that is available."
   ]
  },
  {
   "cell_type": "code",
   "execution_count": 1014,
   "metadata": {
    "pycharm": {
     "name": "#%%\n"
    }
   },
   "outputs": [],
   "source": [
    "# soup.find_all('span', class='text')"
   ]
  },
  {
   "cell_type": "markdown",
   "metadata": {
    "pycharm": {
     "name": "#%% md\n"
    }
   },
   "source": [
    "error! --> ***SyntaxError:invalid syntax***  <br>\n",
    "use underscore after our code of concern (class) <br>\n",
    "Single post underscore is used for naming your variables as Python Keywords and to avoid the clashes by adding an underscore at last of your variable name."
   ]
  },
  {
   "cell_type": "code",
   "execution_count": 1015,
   "metadata": {
    "pycharm": {
     "name": "#%%\n"
    }
   },
   "outputs": [
    {
     "name": "stdout",
     "output_type": "stream",
     "text": [
      "<span class=\"text\" itemprop=\"text\">“The world as we have created it is a process of our thinking. It cannot be changed without changing our thinking.”</span>\n"
     ]
    }
   ],
   "source": [
    "print(soup.find('span', class_='text'))  # (element name, attributes) -> i think"
   ]
  },
  {
   "cell_type": "code",
   "execution_count": 1016,
   "metadata": {
    "pycharm": {
     "name": "#%%\n"
    }
   },
   "outputs": [],
   "source": [
    "# print(soup.find_all('span', class_='text'))  # (element name, attributes) -> i think"
   ]
  },
  {
   "cell_type": "code",
   "execution_count": 1017,
   "metadata": {
    "pycharm": {
     "name": "#%%\n"
    }
   },
   "outputs": [],
   "source": [
    "# print(soup.find_all('span', itemprop='text')) # same thing"
   ]
  },
  {
   "cell_type": "code",
   "execution_count": 1018,
   "metadata": {
    "pycharm": {
     "name": "#%%\n"
    }
   },
   "outputs": [],
   "source": [
    "txt = soup.find_all('span', itemprop='text')"
   ]
  },
  {
   "cell_type": "markdown",
   "metadata": {
    "pycharm": {
     "name": "#%% md\n"
    }
   },
   "source": [
    "This still looks messy to me. I want to get the text out from txt variable. <br>\n",
    "-> loop through the txt and for each element in a list get_text() out from it.\n",
    "-> save the quotes in a variables called <code>quotes</code> (use append to list)."
   ]
  },
  {
   "cell_type": "code",
   "execution_count": 1019,
   "metadata": {
    "pycharm": {
     "name": "#%%\n"
    }
   },
   "outputs": [],
   "source": [
    "quotes = []"
   ]
  },
  {
   "cell_type": "code",
   "execution_count": 1020,
   "metadata": {
    "pycharm": {
     "name": "#%%\n"
    }
   },
   "outputs": [],
   "source": [
    "for i in txt:\n",
    "    quotes.append((i.get_text()))"
   ]
  },
  {
   "cell_type": "markdown",
   "metadata": {
    "pycharm": {
     "name": "#%% md\n"
    }
   },
   "source": [
    "## Quotes into dataframe!"
   ]
  },
  {
   "cell_type": "code",
   "execution_count": 1021,
   "metadata": {
    "pycharm": {
     "name": "#%%\n"
    }
   },
   "outputs": [],
   "source": [
    "import pandas as pd # use pandas library to make our variable into a dataframe"
   ]
  },
  {
   "cell_type": "code",
   "execution_count": 1022,
   "metadata": {
    "pycharm": {
     "name": "#%%\n"
    }
   },
   "outputs": [],
   "source": [
    "quotes_df = pd.DataFrame(data=quotes, columns=[\"quotes\"])"
   ]
  },
  {
   "cell_type": "code",
   "execution_count": 1023,
   "metadata": {
    "pycharm": {
     "name": "#%%\n"
    }
   },
   "outputs": [],
   "source": [
    "quotes_df.to_excel('../week2/quotes_excel_sheet_week2.xlsx') # export df to excel"
   ]
  },
  {
   "cell_type": "markdown",
   "metadata": {
    "pycharm": {
     "name": "#%% md\n"
    }
   },
   "source": [
    "## Author names"
   ]
  },
  {
   "cell_type": "code",
   "execution_count": 1024,
   "metadata": {
    "pycharm": {
     "name": "#%%\n"
    }
   },
   "outputs": [],
   "source": [
    "authors_txt = soup.find_all('small', class_='author')\n",
    "authors = []\n",
    "for i in authors_txt:\n",
    "    authors.append(i.get_text())\n",
    "authors_df = pd.DataFrame(data=authors, columns=[\"authors\"])\n",
    "authors_df.to_excel('../week2/authors_excel_sheet_week2.xlsx')"
   ]
  },
  {
   "cell_type": "markdown",
   "metadata": {
    "pycharm": {
     "name": "#%% md\n"
    }
   },
   "source": [
    "Let's combine our two DFs together -> use concatenation of pandas, which helps us append columns horizontally."
   ]
  },
  {
   "cell_type": "code",
   "execution_count": 1025,
   "metadata": {
    "pycharm": {
     "name": "#%%\n"
    }
   },
   "outputs": [],
   "source": [
    "quotes_and_authors_df = pd.concat([quotes_df, authors_df], axis=1) # axis=1 -> horizontally"
   ]
  },
  {
   "cell_type": "code",
   "execution_count": 1027,
   "metadata": {
    "pycharm": {
     "name": "#%%\n"
    }
   },
   "outputs": [],
   "source": [
    "quotes_and_authors_df.to_excel('../week2/quotes_and_authors_excel_sheet_week2.xlsx')"
   ]
  },
  {
   "cell_type": "markdown",
   "metadata": {
    "pycharm": {
     "name": "#%% md\n"
    }
   },
   "source": [
    "Another way using dictionaries."
   ]
  },
  {
   "cell_type": "code",
   "execution_count": 1028,
   "metadata": {
    "pycharm": {
     "name": "#%%\n"
    }
   },
   "outputs": [],
   "source": [
    "quotes_and_authors_dic = dict(zip(authors, quotes))"
   ]
  },
  {
   "cell_type": "code",
   "execution_count": 1029,
   "metadata": {
    "pycharm": {
     "name": "#%%\n"
    }
   },
   "outputs": [],
   "source": [
    "df_dict = pd.DataFrame(quotes_and_authors_dic, index=[0])"
   ]
  },
  {
   "cell_type": "code",
   "execution_count": 1030,
   "outputs": [],
   "source": [
    "df_dict.to_excel('../week2/q_a_dict_excel_sheet_week2.xlsx')"
   ],
   "metadata": {
    "collapsed": false,
    "pycharm": {
     "name": "#%%\n"
    }
   }
  },
  {
   "cell_type": "code",
   "execution_count": 1031,
   "metadata": {
    "pycharm": {
     "name": "#%%\n"
    }
   },
   "outputs": [],
   "source": [
    "from xlwt import Workbook\n",
    "\n",
    "wb = Workbook()\n",
    "sheet1 = wb.add_sheet('Sheet from the dictionary')\n",
    "\n",
    "counter = 1;\n",
    "for key, value in quotes_and_authors_dic.items():\n",
    "    sheet1.write(counter, 0, key)\n",
    "    sheet1.write(counter, 1, value)\n",
    "    counter += 1\n",
    "\n",
    "wb.save('xlwt q_a_dict_excel_sheet_week2.xlsx')"
   ]
  }
 ],
 "metadata": {
  "kernelspec": {
   "display_name": "Python 3",
   "language": "python",
   "name": "python3"
  },
  "language_info": {
   "codemirror_mode": {
    "name": "ipython",
    "version": 3
   },
   "file_extension": ".py",
   "mimetype": "text/x-python",
   "name": "python",
   "nbconvert_exporter": "python",
   "pygments_lexer": "ipython3",
   "version": "3.8.8"
  }
 },
 "nbformat": 4,
 "nbformat_minor": 2
}